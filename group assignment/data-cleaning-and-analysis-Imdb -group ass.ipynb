{
 "cells": [
  {
   "cell_type": "markdown",
   "metadata": {},
   "source": [
    "<img src=\"./IMDB.jpg\" alt=\"IMDB\" width=\"1600\" height=\"100\">"
   ]
  },
  {
   "cell_type": "markdown",
   "metadata": {},
   "source": [
    "<img src=\"./group name list1.jpg\" alt=\"group mamber list\" width=\"1600\" height=\"100\">"
   ]
  },
  {
   "cell_type": "markdown",
   "metadata": {},
   "source": [
    "<div style=\"background-color:#FFB200; padding:10px; color:black; font-size:80px; \" > \n",
    "    Load  libraries\n",
    "</div>\n",
    "<div style=\"background-color:#FFB200; padding:10px; color:black; font-size:30px; \"> \n",
    "Importing necessary libraries for data manipulation and analysis\n",
    "    <br />\n",
    " And\n",
    "    <br />\n",
    "Importing libraries for data visualization\n",
    "</div>"
   ]
  },
  {
   "cell_type": "code",
   "execution_count": 90,
   "metadata": {
    "_cell_guid": "b1076dfc-b9ad-4769-8c92-a6c4dae69d19",
    "_uuid": "8f2839f25d086af736a60e9eeb907d3b93b6e0e5"
   },
   "outputs": [],
   "source": [
    "#libraries for data manipulation and analysis \n",
    "\n",
    "# NumPy for numerical operations and array handling\n",
    "import numpy as np \n",
    "# Pandas for data manipulation and analysis using DataFrames\n",
    "import pandas as pd \n",
    "\n",
    "# visualization library \n",
    "\n",
    "# Seaborn for statistical data visualization based on Matplotlib\n",
    "import seaborn as sns  \n",
    "# Plotly Express for interactive and expressive visualizations\n",
    "import plotly.express as px  \n",
    "# Plotly Offline module for offline use of Plotly\n",
    "import plotly.offline as pyo \n",
    " # Matplotlib for creating static, interactive, and animated visualizations in Python\n",
    "import matplotlib.pyplot as plt  "
   ]
  },
  {
   "cell_type": "markdown",
   "metadata": {},
   "source": [
    "\n",
    "<div style=\"background-color:#FFB200; padding:10px; color:black; font-size:50px; \" > \n",
    "    The pandas library to read a CSV file DataFrame named 'df' in Python.\n",
    "</div>\n"
   ]
  },
  {
   "cell_type": "code",
   "execution_count": 91,
   "metadata": {},
   "outputs": [],
   "source": [
    "# The `low_memory=False` parameter is used to prevent the library from inferring the data types, which can be helpful for large datasets.\n",
    "\n",
    "df = pd.read_csv('movies.csv', low_memory=False)"
   ]
  },
  {
   "cell_type": "markdown",
   "metadata": {},
   "source": [
    "<div style=\"background-color:#FFB200; padding:10px; color:black; font-size:50px; \" > \n",
    "    The `df.head()` command is used to display the first few rows of the DataFrame 'df'. It provides a quick overview of the structure and contents of the loaded dataset.\n",
    "</div>"
   ]
  },
  {
   "cell_type": "code",
   "execution_count": 92,
   "metadata": {},
   "outputs": [
    {
     "data": {
      "text/html": [
       "<div>\n",
       "<style scoped>\n",
       "    .dataframe tbody tr th:only-of-type {\n",
       "        vertical-align: middle;\n",
       "    }\n",
       "\n",
       "    .dataframe tbody tr th {\n",
       "        vertical-align: top;\n",
       "    }\n",
       "\n",
       "    .dataframe thead th {\n",
       "        text-align: right;\n",
       "    }\n",
       "</style>\n",
       "<table border=\"1\" class=\"dataframe\">\n",
       "  <thead>\n",
       "    <tr style=\"text-align: right;\">\n",
       "      <th></th>\n",
       "      <th>id</th>\n",
       "      <th>name</th>\n",
       "      <th>year</th>\n",
       "      <th>rating</th>\n",
       "      <th>certificate</th>\n",
       "      <th>duration</th>\n",
       "      <th>genre</th>\n",
       "      <th>votes</th>\n",
       "      <th>gross_income</th>\n",
       "      <th>directors_id</th>\n",
       "      <th>directors_name</th>\n",
       "      <th>stars_id</th>\n",
       "      <th>stars_name</th>\n",
       "      <th>description</th>\n",
       "    </tr>\n",
       "  </thead>\n",
       "  <tbody>\n",
       "    <tr>\n",
       "      <th>0</th>\n",
       "      <td>tt4710316</td>\n",
       "      <td>Best in Sex: 2015 AVN Awards</td>\n",
       "      <td>(2015 TV Special)</td>\n",
       "      <td>4.0</td>\n",
       "      <td>TV-MA</td>\n",
       "      <td>94 min</td>\n",
       "      <td>Adult, News</td>\n",
       "      <td>124.0</td>\n",
       "      <td>0</td>\n",
       "      <td>nm1624094</td>\n",
       "      <td>Gary Miller</td>\n",
       "      <td>nm4766272,nm2670531,nm4920605,nm6284246</td>\n",
       "      <td>Farrah Laurel Abraham,Asa Akira,Anikka Albrite...</td>\n",
       "      <td>The hottest adult stars and top adult movies a...</td>\n",
       "    </tr>\n",
       "    <tr>\n",
       "      <th>1</th>\n",
       "      <td>tt1281857</td>\n",
       "      <td>Naughty Novelist</td>\n",
       "      <td>(2008 Video)</td>\n",
       "      <td>3.8</td>\n",
       "      <td>Not Certified</td>\n",
       "      <td>88 min</td>\n",
       "      <td>Adult</td>\n",
       "      <td>174.0</td>\n",
       "      <td>0</td>\n",
       "      <td>nm0045256</td>\n",
       "      <td>John Bacchus</td>\n",
       "      <td>nm0128986,nm1969196,nm0451160,nm6130462</td>\n",
       "      <td>Darian Caine,Jackie Stevens,A.J. Khan,Arrora</td>\n",
       "      <td>Darian is a successful journalist but when she...</td>\n",
       "    </tr>\n",
       "    <tr>\n",
       "      <th>2</th>\n",
       "      <td>tt2294954</td>\n",
       "      <td>2011 AVN Awards Show</td>\n",
       "      <td>(2011 TV Special)</td>\n",
       "      <td>5.7</td>\n",
       "      <td>Not Certified</td>\n",
       "      <td>83 min</td>\n",
       "      <td>Adult, News</td>\n",
       "      <td>39.0</td>\n",
       "      <td>0</td>\n",
       "      <td>nm1624094,nm0754845</td>\n",
       "      <td>Gary Miller,Timothy E. Sabo</td>\n",
       "      <td>nm2200343,nm2670531,nm1267549,nm3585599</td>\n",
       "      <td>Aubrey Addams,Asa Akira,Monique Alexander,Rave...</td>\n",
       "      <td>Add a Plot</td>\n",
       "    </tr>\n",
       "    <tr>\n",
       "      <th>3</th>\n",
       "      <td>tt6843596</td>\n",
       "      <td>Best in Sex: 2017 AVN Awards</td>\n",
       "      <td>(2017 TV Special)</td>\n",
       "      <td>4.9</td>\n",
       "      <td>TV-MA</td>\n",
       "      <td>87 min</td>\n",
       "      <td>Adult, News</td>\n",
       "      <td>225.0</td>\n",
       "      <td>0</td>\n",
       "      <td>nm1624094</td>\n",
       "      <td>Gary Miller</td>\n",
       "      <td>nm5221471,nm2670531,nm4920605,nm3038816</td>\n",
       "      <td>Amirah Adara,Asa Akira,Anikka Albrite,Britney ...</td>\n",
       "      <td>Considered the industry's highest honor, the A...</td>\n",
       "    </tr>\n",
       "    <tr>\n",
       "      <th>4</th>\n",
       "      <td>tt3705604</td>\n",
       "      <td>AVN Awards 2014</td>\n",
       "      <td>(2014 TV Special)</td>\n",
       "      <td>6.7</td>\n",
       "      <td>R</td>\n",
       "      <td>82 min</td>\n",
       "      <td>Adult, News</td>\n",
       "      <td>101.0</td>\n",
       "      <td>0</td>\n",
       "      <td>nm1624094</td>\n",
       "      <td>Gary Miller</td>\n",
       "      <td>nm2670531,nm4920605,nm6284246,nm3992720</td>\n",
       "      <td>Asa Akira,Anikka Albrite,August Ames,Jessie An...</td>\n",
       "      <td>Erotic filmmaking superstars Chanel Preston an...</td>\n",
       "    </tr>\n",
       "  </tbody>\n",
       "</table>\n",
       "</div>"
      ],
      "text/plain": [
       "          id                          name               year  rating  \\\n",
       "0  tt4710316  Best in Sex: 2015 AVN Awards  (2015 TV Special)     4.0   \n",
       "1  tt1281857              Naughty Novelist       (2008 Video)     3.8   \n",
       "2  tt2294954          2011 AVN Awards Show  (2011 TV Special)     5.7   \n",
       "3  tt6843596  Best in Sex: 2017 AVN Awards  (2017 TV Special)     4.9   \n",
       "4  tt3705604               AVN Awards 2014  (2014 TV Special)     6.7   \n",
       "\n",
       "     certificate duration        genre  votes gross_income  \\\n",
       "0          TV-MA   94 min  Adult, News  124.0            0   \n",
       "1  Not Certified   88 min        Adult  174.0            0   \n",
       "2  Not Certified   83 min  Adult, News   39.0            0   \n",
       "3          TV-MA   87 min  Adult, News  225.0            0   \n",
       "4              R   82 min  Adult, News  101.0            0   \n",
       "\n",
       "          directors_id               directors_name  \\\n",
       "0            nm1624094                  Gary Miller   \n",
       "1            nm0045256                 John Bacchus   \n",
       "2  nm1624094,nm0754845  Gary Miller,Timothy E. Sabo   \n",
       "3            nm1624094                  Gary Miller   \n",
       "4            nm1624094                  Gary Miller   \n",
       "\n",
       "                                  stars_id  \\\n",
       "0  nm4766272,nm2670531,nm4920605,nm6284246   \n",
       "1  nm0128986,nm1969196,nm0451160,nm6130462   \n",
       "2  nm2200343,nm2670531,nm1267549,nm3585599   \n",
       "3  nm5221471,nm2670531,nm4920605,nm3038816   \n",
       "4  nm2670531,nm4920605,nm6284246,nm3992720   \n",
       "\n",
       "                                          stars_name  \\\n",
       "0  Farrah Laurel Abraham,Asa Akira,Anikka Albrite...   \n",
       "1       Darian Caine,Jackie Stevens,A.J. Khan,Arrora   \n",
       "2  Aubrey Addams,Asa Akira,Monique Alexander,Rave...   \n",
       "3  Amirah Adara,Asa Akira,Anikka Albrite,Britney ...   \n",
       "4  Asa Akira,Anikka Albrite,August Ames,Jessie An...   \n",
       "\n",
       "                                         description  \n",
       "0  The hottest adult stars and top adult movies a...  \n",
       "1  Darian is a successful journalist but when she...  \n",
       "2                                         Add a Plot  \n",
       "3  Considered the industry's highest honor, the A...  \n",
       "4  Erotic filmmaking superstars Chanel Preston an...  "
      ]
     },
     "execution_count": 92,
     "metadata": {},
     "output_type": "execute_result"
    }
   ],
   "source": [
    "df.head()"
   ]
  },
  {
   "cell_type": "markdown",
   "metadata": {},
   "source": [
    "<div style=\"background-color:#FFB200; padding:10px; color:black; font-size:50px; font-weight : bold ; \" > \n",
    "    \"'df'.head code and  add  style\"\n",
    "</div>\n"
   ]
  },
  {
   "cell_type": "code",
   "execution_count": 93,
   "metadata": {},
   "outputs": [
    {
     "name": "stderr",
     "output_type": "stream",
     "text": [
      "C:\\Users\\Biruk\\AppData\\Local\\Temp\\ipykernel_12960\\1140991062.py:9: FutureWarning:\n",
      "\n",
      "Styler.applymap has been deprecated. Use Styler.map instead.\n",
      "\n"
     ]
    },
    {
     "data": {
      "text/html": [
       "<style type=\"text/css\">\n",
       "#T_20731 thead {\n",
       "  border: 1px solid black;\n",
       "}\n",
       "#T_20731 tbody {\n",
       "  border: 1px solid black;\n",
       "}\n",
       "#T_20731 th:hover {\n",
       "  background-color: lightgray;\n",
       "}\n",
       "#T_20731 td:hover {\n",
       "  background-color: blue;\n",
       "  color: white;\n",
       "  text-decoration: underline;\n",
       "  font-weight: bold;\n",
       "}\n",
       "#T_20731_row0_col0, #T_20731_row0_col1, #T_20731_row0_col2, #T_20731_row0_col3, #T_20731_row0_col4, #T_20731_row0_col5, #T_20731_row0_col6, #T_20731_row0_col7, #T_20731_row0_col8, #T_20731_row0_col9, #T_20731_row0_col10, #T_20731_row0_col11, #T_20731_row0_col12, #T_20731_row0_col13, #T_20731_row1_col0, #T_20731_row1_col1, #T_20731_row1_col2, #T_20731_row1_col3, #T_20731_row1_col4, #T_20731_row1_col5, #T_20731_row1_col6, #T_20731_row1_col7, #T_20731_row1_col8, #T_20731_row1_col9, #T_20731_row1_col10, #T_20731_row1_col11, #T_20731_row1_col12, #T_20731_row1_col13, #T_20731_row2_col0, #T_20731_row2_col1, #T_20731_row2_col2, #T_20731_row2_col3, #T_20731_row2_col4, #T_20731_row2_col5, #T_20731_row2_col6, #T_20731_row2_col7, #T_20731_row2_col8, #T_20731_row2_col9, #T_20731_row2_col10, #T_20731_row2_col11, #T_20731_row2_col12, #T_20731_row2_col13, #T_20731_row3_col0, #T_20731_row3_col1, #T_20731_row3_col2, #T_20731_row3_col3, #T_20731_row3_col4, #T_20731_row3_col5, #T_20731_row3_col6, #T_20731_row3_col7, #T_20731_row3_col8, #T_20731_row3_col9, #T_20731_row3_col10, #T_20731_row3_col11, #T_20731_row3_col12, #T_20731_row3_col13, #T_20731_row4_col0, #T_20731_row4_col1, #T_20731_row4_col2, #T_20731_row4_col3, #T_20731_row4_col4, #T_20731_row4_col5, #T_20731_row4_col6, #T_20731_row4_col7, #T_20731_row4_col8, #T_20731_row4_col9, #T_20731_row4_col10, #T_20731_row4_col11, #T_20731_row4_col12, #T_20731_row4_col13 {\n",
       "  background-color: #FFB200;\n",
       "  color: black;\n",
       "  border: 1px solid black;\n",
       "  padding: 4px;\n",
       "}\n",
       "</style>\n",
       "<table id=\"T_20731\">\n",
       "  <thead>\n",
       "    <tr>\n",
       "      <th class=\"blank level0\" >&nbsp;</th>\n",
       "      <th id=\"T_20731_level0_col0\" class=\"col_heading level0 col0\" >id</th>\n",
       "      <th id=\"T_20731_level0_col1\" class=\"col_heading level0 col1\" >name</th>\n",
       "      <th id=\"T_20731_level0_col2\" class=\"col_heading level0 col2\" >year</th>\n",
       "      <th id=\"T_20731_level0_col3\" class=\"col_heading level0 col3\" >rating</th>\n",
       "      <th id=\"T_20731_level0_col4\" class=\"col_heading level0 col4\" >certificate</th>\n",
       "      <th id=\"T_20731_level0_col5\" class=\"col_heading level0 col5\" >duration</th>\n",
       "      <th id=\"T_20731_level0_col6\" class=\"col_heading level0 col6\" >genre</th>\n",
       "      <th id=\"T_20731_level0_col7\" class=\"col_heading level0 col7\" >votes</th>\n",
       "      <th id=\"T_20731_level0_col8\" class=\"col_heading level0 col8\" >gross_income</th>\n",
       "      <th id=\"T_20731_level0_col9\" class=\"col_heading level0 col9\" >directors_id</th>\n",
       "      <th id=\"T_20731_level0_col10\" class=\"col_heading level0 col10\" >directors_name</th>\n",
       "      <th id=\"T_20731_level0_col11\" class=\"col_heading level0 col11\" >stars_id</th>\n",
       "      <th id=\"T_20731_level0_col12\" class=\"col_heading level0 col12\" >stars_name</th>\n",
       "      <th id=\"T_20731_level0_col13\" class=\"col_heading level0 col13\" >description</th>\n",
       "    </tr>\n",
       "  </thead>\n",
       "  <tbody>\n",
       "    <tr>\n",
       "      <th id=\"T_20731_level0_row0\" class=\"row_heading level0 row0\" >0</th>\n",
       "      <td id=\"T_20731_row0_col0\" class=\"data row0 col0\" >tt4710316</td>\n",
       "      <td id=\"T_20731_row0_col1\" class=\"data row0 col1\" >Best in Sex: 2015 AVN Awards</td>\n",
       "      <td id=\"T_20731_row0_col2\" class=\"data row0 col2\" >(2015 TV Special)</td>\n",
       "      <td id=\"T_20731_row0_col3\" class=\"data row0 col3\" >4.000000</td>\n",
       "      <td id=\"T_20731_row0_col4\" class=\"data row0 col4\" >TV-MA</td>\n",
       "      <td id=\"T_20731_row0_col5\" class=\"data row0 col5\" >94 min</td>\n",
       "      <td id=\"T_20731_row0_col6\" class=\"data row0 col6\" >Adult, News</td>\n",
       "      <td id=\"T_20731_row0_col7\" class=\"data row0 col7\" >124.0</td>\n",
       "      <td id=\"T_20731_row0_col8\" class=\"data row0 col8\" >0</td>\n",
       "      <td id=\"T_20731_row0_col9\" class=\"data row0 col9\" >nm1624094</td>\n",
       "      <td id=\"T_20731_row0_col10\" class=\"data row0 col10\" >Gary Miller</td>\n",
       "      <td id=\"T_20731_row0_col11\" class=\"data row0 col11\" >nm4766272,nm2670531,nm4920605,nm6284246</td>\n",
       "      <td id=\"T_20731_row0_col12\" class=\"data row0 col12\" >Farrah Laurel Abraham,Asa Akira,Anikka Albrite,August Ames</td>\n",
       "      <td id=\"T_20731_row0_col13\" class=\"data row0 col13\" >The hottest adult stars and top adult movies are celebrated at this awards ceremony at the Hard Rock Hotel & Casino in Las Vegas, where everything from Best Big Bust Release, Best Celebrity Sex Tape and Best Orgy are paid tribute to.</td>\n",
       "    </tr>\n",
       "    <tr>\n",
       "      <th id=\"T_20731_level0_row1\" class=\"row_heading level0 row1\" >1</th>\n",
       "      <td id=\"T_20731_row1_col0\" class=\"data row1 col0\" >tt1281857</td>\n",
       "      <td id=\"T_20731_row1_col1\" class=\"data row1 col1\" >Naughty Novelist</td>\n",
       "      <td id=\"T_20731_row1_col2\" class=\"data row1 col2\" >(2008 Video)</td>\n",
       "      <td id=\"T_20731_row1_col3\" class=\"data row1 col3\" >3.800000</td>\n",
       "      <td id=\"T_20731_row1_col4\" class=\"data row1 col4\" >Not Certified</td>\n",
       "      <td id=\"T_20731_row1_col5\" class=\"data row1 col5\" >88 min</td>\n",
       "      <td id=\"T_20731_row1_col6\" class=\"data row1 col6\" >Adult</td>\n",
       "      <td id=\"T_20731_row1_col7\" class=\"data row1 col7\" >174.0</td>\n",
       "      <td id=\"T_20731_row1_col8\" class=\"data row1 col8\" >0</td>\n",
       "      <td id=\"T_20731_row1_col9\" class=\"data row1 col9\" >nm0045256</td>\n",
       "      <td id=\"T_20731_row1_col10\" class=\"data row1 col10\" >John Bacchus</td>\n",
       "      <td id=\"T_20731_row1_col11\" class=\"data row1 col11\" >nm0128986,nm1969196,nm0451160,nm6130462</td>\n",
       "      <td id=\"T_20731_row1_col12\" class=\"data row1 col12\" >Darian Caine,Jackie Stevens,A.J. Khan,Arrora</td>\n",
       "      <td id=\"T_20731_row1_col13\" class=\"data row1 col13\" >Darian is a successful journalist but when she moves to a new town she starts looking for work. When she answers an ad in the local paper she finds the job is writing lesbian erotica and its not long before fantasy becomes reality.</td>\n",
       "    </tr>\n",
       "    <tr>\n",
       "      <th id=\"T_20731_level0_row2\" class=\"row_heading level0 row2\" >2</th>\n",
       "      <td id=\"T_20731_row2_col0\" class=\"data row2 col0\" >tt2294954</td>\n",
       "      <td id=\"T_20731_row2_col1\" class=\"data row2 col1\" >2011 AVN Awards Show</td>\n",
       "      <td id=\"T_20731_row2_col2\" class=\"data row2 col2\" >(2011 TV Special)</td>\n",
       "      <td id=\"T_20731_row2_col3\" class=\"data row2 col3\" >5.700000</td>\n",
       "      <td id=\"T_20731_row2_col4\" class=\"data row2 col4\" >Not Certified</td>\n",
       "      <td id=\"T_20731_row2_col5\" class=\"data row2 col5\" >83 min</td>\n",
       "      <td id=\"T_20731_row2_col6\" class=\"data row2 col6\" >Adult, News</td>\n",
       "      <td id=\"T_20731_row2_col7\" class=\"data row2 col7\" >39.0</td>\n",
       "      <td id=\"T_20731_row2_col8\" class=\"data row2 col8\" >0</td>\n",
       "      <td id=\"T_20731_row2_col9\" class=\"data row2 col9\" >nm1624094,nm0754845</td>\n",
       "      <td id=\"T_20731_row2_col10\" class=\"data row2 col10\" >Gary Miller,Timothy E. Sabo</td>\n",
       "      <td id=\"T_20731_row2_col11\" class=\"data row2 col11\" >nm2200343,nm2670531,nm1267549,nm3585599</td>\n",
       "      <td id=\"T_20731_row2_col12\" class=\"data row2 col12\" >Aubrey Addams,Asa Akira,Monique Alexander,Raven Alexis</td>\n",
       "      <td id=\"T_20731_row2_col13\" class=\"data row2 col13\" >Add a Plot</td>\n",
       "    </tr>\n",
       "    <tr>\n",
       "      <th id=\"T_20731_level0_row3\" class=\"row_heading level0 row3\" >3</th>\n",
       "      <td id=\"T_20731_row3_col0\" class=\"data row3 col0\" >tt6843596</td>\n",
       "      <td id=\"T_20731_row3_col1\" class=\"data row3 col1\" >Best in Sex: 2017 AVN Awards</td>\n",
       "      <td id=\"T_20731_row3_col2\" class=\"data row3 col2\" >(2017 TV Special)</td>\n",
       "      <td id=\"T_20731_row3_col3\" class=\"data row3 col3\" >4.900000</td>\n",
       "      <td id=\"T_20731_row3_col4\" class=\"data row3 col4\" >TV-MA</td>\n",
       "      <td id=\"T_20731_row3_col5\" class=\"data row3 col5\" >87 min</td>\n",
       "      <td id=\"T_20731_row3_col6\" class=\"data row3 col6\" >Adult, News</td>\n",
       "      <td id=\"T_20731_row3_col7\" class=\"data row3 col7\" >225.0</td>\n",
       "      <td id=\"T_20731_row3_col8\" class=\"data row3 col8\" >0</td>\n",
       "      <td id=\"T_20731_row3_col9\" class=\"data row3 col9\" >nm1624094</td>\n",
       "      <td id=\"T_20731_row3_col10\" class=\"data row3 col10\" >Gary Miller</td>\n",
       "      <td id=\"T_20731_row3_col11\" class=\"data row3 col11\" >nm5221471,nm2670531,nm4920605,nm3038816</td>\n",
       "      <td id=\"T_20731_row3_col12\" class=\"data row3 col12\" >Amirah Adara,Asa Akira,Anikka Albrite,Britney Amber</td>\n",
       "      <td id=\"T_20731_row3_col13\" class=\"data row3 col13\" >Considered the industry's highest honor, the AVN Awards celebrates outstanding achievements in the world of adult entertainment in categories that recognize performers, directors, retailers...                See full summary »</td>\n",
       "    </tr>\n",
       "    <tr>\n",
       "      <th id=\"T_20731_level0_row4\" class=\"row_heading level0 row4\" >4</th>\n",
       "      <td id=\"T_20731_row4_col0\" class=\"data row4 col0\" >tt3705604</td>\n",
       "      <td id=\"T_20731_row4_col1\" class=\"data row4 col1\" >AVN Awards 2014</td>\n",
       "      <td id=\"T_20731_row4_col2\" class=\"data row4 col2\" >(2014 TV Special)</td>\n",
       "      <td id=\"T_20731_row4_col3\" class=\"data row4 col3\" >6.700000</td>\n",
       "      <td id=\"T_20731_row4_col4\" class=\"data row4 col4\" >R</td>\n",
       "      <td id=\"T_20731_row4_col5\" class=\"data row4 col5\" >82 min</td>\n",
       "      <td id=\"T_20731_row4_col6\" class=\"data row4 col6\" >Adult, News</td>\n",
       "      <td id=\"T_20731_row4_col7\" class=\"data row4 col7\" >101.0</td>\n",
       "      <td id=\"T_20731_row4_col8\" class=\"data row4 col8\" >0</td>\n",
       "      <td id=\"T_20731_row4_col9\" class=\"data row4 col9\" >nm1624094</td>\n",
       "      <td id=\"T_20731_row4_col10\" class=\"data row4 col10\" >Gary Miller</td>\n",
       "      <td id=\"T_20731_row4_col11\" class=\"data row4 col11\" >nm2670531,nm4920605,nm6284246,nm3992720</td>\n",
       "      <td id=\"T_20731_row4_col12\" class=\"data row4 col12\" >Asa Akira,Anikka Albrite,August Ames,Jessie Andrews</td>\n",
       "      <td id=\"T_20731_row4_col13\" class=\"data row4 col13\" >Erotic filmmaking superstars Chanel Preston and Samantha Saint host the 31st annual adult movie awards from The Joint at the Hard Rock Hotel and Casino in Las Vegas, honoring the best work ...                See full summary »</td>\n",
       "    </tr>\n",
       "  </tbody>\n",
       "</table>\n"
      ],
      "text/plain": [
       "<pandas.io.formats.style.Styler at 0x21d22de2960>"
      ]
     },
     "execution_count": 93,
     "metadata": {},
     "output_type": "execute_result"
    }
   ],
   "source": [
    "# Assuming df is your DataFrame\n",
    "df_head = df.head()\n",
    "\n",
    "# Define a function to apply styles to the DataFrame with customization\n",
    "def apply_styles(val):\n",
    "    return 'background-color: #FFB200; color: black; border: 1px solid black; padding: 4px;'\n",
    "\n",
    "# Apply the styles to the entire DataFrame\n",
    "styled_df = df_head.style.applymap(apply_styles)\n",
    "\n",
    "# Set additional CSS styles for the table and hover effect\n",
    "styled_df.set_table_styles([\n",
    "    {'selector': 'thead', 'props': [('border', '1px solid black')]},\n",
    "    {'selector': 'tbody', 'props': [('border', '1px solid black')]},\n",
    "    {'selector': 'th:hover', 'props': [('background-color', 'lightgray')]},\n",
    "    {'selector': 'td:hover', 'props': [\n",
    "        ('background-color', 'blue'),\n",
    "        ('color', 'white'),\n",
    "        ('text-decoration', 'underline'),\n",
    "        ('font-weight', 'bold')  # Added to make text bold on hover\n",
    "    ]},\n",
    "])\n",
    "\n",
    "# Display the styled DataFrame\n",
    "styled_df\n"
   ]
  },
  {
   "cell_type": "markdown",
   "metadata": {},
   "source": [
    "\n",
    "<div style=\"background-color:#FFB200; padding:10px; color:black; font-size:70px; \" > \n",
    "    The `df.shape` command will output the number of rows and columns in the DataFrame 'df'.\n",
    "</div>"
   ]
  },
  {
   "cell_type": "code",
   "execution_count": 94,
   "metadata": {},
   "outputs": [
    {
     "data": {
      "text/html": [
       "<div id=\"shapeOutput\" style=\"background-color: #FFB200; color: black; border: 1px solid black; padding: 4px; font-weight: bold; font-size: 30px;\" onmouseover=\"this.style.backgroundColor='blue'; this.style.color='white';\" onmouseout=\"this.style.backgroundColor='#FFB200'; this.style.color='black';\">Shape: 2590932 rows, 14 columns</div><script>var shapeOutput = document.getElementById(\"shapeOutput\");shapeOutput.style.transition = \"background-color 0.3s, color 0.3s\";</script>"
      ],
      "text/plain": [
       "<IPython.core.display.HTML object>"
      ]
     },
     "execution_count": 94,
     "metadata": {},
     "output_type": "execute_result"
    }
   ],
   "source": [
    "from IPython.display import HTML\n",
    "\n",
    "# Assuming df is your DataFrame\n",
    "shape_output = df.shape\n",
    "\n",
    "# Define HTML styling with hover effect\n",
    "styled_output = (\n",
    "    f'<div id=\"shapeOutput\" style=\"background-color: #FFB200; color: black; border: 1px solid black; '\n",
    "    f'padding: 4px; font-weight: bold; font-size: 30px;\" '\n",
    "    f'onmouseover=\"this.style.backgroundColor=\\'blue\\'; this.style.color=\\'white\\';\" '\n",
    "    f'onmouseout=\"this.style.backgroundColor=\\'#FFB200\\'; this.style.color=\\'black\\';\">'\n",
    "    f'Shape: {shape_output[0]} rows, {shape_output[1]} columns'\n",
    "    f'</div>'\n",
    "    '<script>'\n",
    "    'var shapeOutput = document.getElementById(\"shapeOutput\");'\n",
    "    'shapeOutput.style.transition = \"background-color 0.3s, color 0.3s\";'\n",
    "    '</script>'\n",
    ")\n",
    "\n",
    "# Display the styled output\n",
    "HTML(styled_output)\n"
   ]
  },
  {
   "cell_type": "markdown",
   "metadata": {},
   "source": [
    "<div style=\"background-color:#FFB200; padding:10px; color:black; font-size:50px; \" > \n",
    "    `df.info()` provides concise information about the DataFrame, including data types, non-null counts, and memory usage.\n",
    "</div>"
   ]
  },
  {
   "cell_type": "code",
   "execution_count": 95,
   "metadata": {},
   "outputs": [
    {
     "name": "stdout",
     "output_type": "stream",
     "text": [
      "<class 'pandas.core.frame.DataFrame'>\n",
      "RangeIndex: 2590932 entries, 0 to 2590931\n",
      "Data columns (total 14 columns):\n",
      " #   Column          Dtype  \n",
      "---  ------          -----  \n",
      " 0   id              object \n",
      " 1   name            object \n",
      " 2   year            object \n",
      " 3   rating          float64\n",
      " 4   certificate     object \n",
      " 5   duration        object \n",
      " 6   genre           object \n",
      " 7   votes           object \n",
      " 8   gross_income    object \n",
      " 9   directors_id    object \n",
      " 10  directors_name  object \n",
      " 11  stars_id        object \n",
      " 12  stars_name      object \n",
      " 13  description     object \n",
      "dtypes: float64(1), object(13)\n",
      "memory usage: 276.7+ MB\n"
     ]
    }
   ],
   "source": [
    "df.info()"
   ]
  },
  {
   "cell_type": "markdown",
   "metadata": {},
   "source": [
    "<div style=\"background-color:#FFB200; padding:10px; color:black; font-size:70px  ; \" > \n",
    "     NULL value check\n",
    "</div>\n",
    "<div style=\"background-color:#FFB200; padding:10px; color:black; font-size:30px; \"> \n",
    "`df.isnull().sum()` counts the number of missing values (NaN) in each column of the DataFrame 'df'.\n",
    "</div>"
   ]
  },
  {
   "cell_type": "code",
   "execution_count": 96,
   "metadata": {},
   "outputs": [
    {
     "data": {
      "text/plain": [
       "id                0\n",
       "name              4\n",
       "year              0\n",
       "rating            0\n",
       "certificate       0\n",
       "duration          0\n",
       "genre             0\n",
       "votes             0\n",
       "gross_income      0\n",
       "directors_id      0\n",
       "directors_name    0\n",
       "stars_id          0\n",
       "stars_name        0\n",
       "description       0\n",
       "dtype: int64"
      ]
     },
     "execution_count": 96,
     "metadata": {},
     "output_type": "execute_result"
    }
   ],
   "source": [
    "df.isnull().sum()"
   ]
  },
  {
   "cell_type": "markdown",
   "metadata": {},
   "source": [
    "<div style=\"background-color:#FFB200; padding:10px; color:black; font-size:80px; \" > \n",
    "    Fixing Gross_Income column\n",
    "</div>\n",
    "<div style=\"background-color:#FFB200; padding:10px; color:black; font-size:30px; \"> \n",
    "This code filters the DataFrame 'df' to include only rows where the 'gross_income' column is not equal to '0' and then displays the first few rows of the filtered DataFrame.\n",
    "</div>"
   ]
  },
  {
   "cell_type": "code",
   "execution_count": 97,
   "metadata": {},
   "outputs": [
    {
     "data": {
      "text/html": [
       "<div>\n",
       "<style scoped>\n",
       "    .dataframe tbody tr th:only-of-type {\n",
       "        vertical-align: middle;\n",
       "    }\n",
       "\n",
       "    .dataframe tbody tr th {\n",
       "        vertical-align: top;\n",
       "    }\n",
       "\n",
       "    .dataframe thead th {\n",
       "        text-align: right;\n",
       "    }\n",
       "</style>\n",
       "<table border=\"1\" class=\"dataframe\">\n",
       "  <thead>\n",
       "    <tr style=\"text-align: right;\">\n",
       "      <th></th>\n",
       "      <th>id</th>\n",
       "      <th>name</th>\n",
       "      <th>year</th>\n",
       "      <th>rating</th>\n",
       "      <th>certificate</th>\n",
       "      <th>duration</th>\n",
       "      <th>genre</th>\n",
       "      <th>votes</th>\n",
       "      <th>gross_income</th>\n",
       "      <th>directors_id</th>\n",
       "      <th>directors_name</th>\n",
       "      <th>stars_id</th>\n",
       "      <th>stars_name</th>\n",
       "      <th>description</th>\n",
       "    </tr>\n",
       "  </thead>\n",
       "  <tbody>\n",
       "    <tr>\n",
       "      <th>63</th>\n",
       "      <td>tt0068646</td>\n",
       "      <td>The Godfather</td>\n",
       "      <td>(1972)</td>\n",
       "      <td>9.2</td>\n",
       "      <td>R</td>\n",
       "      <td>175 min</td>\n",
       "      <td>Crime, Drama</td>\n",
       "      <td>1798749</td>\n",
       "      <td>134,966,411</td>\n",
       "      <td>nm0000338</td>\n",
       "      <td>Francis Ford Coppola</td>\n",
       "      <td>nm0000008,nm0000199,nm0001001,nm0000473</td>\n",
       "      <td>Marlon Brando,Al Pacino,James Caan,Diane Keaton</td>\n",
       "      <td>The aging patriarch of an organized crime dyna...</td>\n",
       "    </tr>\n",
       "    <tr>\n",
       "      <th>64</th>\n",
       "      <td>tt15017118</td>\n",
       "      <td>Dark Winds</td>\n",
       "      <td>(2022– )</td>\n",
       "      <td>8.0</td>\n",
       "      <td>TV-MA</td>\n",
       "      <td>0 min</td>\n",
       "      <td>Crime, Drama, Thriller</td>\n",
       "      <td>1,531</td>\n",
       "      <td>134,966,411</td>\n",
       "      <td>Anonymous</td>\n",
       "      <td>nm0000000</td>\n",
       "      <td>nm0565647,nm3377042,nm3906656,nm1462219</td>\n",
       "      <td>Zahn McClarnon,Kiowa Gordon,Jessica Matten,Dea...</td>\n",
       "      <td>Follows Leaphorn and Chee, two Navajo police o...</td>\n",
       "    </tr>\n",
       "    <tr>\n",
       "      <th>65</th>\n",
       "      <td>tt5574490</td>\n",
       "      <td>Animal Kingdom</td>\n",
       "      <td>(2016–2022)</td>\n",
       "      <td>8.2</td>\n",
       "      <td>TV-MA</td>\n",
       "      <td>60 min</td>\n",
       "      <td>Crime, Drama</td>\n",
       "      <td>33,999</td>\n",
       "      <td>134,966,411</td>\n",
       "      <td>Anonymous</td>\n",
       "      <td>nm0000000</td>\n",
       "      <td>nm0004999,nm4466085,nm1621032,nm6806440</td>\n",
       "      <td>Shawn Hatosy,Ben Robson,Jake Weary,Finn Cole</td>\n",
       "      <td>Centers on a Southern California family, whose...</td>\n",
       "    </tr>\n",
       "    <tr>\n",
       "      <th>66</th>\n",
       "      <td>tt1998372</td>\n",
       "      <td>Under the Banner of Heaven</td>\n",
       "      <td>(2022)</td>\n",
       "      <td>7.5</td>\n",
       "      <td>TV-MA</td>\n",
       "      <td>472 min</td>\n",
       "      <td>Crime, Drama, Mystery</td>\n",
       "      <td>9,916</td>\n",
       "      <td>134,966,411</td>\n",
       "      <td>Anonymous</td>\n",
       "      <td>nm0000000</td>\n",
       "      <td>nm1940449,nm0941777,nm8402992,nm1740112</td>\n",
       "      <td>Andrew Garfield,Sam Worthington,Daisy Edgar-Jo...</td>\n",
       "      <td>A devout detective's faith is tested as he inv...</td>\n",
       "    </tr>\n",
       "    <tr>\n",
       "      <th>67</th>\n",
       "      <td>tt0141842</td>\n",
       "      <td>The Sopranos</td>\n",
       "      <td>(1999–2007)</td>\n",
       "      <td>9.2</td>\n",
       "      <td>TV-MA</td>\n",
       "      <td>55 min</td>\n",
       "      <td>Crime, Drama</td>\n",
       "      <td>377,225</td>\n",
       "      <td>134,966,411</td>\n",
       "      <td>Anonymous</td>\n",
       "      <td>nm0000000</td>\n",
       "      <td>nm0001254,nm0000966,nm0004908,nm0408284</td>\n",
       "      <td>James Gandolfini,Lorraine Bracco,Edie Falco,Mi...</td>\n",
       "      <td>New Jersey mob boss Tony Soprano deals with pe...</td>\n",
       "    </tr>\n",
       "  </tbody>\n",
       "</table>\n",
       "</div>"
      ],
      "text/plain": [
       "            id                        name         year  rating certificate  \\\n",
       "63   tt0068646               The Godfather       (1972)     9.2           R   \n",
       "64  tt15017118                  Dark Winds     (2022– )     8.0       TV-MA   \n",
       "65   tt5574490              Animal Kingdom  (2016–2022)     8.2       TV-MA   \n",
       "66   tt1998372  Under the Banner of Heaven       (2022)     7.5       TV-MA   \n",
       "67   tt0141842                The Sopranos  (1999–2007)     9.2       TV-MA   \n",
       "\n",
       "   duration                   genre    votes gross_income directors_id  \\\n",
       "63  175 min            Crime, Drama  1798749  134,966,411    nm0000338   \n",
       "64    0 min  Crime, Drama, Thriller    1,531  134,966,411    Anonymous   \n",
       "65   60 min            Crime, Drama   33,999  134,966,411    Anonymous   \n",
       "66  472 min   Crime, Drama, Mystery    9,916  134,966,411    Anonymous   \n",
       "67   55 min            Crime, Drama  377,225  134,966,411    Anonymous   \n",
       "\n",
       "          directors_name                                 stars_id  \\\n",
       "63  Francis Ford Coppola  nm0000008,nm0000199,nm0001001,nm0000473   \n",
       "64             nm0000000  nm0565647,nm3377042,nm3906656,nm1462219   \n",
       "65             nm0000000  nm0004999,nm4466085,nm1621032,nm6806440   \n",
       "66             nm0000000  nm1940449,nm0941777,nm8402992,nm1740112   \n",
       "67             nm0000000  nm0001254,nm0000966,nm0004908,nm0408284   \n",
       "\n",
       "                                           stars_name  \\\n",
       "63    Marlon Brando,Al Pacino,James Caan,Diane Keaton   \n",
       "64  Zahn McClarnon,Kiowa Gordon,Jessica Matten,Dea...   \n",
       "65       Shawn Hatosy,Ben Robson,Jake Weary,Finn Cole   \n",
       "66  Andrew Garfield,Sam Worthington,Daisy Edgar-Jo...   \n",
       "67  James Gandolfini,Lorraine Bracco,Edie Falco,Mi...   \n",
       "\n",
       "                                          description  \n",
       "63  The aging patriarch of an organized crime dyna...  \n",
       "64  Follows Leaphorn and Chee, two Navajo police o...  \n",
       "65  Centers on a Southern California family, whose...  \n",
       "66  A devout detective's faith is tested as he inv...  \n",
       "67  New Jersey mob boss Tony Soprano deals with pe...  "
      ]
     },
     "execution_count": 97,
     "metadata": {},
     "output_type": "execute_result"
    }
   ],
   "source": [
    "df[df['gross_income']!='0'].head()"
   ]
  },
  {
   "cell_type": "markdown",
   "metadata": {},
   "source": [
    "<div style=\"background-color:#FFB200; padding:10px; color:black; font-size:30px; \"> \n",
    "This code performs data cleaning on the 'gross_income' column of the DataFrame 'df'. It removes commas, dollar signs, and 'M' (for million) from the values, converts them to numeric format, and assigns the cleaned values back to the 'gross_income' column. Finally, it checks the data types of the DataFrame columns using `df.dtypes`.\n",
    "</div>"
   ]
  },
  {
   "cell_type": "code",
   "execution_count": 98,
   "metadata": {},
   "outputs": [
    {
     "data": {
      "text/plain": [
       "id                 object\n",
       "name               object\n",
       "year               object\n",
       "rating            float64\n",
       "certificate        object\n",
       "duration           object\n",
       "genre              object\n",
       "votes              object\n",
       "gross_income      float64\n",
       "directors_id       object\n",
       "directors_name     object\n",
       "stars_id           object\n",
       "stars_name         object\n",
       "description        object\n",
       "dtype: object"
      ]
     },
     "execution_count": 98,
     "metadata": {},
     "output_type": "execute_result"
    }
   ],
   "source": [
    "# Creating a list 'rev' to store gross income values\n",
    "rev = []\n",
    "for i in df['gross_income'].values:\n",
    "    rev.append(i)\n",
    "\n",
    "# Removing commas from revenue values\n",
    "rev_c = []\n",
    "for i in rev:\n",
    "    if ',' in i:\n",
    "        j = i.replace(',', '')\n",
    "        rev_c.append(j)\n",
    "    else:\n",
    "        rev_c.append(i)\n",
    "\n",
    "# Removing dollar signs from revenue values\n",
    "rev_d = []\n",
    "for i in rev_c:\n",
    "    if '$' in i:\n",
    "        j = i.replace('$', '')\n",
    "        rev_d.append(j)\n",
    "    else:\n",
    "        rev_d.append(i)\n",
    "\n",
    "# Converting 'M' (million) to numeric values in revenue\n",
    "rev_m = []\n",
    "for i in rev_d:\n",
    "    if 'M' in i:\n",
    "        j = i.replace('M', '')\n",
    "        j = float(j) * 1000000\n",
    "        rev_m.append(j)\n",
    "    else:\n",
    "        rev_m.append(i)\n",
    "\n",
    "# Assigning the clean list as the value for the 'gross_income' column\n",
    "df['gross_income'] = rev_m\n",
    "\n",
    "# Converting 'gross_income' to float data type\n",
    "df['gross_income'] = df['gross_income'].astype(float)\n",
    "\n",
    "# Checking the data types of DataFrame columns\n",
    "df.dtypes\n"
   ]
  },
  {
   "cell_type": "markdown",
   "metadata": {},
   "source": [
    "<div style=\"background-color:#FFB200; padding:10px; color:black; font-size:80px; \" > \n",
    "    Fixing Votes column\n",
    "</div>\n",
    "<div style=\"background-color:#FFB200; padding:10px; color:black; font-size:30px; \"> \n",
    "This code snippet is cleaning the 'votes' column in the DataFrame 'df'. It removes commas from the values, converts them to float, and then to integer. The final section checks the data types of the DataFrame columns using `df.dtypes`.\n",
    "</div>"
   ]
  },
  {
   "cell_type": "code",
   "execution_count": 99,
   "metadata": {},
   "outputs": [
    {
     "data": {
      "text/plain": [
       "id                 object\n",
       "name               object\n",
       "year               object\n",
       "rating            float64\n",
       "certificate        object\n",
       "duration           object\n",
       "genre              object\n",
       "votes               int32\n",
       "gross_income      float64\n",
       "directors_id       object\n",
       "directors_name     object\n",
       "stars_id           object\n",
       "stars_name         object\n",
       "description        object\n",
       "dtype: object"
      ]
     },
     "execution_count": 99,
     "metadata": {},
     "output_type": "execute_result"
    }
   ],
   "source": [
    "# Creating a list 'votesn' to store votes values\n",
    "votesn = []\n",
    "for i in df['votes']:\n",
    "    votesn.append(i)\n",
    "\n",
    "# Removing commas from vote values\n",
    "v1 = []\n",
    "for i in votesn:\n",
    "    if ',' in i:\n",
    "        j = i.replace(',', '')\n",
    "        v1.append(j)\n",
    "    else:\n",
    "        v1.append(i)\n",
    "\n",
    "# Assigning the cleaned list as the value for the 'votes' column\n",
    "df['votes'] = v1\n",
    "\n",
    "# Converting 'votes' to float data type\n",
    "df['votes'] = df['votes'].astype(float)\n",
    "\n",
    "# Converting 'votes' to integer data type\n",
    "df['votes'] = df['votes'].astype(int)\n",
    "\n",
    "# Checking the data types of DataFrame columns\n",
    "df.dtypes\n"
   ]
  },
  {
   "cell_type": "markdown",
   "metadata": {},
   "source": [
    "<div style=\"background-color:#FFB200; padding:10px; color:black; font-size:80px; \" > \n",
    "    Extracting Digit from Year column\n",
    "</div>\n",
    "<div style=\"background-color:#FFB200; padding:10px; color:black; font-size:30px; \"> \n",
    "This code extracts only the numerical part from the 'year' column in the DataFrame 'df'. It removes any non-numeric characters from the 'year' column values. The result is then assigned back to the 'year' column, and the first few rows of the DataFrame are displayed using `df.head()`.\n",
    "</div>"
   ]
  },
  {
   "cell_type": "code",
   "execution_count": 100,
   "metadata": {},
   "outputs": [
    {
     "data": {
      "text/html": [
       "<div>\n",
       "<style scoped>\n",
       "    .dataframe tbody tr th:only-of-type {\n",
       "        vertical-align: middle;\n",
       "    }\n",
       "\n",
       "    .dataframe tbody tr th {\n",
       "        vertical-align: top;\n",
       "    }\n",
       "\n",
       "    .dataframe thead th {\n",
       "        text-align: right;\n",
       "    }\n",
       "</style>\n",
       "<table border=\"1\" class=\"dataframe\">\n",
       "  <thead>\n",
       "    <tr style=\"text-align: right;\">\n",
       "      <th></th>\n",
       "      <th>id</th>\n",
       "      <th>name</th>\n",
       "      <th>year</th>\n",
       "      <th>rating</th>\n",
       "      <th>certificate</th>\n",
       "      <th>duration</th>\n",
       "      <th>genre</th>\n",
       "      <th>votes</th>\n",
       "      <th>gross_income</th>\n",
       "      <th>directors_id</th>\n",
       "      <th>directors_name</th>\n",
       "      <th>stars_id</th>\n",
       "      <th>stars_name</th>\n",
       "      <th>description</th>\n",
       "    </tr>\n",
       "  </thead>\n",
       "  <tbody>\n",
       "    <tr>\n",
       "      <th>0</th>\n",
       "      <td>tt4710316</td>\n",
       "      <td>Best in Sex: 2015 AVN Awards</td>\n",
       "      <td>2015</td>\n",
       "      <td>4.0</td>\n",
       "      <td>TV-MA</td>\n",
       "      <td>94 min</td>\n",
       "      <td>Adult, News</td>\n",
       "      <td>124</td>\n",
       "      <td>0.0</td>\n",
       "      <td>nm1624094</td>\n",
       "      <td>Gary Miller</td>\n",
       "      <td>nm4766272,nm2670531,nm4920605,nm6284246</td>\n",
       "      <td>Farrah Laurel Abraham,Asa Akira,Anikka Albrite...</td>\n",
       "      <td>The hottest adult stars and top adult movies a...</td>\n",
       "    </tr>\n",
       "    <tr>\n",
       "      <th>1</th>\n",
       "      <td>tt1281857</td>\n",
       "      <td>Naughty Novelist</td>\n",
       "      <td>2008</td>\n",
       "      <td>3.8</td>\n",
       "      <td>Not Certified</td>\n",
       "      <td>88 min</td>\n",
       "      <td>Adult</td>\n",
       "      <td>174</td>\n",
       "      <td>0.0</td>\n",
       "      <td>nm0045256</td>\n",
       "      <td>John Bacchus</td>\n",
       "      <td>nm0128986,nm1969196,nm0451160,nm6130462</td>\n",
       "      <td>Darian Caine,Jackie Stevens,A.J. Khan,Arrora</td>\n",
       "      <td>Darian is a successful journalist but when she...</td>\n",
       "    </tr>\n",
       "    <tr>\n",
       "      <th>2</th>\n",
       "      <td>tt2294954</td>\n",
       "      <td>2011 AVN Awards Show</td>\n",
       "      <td>2011</td>\n",
       "      <td>5.7</td>\n",
       "      <td>Not Certified</td>\n",
       "      <td>83 min</td>\n",
       "      <td>Adult, News</td>\n",
       "      <td>39</td>\n",
       "      <td>0.0</td>\n",
       "      <td>nm1624094,nm0754845</td>\n",
       "      <td>Gary Miller,Timothy E. Sabo</td>\n",
       "      <td>nm2200343,nm2670531,nm1267549,nm3585599</td>\n",
       "      <td>Aubrey Addams,Asa Akira,Monique Alexander,Rave...</td>\n",
       "      <td>Add a Plot</td>\n",
       "    </tr>\n",
       "    <tr>\n",
       "      <th>3</th>\n",
       "      <td>tt6843596</td>\n",
       "      <td>Best in Sex: 2017 AVN Awards</td>\n",
       "      <td>2017</td>\n",
       "      <td>4.9</td>\n",
       "      <td>TV-MA</td>\n",
       "      <td>87 min</td>\n",
       "      <td>Adult, News</td>\n",
       "      <td>225</td>\n",
       "      <td>0.0</td>\n",
       "      <td>nm1624094</td>\n",
       "      <td>Gary Miller</td>\n",
       "      <td>nm5221471,nm2670531,nm4920605,nm3038816</td>\n",
       "      <td>Amirah Adara,Asa Akira,Anikka Albrite,Britney ...</td>\n",
       "      <td>Considered the industry's highest honor, the A...</td>\n",
       "    </tr>\n",
       "    <tr>\n",
       "      <th>4</th>\n",
       "      <td>tt3705604</td>\n",
       "      <td>AVN Awards 2014</td>\n",
       "      <td>2014</td>\n",
       "      <td>6.7</td>\n",
       "      <td>R</td>\n",
       "      <td>82 min</td>\n",
       "      <td>Adult, News</td>\n",
       "      <td>101</td>\n",
       "      <td>0.0</td>\n",
       "      <td>nm1624094</td>\n",
       "      <td>Gary Miller</td>\n",
       "      <td>nm2670531,nm4920605,nm6284246,nm3992720</td>\n",
       "      <td>Asa Akira,Anikka Albrite,August Ames,Jessie An...</td>\n",
       "      <td>Erotic filmmaking superstars Chanel Preston an...</td>\n",
       "    </tr>\n",
       "  </tbody>\n",
       "</table>\n",
       "</div>"
      ],
      "text/plain": [
       "          id                          name  year  rating    certificate  \\\n",
       "0  tt4710316  Best in Sex: 2015 AVN Awards  2015     4.0          TV-MA   \n",
       "1  tt1281857              Naughty Novelist  2008     3.8  Not Certified   \n",
       "2  tt2294954          2011 AVN Awards Show  2011     5.7  Not Certified   \n",
       "3  tt6843596  Best in Sex: 2017 AVN Awards  2017     4.9          TV-MA   \n",
       "4  tt3705604               AVN Awards 2014  2014     6.7              R   \n",
       "\n",
       "  duration        genre  votes  gross_income         directors_id  \\\n",
       "0   94 min  Adult, News    124           0.0            nm1624094   \n",
       "1   88 min        Adult    174           0.0            nm0045256   \n",
       "2   83 min  Adult, News     39           0.0  nm1624094,nm0754845   \n",
       "3   87 min  Adult, News    225           0.0            nm1624094   \n",
       "4   82 min  Adult, News    101           0.0            nm1624094   \n",
       "\n",
       "                directors_name                                 stars_id  \\\n",
       "0                  Gary Miller  nm4766272,nm2670531,nm4920605,nm6284246   \n",
       "1                 John Bacchus  nm0128986,nm1969196,nm0451160,nm6130462   \n",
       "2  Gary Miller,Timothy E. Sabo  nm2200343,nm2670531,nm1267549,nm3585599   \n",
       "3                  Gary Miller  nm5221471,nm2670531,nm4920605,nm3038816   \n",
       "4                  Gary Miller  nm2670531,nm4920605,nm6284246,nm3992720   \n",
       "\n",
       "                                          stars_name  \\\n",
       "0  Farrah Laurel Abraham,Asa Akira,Anikka Albrite...   \n",
       "1       Darian Caine,Jackie Stevens,A.J. Khan,Arrora   \n",
       "2  Aubrey Addams,Asa Akira,Monique Alexander,Rave...   \n",
       "3  Amirah Adara,Asa Akira,Anikka Albrite,Britney ...   \n",
       "4  Asa Akira,Anikka Albrite,August Ames,Jessie An...   \n",
       "\n",
       "                                         description  \n",
       "0  The hottest adult stars and top adult movies a...  \n",
       "1  Darian is a successful journalist but when she...  \n",
       "2                                         Add a Plot  \n",
       "3  Considered the industry's highest honor, the A...  \n",
       "4  Erotic filmmaking superstars Chanel Preston an...  "
      ]
     },
     "execution_count": 100,
     "metadata": {},
     "output_type": "execute_result"
    }
   ],
   "source": [
    "# Extracting only the numerical part from the 'year' column\n",
    "df['year'] = df['year'].str.extract(r'(\\d+)')\n",
    "\n",
    "# Displaying the first few rows of the DataFrame\n",
    "df.head()\n"
   ]
  },
  {
   "cell_type": "markdown",
   "metadata": {},
   "source": [
    "<div style=\"background-color:#FFB200; padding:10px; color:black; font-size:80px; \" > \n",
    "    Removing 'min' from duration\n",
    "</div>\n",
    "<div style=\"background-color:#FFB200; padding:10px; color:black; font-size:30px; \"> \n",
    "This code extracts only the numerical part from the 'duration' column in the DataFrame 'df'. It removes any non-numeric characters, then renames the 'duration' column to 'duration_min' and converts its values to float. Finally, it displays the first few rows of the updated DataFrame using `df.head()`.    \n",
    "</div>"
   ]
  },
  {
   "cell_type": "code",
   "execution_count": 101,
   "metadata": {},
   "outputs": [
    {
     "data": {
      "text/html": [
       "<div>\n",
       "<style scoped>\n",
       "    .dataframe tbody tr th:only-of-type {\n",
       "        vertical-align: middle;\n",
       "    }\n",
       "\n",
       "    .dataframe tbody tr th {\n",
       "        vertical-align: top;\n",
       "    }\n",
       "\n",
       "    .dataframe thead th {\n",
       "        text-align: right;\n",
       "    }\n",
       "</style>\n",
       "<table border=\"1\" class=\"dataframe\">\n",
       "  <thead>\n",
       "    <tr style=\"text-align: right;\">\n",
       "      <th></th>\n",
       "      <th>id</th>\n",
       "      <th>name</th>\n",
       "      <th>year</th>\n",
       "      <th>rating</th>\n",
       "      <th>certificate</th>\n",
       "      <th>duration_min</th>\n",
       "      <th>genre</th>\n",
       "      <th>votes</th>\n",
       "      <th>gross_income</th>\n",
       "      <th>directors_id</th>\n",
       "      <th>directors_name</th>\n",
       "      <th>stars_id</th>\n",
       "      <th>stars_name</th>\n",
       "      <th>description</th>\n",
       "    </tr>\n",
       "  </thead>\n",
       "  <tbody>\n",
       "    <tr>\n",
       "      <th>0</th>\n",
       "      <td>tt4710316</td>\n",
       "      <td>Best in Sex: 2015 AVN Awards</td>\n",
       "      <td>2015</td>\n",
       "      <td>4.0</td>\n",
       "      <td>TV-MA</td>\n",
       "      <td>94.0</td>\n",
       "      <td>Adult, News</td>\n",
       "      <td>124</td>\n",
       "      <td>0.0</td>\n",
       "      <td>nm1624094</td>\n",
       "      <td>Gary Miller</td>\n",
       "      <td>nm4766272,nm2670531,nm4920605,nm6284246</td>\n",
       "      <td>Farrah Laurel Abraham,Asa Akira,Anikka Albrite...</td>\n",
       "      <td>The hottest adult stars and top adult movies a...</td>\n",
       "    </tr>\n",
       "    <tr>\n",
       "      <th>1</th>\n",
       "      <td>tt1281857</td>\n",
       "      <td>Naughty Novelist</td>\n",
       "      <td>2008</td>\n",
       "      <td>3.8</td>\n",
       "      <td>Not Certified</td>\n",
       "      <td>88.0</td>\n",
       "      <td>Adult</td>\n",
       "      <td>174</td>\n",
       "      <td>0.0</td>\n",
       "      <td>nm0045256</td>\n",
       "      <td>John Bacchus</td>\n",
       "      <td>nm0128986,nm1969196,nm0451160,nm6130462</td>\n",
       "      <td>Darian Caine,Jackie Stevens,A.J. Khan,Arrora</td>\n",
       "      <td>Darian is a successful journalist but when she...</td>\n",
       "    </tr>\n",
       "    <tr>\n",
       "      <th>2</th>\n",
       "      <td>tt2294954</td>\n",
       "      <td>2011 AVN Awards Show</td>\n",
       "      <td>2011</td>\n",
       "      <td>5.7</td>\n",
       "      <td>Not Certified</td>\n",
       "      <td>83.0</td>\n",
       "      <td>Adult, News</td>\n",
       "      <td>39</td>\n",
       "      <td>0.0</td>\n",
       "      <td>nm1624094,nm0754845</td>\n",
       "      <td>Gary Miller,Timothy E. Sabo</td>\n",
       "      <td>nm2200343,nm2670531,nm1267549,nm3585599</td>\n",
       "      <td>Aubrey Addams,Asa Akira,Monique Alexander,Rave...</td>\n",
       "      <td>Add a Plot</td>\n",
       "    </tr>\n",
       "    <tr>\n",
       "      <th>3</th>\n",
       "      <td>tt6843596</td>\n",
       "      <td>Best in Sex: 2017 AVN Awards</td>\n",
       "      <td>2017</td>\n",
       "      <td>4.9</td>\n",
       "      <td>TV-MA</td>\n",
       "      <td>87.0</td>\n",
       "      <td>Adult, News</td>\n",
       "      <td>225</td>\n",
       "      <td>0.0</td>\n",
       "      <td>nm1624094</td>\n",
       "      <td>Gary Miller</td>\n",
       "      <td>nm5221471,nm2670531,nm4920605,nm3038816</td>\n",
       "      <td>Amirah Adara,Asa Akira,Anikka Albrite,Britney ...</td>\n",
       "      <td>Considered the industry's highest honor, the A...</td>\n",
       "    </tr>\n",
       "    <tr>\n",
       "      <th>4</th>\n",
       "      <td>tt3705604</td>\n",
       "      <td>AVN Awards 2014</td>\n",
       "      <td>2014</td>\n",
       "      <td>6.7</td>\n",
       "      <td>R</td>\n",
       "      <td>82.0</td>\n",
       "      <td>Adult, News</td>\n",
       "      <td>101</td>\n",
       "      <td>0.0</td>\n",
       "      <td>nm1624094</td>\n",
       "      <td>Gary Miller</td>\n",
       "      <td>nm2670531,nm4920605,nm6284246,nm3992720</td>\n",
       "      <td>Asa Akira,Anikka Albrite,August Ames,Jessie An...</td>\n",
       "      <td>Erotic filmmaking superstars Chanel Preston an...</td>\n",
       "    </tr>\n",
       "  </tbody>\n",
       "</table>\n",
       "</div>"
      ],
      "text/plain": [
       "          id                          name  year  rating    certificate  \\\n",
       "0  tt4710316  Best in Sex: 2015 AVN Awards  2015     4.0          TV-MA   \n",
       "1  tt1281857              Naughty Novelist  2008     3.8  Not Certified   \n",
       "2  tt2294954          2011 AVN Awards Show  2011     5.7  Not Certified   \n",
       "3  tt6843596  Best in Sex: 2017 AVN Awards  2017     4.9          TV-MA   \n",
       "4  tt3705604               AVN Awards 2014  2014     6.7              R   \n",
       "\n",
       "   duration_min        genre  votes  gross_income         directors_id  \\\n",
       "0          94.0  Adult, News    124           0.0            nm1624094   \n",
       "1          88.0        Adult    174           0.0            nm0045256   \n",
       "2          83.0  Adult, News     39           0.0  nm1624094,nm0754845   \n",
       "3          87.0  Adult, News    225           0.0            nm1624094   \n",
       "4          82.0  Adult, News    101           0.0            nm1624094   \n",
       "\n",
       "                directors_name                                 stars_id  \\\n",
       "0                  Gary Miller  nm4766272,nm2670531,nm4920605,nm6284246   \n",
       "1                 John Bacchus  nm0128986,nm1969196,nm0451160,nm6130462   \n",
       "2  Gary Miller,Timothy E. Sabo  nm2200343,nm2670531,nm1267549,nm3585599   \n",
       "3                  Gary Miller  nm5221471,nm2670531,nm4920605,nm3038816   \n",
       "4                  Gary Miller  nm2670531,nm4920605,nm6284246,nm3992720   \n",
       "\n",
       "                                          stars_name  \\\n",
       "0  Farrah Laurel Abraham,Asa Akira,Anikka Albrite...   \n",
       "1       Darian Caine,Jackie Stevens,A.J. Khan,Arrora   \n",
       "2  Aubrey Addams,Asa Akira,Monique Alexander,Rave...   \n",
       "3  Amirah Adara,Asa Akira,Anikka Albrite,Britney ...   \n",
       "4  Asa Akira,Anikka Albrite,August Ames,Jessie An...   \n",
       "\n",
       "                                         description  \n",
       "0  The hottest adult stars and top adult movies a...  \n",
       "1  Darian is a successful journalist but when she...  \n",
       "2                                         Add a Plot  \n",
       "3  Considered the industry's highest honor, the A...  \n",
       "4  Erotic filmmaking superstars Chanel Preston an...  "
      ]
     },
     "execution_count": 101,
     "metadata": {},
     "output_type": "execute_result"
    }
   ],
   "source": [
    "# Extracting only the numerical part from the 'duration' column\n",
    "df['duration'] = df['duration'].str.extract(r'(\\d+)')\n",
    "\n",
    "# Renaming the 'duration' column to 'duration_min'\n",
    "df.rename(columns={'duration': 'duration_min'}, inplace=True)\n",
    "\n",
    "# Converting 'duration_min' to float data type\n",
    "df['duration_min'] = df['duration_min'].astype(float)\n",
    "\n",
    "# Displaying the first few rows of the DataFrame\n",
    "df.head()\n"
   ]
  },
  {
   "cell_type": "markdown",
   "metadata": {},
   "source": [
    "<div style=\"background-color:#FFB200; padding:10px; color:black; font-size:80px; \" > \n",
    "    How many different Genre of Movies are there in this dataset?\n",
    "</div>\n"
   ]
  },
  {
   "cell_type": "markdown",
   "metadata": {},
   "source": [
    "<div style=\"background-color:#FFB200; padding:10px; color:black; font-size:50px; \" > \n",
    "    The code `df['genre'].nunique()` returns the number of unique values in the 'genre' column of the DataFrame 'df'. It provides the count of distinct genres in the dataset.\n",
    "</div>\n"
   ]
  },
  {
   "cell_type": "code",
   "execution_count": 102,
   "metadata": {},
   "outputs": [
    {
     "data": {
      "text/plain": [
       "3438"
      ]
     },
     "execution_count": 102,
     "metadata": {},
     "output_type": "execute_result"
    }
   ],
   "source": [
    "df['genre'].nunique()"
   ]
  },
  {
   "cell_type": "markdown",
   "metadata": {},
   "source": [
    "<div style=\"background-color:#FFB200; padding:10px; color:black; font-size:50px; \" > \n",
    "    The code you provided processes the 'genre' column in the DataFrame 'df' to extract individual genres for each movie and then counts the total number of unique genres.\n",
    "</div>\n"
   ]
  },
  {
   "cell_type": "code",
   "execution_count": 103,
   "metadata": {},
   "outputs": [
    {
     "name": "stdout",
     "output_type": "stream",
     "text": [
      "Total number of unique genres: 28\n"
     ]
    }
   ],
   "source": [
    "# Initialize an empty list to store individual genres\n",
    "temp = []  \n",
    "\n",
    "# Loop through each value in the 'genre' column\n",
    "for i in df['genre']:\n",
    "    d = i.replace(',', '').split()  # Split the combination of genres for a single movie\n",
    "    for j in d:\n",
    "        temp.append(j)  # Add individual genres to the temp list\n",
    "\n",
    "unique_genre = list(set(temp))  # Get the unique genres using a set and convert it to a list\n",
    "num_unique_genres = len(unique_genre)  # Calculate the total number of unique genres\n",
    "\n",
    "# Display the total number of unique genres\n",
    "print(f'Total number of unique genres: {num_unique_genres}')\n"
   ]
  },
  {
   "cell_type": "markdown",
   "metadata": {},
   "source": [
    "<div style=\"background-color:#FFB200; padding:10px; color:black; font-size:50px; \" > \n",
    "    This code returns an array containing unique values from the 'votes' column in the DataFrame 'df'.\n",
    "</div>\n"
   ]
  },
  {
   "cell_type": "code",
   "execution_count": 104,
   "metadata": {},
   "outputs": [
    {
     "data": {
      "text/plain": [
       "array([  124,   174,    39, ..., 43182,  8168,  5058])"
      ]
     },
     "execution_count": 104,
     "metadata": {},
     "output_type": "execute_result"
    }
   ],
   "source": [
    "df['votes'].unique()"
   ]
  },
  {
   "cell_type": "code",
   "execution_count": null,
   "metadata": {},
   "outputs": [],
   "source": []
  },
  {
   "cell_type": "markdown",
   "metadata": {},
   "source": [
    "<div style=\"background-color:#FFB200; padding:10px; color:black; font-size:80px; \" > \n",
    "    Find the most voted 3 Movie in the datasets.\n",
    "</div>\n"
   ]
  },
  {
   "cell_type": "markdown",
   "metadata": {},
   "source": [
    "<div style=\"background-color:#FFB200; padding:10px; color:black; font-size:30px; \"> \n",
    "    It retrieves the top 3 movies and their corresponding vote counts  displaying only the 'name' and 'votes' columns.    \n",
    "</div>"
   ]
  },
  {
   "cell_type": "code",
   "execution_count": 105,
   "metadata": {},
   "outputs": [
    {
     "data": {
      "text/html": [
       "<div>\n",
       "<style scoped>\n",
       "    .dataframe tbody tr th:only-of-type {\n",
       "        vertical-align: middle;\n",
       "    }\n",
       "\n",
       "    .dataframe tbody tr th {\n",
       "        vertical-align: top;\n",
       "    }\n",
       "\n",
       "    .dataframe thead th {\n",
       "        text-align: right;\n",
       "    }\n",
       "</style>\n",
       "<table border=\"1\" class=\"dataframe\">\n",
       "  <thead>\n",
       "    <tr style=\"text-align: right;\">\n",
       "      <th></th>\n",
       "      <th>name</th>\n",
       "      <th>votes</th>\n",
       "    </tr>\n",
       "  </thead>\n",
       "  <tbody>\n",
       "    <tr>\n",
       "      <th>123</th>\n",
       "      <td>The Dark Knight</td>\n",
       "      <td>2574832</td>\n",
       "    </tr>\n",
       "    <tr>\n",
       "      <th>1466218</th>\n",
       "      <td>Inception</td>\n",
       "      <td>2284273</td>\n",
       "    </tr>\n",
       "    <tr>\n",
       "      <th>1466179</th>\n",
       "      <td>Game of Thrones</td>\n",
       "      <td>2001477</td>\n",
       "    </tr>\n",
       "  </tbody>\n",
       "</table>\n",
       "</div>"
      ],
      "text/plain": [
       "                    name    votes\n",
       "123      The Dark Knight  2574832\n",
       "1466218        Inception  2284273\n",
       "1466179  Game of Thrones  2001477"
      ]
     },
     "execution_count": 105,
     "metadata": {},
     "output_type": "execute_result"
    }
   ],
   "source": [
    "# Sorting the DataFrame 'df' by 'votes' column in descending order\n",
    "# Selecting the top 3 rows and displaying only the 'name' and 'votes' columns\n",
    "\n",
    "df.sort_values(['votes'],ascending=False)[['name','votes']][:3]\n"
   ]
  },
  {
   "cell_type": "markdown",
   "metadata": {},
   "source": [
    "<div style=\"background-color:#FFB200; padding:10px; color:black; font-size:60px; \"> \n",
    "    The max value in the votes\n",
    "</div>>\r\n"
   ]
  },
  {
   "cell_type": "code",
   "execution_count": 106,
   "metadata": {},
   "outputs": [
    {
     "data": {
      "text/html": [
       "<style type=\"text/css\">\n",
       "#T_4bf32_row0_col0 {\n",
       "  background-color: #FFB200;\n",
       "  color: black;\n",
       "}\n",
       "</style>\n",
       "<table id=\"T_4bf32\">\n",
       "  <thead>\n",
       "    <tr>\n",
       "      <th class=\"blank level0\" >&nbsp;</th>\n",
       "      <th id=\"T_4bf32_level0_col0\" class=\"col_heading level0 col0\" >name</th>\n",
       "    </tr>\n",
       "  </thead>\n",
       "  <tbody>\n",
       "    <tr>\n",
       "      <th id=\"T_4bf32_level0_row0\" class=\"row_heading level0 row0\" >123</th>\n",
       "      <td id=\"T_4bf32_row0_col0\" class=\"data row0 col0\" >The Dark Knight</td>\n",
       "    </tr>\n",
       "  </tbody>\n",
       "</table>\n"
      ],
      "text/plain": [
       "<pandas.io.formats.style.Styler at 0x21ca7431bb0>"
      ]
     },
     "execution_count": 106,
     "metadata": {},
     "output_type": "execute_result"
    }
   ],
   "source": [
    "# Finding the maximum value in the 'votes' column\n",
    "Max = df['votes'].max()\n",
    "\n",
    "# Selecting the rows where 'votes' equals the maximum value and displaying the 'name' column\n",
    "top_movie_by_votes = df[df['votes'] == Max][['name']]\n",
    "\n",
    "# Set the background color of the DataFrame output\n",
    "top_movie_by_votes.style.set_properties(**{'background-color': '#FFB200', 'color': 'black'})\n"
   ]
  },
  {
   "cell_type": "markdown",
   "metadata": {
    "execution": {
     "iopub.execute_input": "2022-12-04T10:18:13.493334Z",
     "iopub.status.busy": "2022-12-04T10:18:13.492609Z",
     "iopub.status.idle": "2022-12-04T10:18:13.499872Z",
     "shell.execute_reply": "2022-12-04T10:18:13.498085Z",
     "shell.execute_reply.started": "2022-12-04T10:18:13.493289Z"
    }
   },
   "source": [
    "\n",
    "<div style=\"background-color:#FFB200; padding:10px; color:black; font-size:50px; \" /> \n",
    "     Top 3 genres DataFrame\n",
    "</div>"
   ]
  },
  {
   "cell_type": "code",
   "execution_count": 108,
   "metadata": {},
   "outputs": [
    {
     "data": {
      "text/html": [
       "<style type=\"text/css\">\n",
       "#T_8c34f_row0_col0, #T_8c34f_row0_col1, #T_8c34f_row1_col0, #T_8c34f_row1_col1, #T_8c34f_row2_col0, #T_8c34f_row2_col1 {\n",
       "  background-color: #FFB200;\n",
       "  color: black;\n",
       "}\n",
       "</style>\n",
       "<table id=\"T_8c34f\">\n",
       "  <thead>\n",
       "    <tr>\n",
       "      <th class=\"blank level0\" >&nbsp;</th>\n",
       "      <th id=\"T_8c34f_level0_col0\" class=\"col_heading level0 col0\" >genre_name</th>\n",
       "      <th id=\"T_8c34f_level0_col1\" class=\"col_heading level0 col1\" >cnt</th>\n",
       "    </tr>\n",
       "  </thead>\n",
       "  <tbody>\n",
       "    <tr>\n",
       "      <th id=\"T_8c34f_level0_row0\" class=\"row_heading level0 row0\" >16</th>\n",
       "      <td id=\"T_8c34f_row0_col0\" class=\"data row0 col0\" >Drama</td>\n",
       "      <td id=\"T_8c34f_row0_col1\" class=\"data row0 col1\" >516399</td>\n",
       "    </tr>\n",
       "    <tr>\n",
       "      <th id=\"T_8c34f_level0_row1\" class=\"row_heading level0 row1\" >7</th>\n",
       "      <td id=\"T_8c34f_row1_col0\" class=\"data row1 col0\" >Comedy</td>\n",
       "      <td id=\"T_8c34f_row1_col1\" class=\"data row1 col1\" >452896</td>\n",
       "    </tr>\n",
       "    <tr>\n",
       "      <th id=\"T_8c34f_level0_row2\" class=\"row_heading level0 row2\" >10</th>\n",
       "      <td id=\"T_8c34f_row2_col0\" class=\"data row2 col0\" >Short</td>\n",
       "      <td id=\"T_8c34f_row2_col1\" class=\"data row2 col1\" >394411</td>\n",
       "    </tr>\n",
       "  </tbody>\n",
       "</table>\n"
      ],
      "text/plain": [
       "<pandas.io.formats.style.Styler at 0x21cc1e54cb0>"
      ]
     },
     "execution_count": 108,
     "metadata": {},
     "output_type": "execute_result"
    }
   ],
   "source": [
    "# Create a DataFrame 'df_genre' from the list of genre count pairs\n",
    "df_genre = pd.DataFrame(data=movies_count, columns=['genre_name', 'cnt'])\n",
    "\n",
    "# Sort the DataFrame by count in descending order and select the top 3\n",
    "top_3_genres = df_genre.sort_values(by=['cnt'], ascending=False).head(3)\n",
    "\n",
    "# Set the background color of the DataFrame output\n",
    "top_3_genres.style.set_properties(**{'background-color': '#FFB200', 'color': 'black'})\n"
   ]
  },
  {
   "cell_type": "markdown",
   "metadata": {},
   "source": [
    "<div style=\"background-color:#FFB200; padding:10px; color:black; font-size:50px; \" > \n",
    "    Find the Distribution of number of movies in each genre with bar graph\n",
    "</div>\n"
   ]
  },
  {
   "cell_type": "code",
   "execution_count": null,
   "metadata": {},
   "outputs": [],
   "source": []
  },
  {
   "cell_type": "markdown",
   "metadata": {},
   "source": [
    "<div style=\"background-color:#FFB200; padding:10px; color:black; font-size:80px; \" > \n",
    "    Genre pair \n",
    "</div>\n",
    "<div style=\"background-color:#FFB200; padding:10px; color:black; font-size:30px; \"> \n",
    "This code performs group by operations on the 'genre' column, resets the index, selects the top 15 genres based on movie counts, and then plots a bar chart using Seaborn to visualize the results. The plot displays the top 15 genres with the most number of movies.   \n",
    "</div>"
   ]
  },
  {
   "cell_type": "code",
   "execution_count": 109,
   "metadata": {},
   "outputs": [
    {
     "data": {
      "image/png": "[encoded data removed]",
      "text/plain": [
       "<Figure size 1200x500 with 1 Axes>"
      ]
     },
     "metadata": {},
     "output_type": "display_data"
    }
   ],
   "source": [
    "# Grouping the DataFrame 'df' by 'genre' and aggregating the count of 'id'\n",
    "genre_counts = df.groupby('genre').agg({'id': 'count'})\n",
    "\n",
    "# Resetting the index to have 'genre' as a regular column\n",
    "genre_counts = genre_counts.reset_index()\n",
    "\n",
    "# Sorting the grouped DataFrame by 'id' count in descending order and selecting the top 15\n",
    "top_15_genres = genre_counts.sort_values(by='id', ascending=False)[:15]\n",
    "\n",
    "# Setting the Seaborn theme with a specific background color\n",
    "sns.set_theme(style=\"whitegrid\", rc={\"axes.facecolor\": \"#FFB200\"})\n",
    "\n",
    "# Plotting a bar chart to visualize the top 15 genres with the most movies\n",
    "plt.figure(figsize=(12, 5), dpi=100)\n",
    "plt.title('Top 15 Genres with the Most Number of Movies')\n",
    "sns.barplot(x=top_15_genres['genre'], y=top_15_genres['id'])\n",
    "\n",
    "# Customizing the plot labels and rotation\n",
    "plt.xticks(rotation=90)\n",
    "plt.xlabel(\"Genre\", fontsize=13)\n",
    "plt.ylabel(\"Movies Count\", fontsize=11)\n",
    "\n",
    "# Displaying the plot with modified background color\n",
    "plt.show()\n"
   ]
  },
  {
   "cell_type": "markdown",
   "metadata": {},
   "source": [
    "<div style=\"background-color:#FFB200; padding:10px; color:black; font-size:40px; \" > \n",
    "    This code creates a bar chart to visualize the top 25 genres based on movie count. It uses the `value_counts()` function to count the occurrences of each genre and selects the top 25. The bar chart is plotted with yellow ('y') color, and labels and title are customized for clarity.\n",
    "</div>"
   ]
  },
  {
   "cell_type": "code",
   "execution_count": 111,
   "metadata": {},
   "outputs": [
    {
     "data": {
      "image/png": "[encoded data removed]",
      "text/plain": [
       "<Figure size 1200x500 with 1 Axes>"
      ]
     },
     "metadata": {},
     "output_type": "display_data"
    }
   ],
   "source": [
    "# Creating a bar chart to visualize the top 25 genres by movie count\n",
    "plt.figure(figsize=(12, 5), dpi=100)\n",
    "\n",
    "# Counting the occurrences of each genre and selecting the top 25\n",
    "genre_counts_top_25 = df['genre'].value_counts()[:25]\n",
    "\n",
    "# Plotting the bar chart using Pandas' built-in plot function with a modified background color\n",
    "ax = genre_counts_top_25.plot(kind='bar', color='y')\n",
    "\n",
    "# Modifying the background color of the plot\n",
    "ax.set_facecolor('#FFB200')\n",
    "\n",
    "# Customizing the plot labels and title\n",
    "plt.title('Top 25 Genres by Movie Count')\n",
    "plt.xlabel('Genre')\n",
    "plt.ylabel('Movies Count')\n",
    "\n",
    "# Displaying the plot with modified background color\n",
    "plt.show()\n"
   ]
  },
  {
   "cell_type": "markdown",
   "metadata": {},
   "source": [
    "<div style=\"background-color:#FFB200; padding:10px; color:black; font-size:40px; \" > \n",
    "    This code uses Plotly Express to create an interactive bar chart, visualizing the top 25 genre pairs based on movie count. The chart is customized with labels, template, and title for a more informative display.\n",
    "</div>\n"
   ]
  },
  {
   "cell_type": "code",
   "execution_count": 112,
   "metadata": {},
   "outputs": [
    {
     "data": {
      "application/vnd.plotly.v1+json": {
       "config": {
        "plotlyServerURL": "https://plot.ly"
       },
       "data": [
        {
         "alignmentgroup": "True",
         "hovertemplate": "Genre Pairs=%{x}<br>Movies Counts=%{y}<extra></extra>",
         "legendgroup": "",
         "marker": {
          "color": "rgb(76,114,176)",
          "pattern": {
           "shape": ""
          }
         },
         "name": "",
         "offsetgroup": "",
         "orientation": "v",
         "showlegend": false,
         "textposition": "auto",
         "type": "bar",
         "x": [
          "Game-Show",
          "Sport",
          "Music",
          "Reality-TV",
          "Animation, Action, Adventure",
          "Crime, Drama, Mystery",
          "Animation",
          "Animation, Adventure, Comedy",
          "Horror",
          "History",
          "Short, Music",
          "Animation, Short",
          "Thriller",
          "Game-Show, Reality-TV",
          "Short, Horror",
          "Crime, Drama",
          "Adventure",
          "Family, Game-Show",
          "Animation, Comedy, Family",
          "Action, Crime, Drama",
          "Action",
          "Crime",
          "Comedy, Game-Show",
          "Sci-Fi",
          "Sport, Talk-Show"
         ],
         "xaxis": "x",
         "y": [
          143280,
          126544,
          98922,
          96098,
          51650,
          48959,
          43433,
          39594,
          37564,
          36554,
          35057,
          33713,
          33278,
          32949,
          29226,
          29077,
          28681,
          28627,
          27637,
          23615,
          23508,
          23275,
          19822,
          19719,
          19532
         ],
         "yaxis": "y"
        }
       ],
       "layout": {
        "autosize": true,
        "barmode": "relative",
        "legend": {
         "tracegroupgap": 0
        },
        "paper_bgcolor": "#FFB200",
        "plot_bgcolor": "#FFB200",
        "template": {
         "data": {
          "bar": [
           {
            "error_x": {
             "color": "rgb(36,36,36)"
            },
            "error_y": {
             "color": "rgb(36,36,36)"
            },
            "marker": {
             "line": {
              "color": "rgb(234,234,242)",
              "width": 0.5
             },
             "pattern": {
              "fillmode": "overlay",
              "size": 10,
              "solidity": 0.2
             }
            },
            "type": "bar"
           }
          ],
          "barpolar": [
           {
            "marker": {
             "line": {
              "color": "rgb(234,234,242)",
              "width": 0.5
             },
             "pattern": {
              "fillmode": "overlay",
              "size": 10,
              "solidity": 0.2
             }
            },
            "type": "barpolar"
           }
          ],
          "carpet": [
           {
            "aaxis": {
             "endlinecolor": "rgb(36,36,36)",
             "gridcolor": "white",
             "linecolor": "white",
             "minorgridcolor": "white",
             "startlinecolor": "rgb(36,36,36)"
            },
            "baxis": {
             "endlinecolor": "rgb(36,36,36)",
             "gridcolor": "white",
             "linecolor": "white",
             "minorgridcolor": "white",
             "startlinecolor": "rgb(36,36,36)"
            },
            "type": "carpet"
           }
          ],
          "choropleth": [
           {
            "colorbar": {
             "outlinewidth": 0,
             "tickcolor": "rgb(36,36,36)",
             "ticklen": 8,
             "ticks": "outside",
             "tickwidth": 2
            },
            "type": "choropleth"
           }
          ],
          "contour": [
           {
            "colorbar": {
             "outlinewidth": 0,
             "tickcolor": "rgb(36,36,36)",
             "ticklen": 8,
             "ticks": "outside",
             "tickwidth": 2
            },
            "colorscale": [
             [
              0,
              "rgb(2,4,25)"
             ],
             [
              0.06274509803921569,
              "rgb(24,15,41)"
             ],
             [
              0.12549019607843137,
              "rgb(47,23,57)"
             ],
             [
              0.18823529411764706,
              "rgb(71,28,72)"
             ],
             [
              0.25098039215686274,
              "rgb(97,30,82)"
             ],
             [
              0.3137254901960784,
              "rgb(123,30,89)"
             ],
             [
              0.3764705882352941,
              "rgb(150,27,91)"
             ],
             [
              0.4392156862745098,
              "rgb(177,22,88)"
             ],
             [
              0.5019607843137255,
              "rgb(203,26,79)"
             ],
             [
              0.5647058823529412,
              "rgb(223,47,67)"
             ],
             [
              0.6274509803921569,
              "rgb(236,76,61)"
             ],
             [
              0.6901960784313725,
              "rgb(242,107,73)"
             ],
             [
              0.7529411764705882,
              "rgb(244,135,95)"
             ],
             [
              0.8156862745098039,
              "rgb(245,162,122)"
             ],
             [
              0.8784313725490196,
              "rgb(246,188,153)"
             ],
             [
              0.9411764705882353,
              "rgb(247,212,187)"
             ],
             [
              1,
              "rgb(250,234,220)"
             ]
            ],
            "type": "contour"
           }
          ],
          "contourcarpet": [
           {
            "colorbar": {
             "outlinewidth": 0,
             "tickcolor": "rgb(36,36,36)",
             "ticklen": 8,
             "ticks": "outside",
             "tickwidth": 2
            },
            "type": "contourcarpet"
           }
          ],
          "heatmap": [
           {
            "colorbar": {
             "outlinewidth": 0,
             "tickcolor": "rgb(36,36,36)",
             "ticklen": 8,
             "ticks": "outside",
             "tickwidth": 2
            },
            "colorscale": [
             [
              0,
              "rgb(2,4,25)"
             ],
             [
              0.06274509803921569,
              "rgb(24,15,41)"
             ],
             [
              0.12549019607843137,
              "rgb(47,23,57)"
             ],
             [
              0.18823529411764706,
              "rgb(71,28,72)"
             ],
             [
              0.25098039215686274,
              "rgb(97,30,82)"
             ],
             [
              0.3137254901960784,
              "rgb(123,30,89)"
             ],
             [
              0.3764705882352941,
              "rgb(150,27,91)"
             ],
             [
              0.4392156862745098,
              "rgb(177,22,88)"
             ],
             [
              0.5019607843137255,
              "rgb(203,26,79)"
             ],
             [
              0.5647058823529412,
              "rgb(223,47,67)"
             ],
             [
              0.6274509803921569,
              "rgb(236,76,61)"
             ],
             [
              0.6901960784313725,
              "rgb(242,107,73)"
             ],
             [
              0.7529411764705882,
              "rgb(244,135,95)"
             ],
             [
              0.8156862745098039,
              "rgb(245,162,122)"
             ],
             [
              0.8784313725490196,
              "rgb(246,188,153)"
             ],
             [
              0.9411764705882353,
              "rgb(247,212,187)"
             ],
             [
              1,
              "rgb(250,234,220)"
             ]
            ],
            "type": "heatmap"
           }
          ],
          "heatmapgl": [
           {
            "colorbar": {
             "outlinewidth": 0,
             "tickcolor": "rgb(36,36,36)",
             "ticklen": 8,
             "ticks": "outside",
             "tickwidth": 2
            },
            "colorscale": [
             [
              0,
              "rgb(2,4,25)"
             ],
             [
              0.06274509803921569,
              "rgb(24,15,41)"
             ],
             [
              0.12549019607843137,
              "rgb(47,23,57)"
             ],
             [
              0.18823529411764706,
              "rgb(71,28,72)"
             ],
             [
              0.25098039215686274,
              "rgb(97,30,82)"
             ],
             [
              0.3137254901960784,
              "rgb(123,30,89)"
             ],
             [
              0.3764705882352941,
              "rgb(150,27,91)"
             ],
             [
              0.4392156862745098,
              "rgb(177,22,88)"
             ],
             [
              0.5019607843137255,
              "rgb(203,26,79)"
             ],
             [
              0.5647058823529412,
              "rgb(223,47,67)"
             ],
             [
              0.6274509803921569,
              "rgb(236,76,61)"
             ],
             [
              0.6901960784313725,
              "rgb(242,107,73)"
             ],
             [
              0.7529411764705882,
              "rgb(244,135,95)"
             ],
             [
              0.8156862745098039,
              "rgb(245,162,122)"
             ],
             [
              0.8784313725490196,
              "rgb(246,188,153)"
             ],
             [
              0.9411764705882353,
              "rgb(247,212,187)"
             ],
             [
              1,
              "rgb(250,234,220)"
             ]
            ],
            "type": "heatmapgl"
           }
          ],
          "histogram": [
           {
            "marker": {
             "pattern": {
              "fillmode": "overlay",
              "size": 10,
              "solidity": 0.2
             }
            },
            "type": "histogram"
           }
          ],
          "histogram2d": [
           {
            "colorbar": {
             "outlinewidth": 0,
             "tickcolor": "rgb(36,36,36)",
             "ticklen": 8,
             "ticks": "outside",
             "tickwidth": 2
            },
            "colorscale": [
             [
              0,
              "rgb(2,4,25)"
             ],
             [
              0.06274509803921569,
              "rgb(24,15,41)"
             ],
             [
              0.12549019607843137,
              "rgb(47,23,57)"
             ],
             [
              0.18823529411764706,
              "rgb(71,28,72)"
             ],
             [
              0.25098039215686274,
              "rgb(97,30,82)"
             ],
             [
              0.3137254901960784,
              "rgb(123,30,89)"
             ],
             [
              0.3764705882352941,
              "rgb(150,27,91)"
             ],
             [
              0.4392156862745098,
              "rgb(177,22,88)"
             ],
             [
              0.5019607843137255,
              "rgb(203,26,79)"
             ],
             [
              0.5647058823529412,
              "rgb(223,47,67)"
             ],
             [
              0.6274509803921569,
              "rgb(236,76,61)"
             ],
             [
              0.6901960784313725,
              "rgb(242,107,73)"
             ],
             [
              0.7529411764705882,
              "rgb(244,135,95)"
             ],
             [
              0.8156862745098039,
              "rgb(245,162,122)"
             ],
             [
              0.8784313725490196,
              "rgb(246,188,153)"
             ],
             [
              0.9411764705882353,
              "rgb(247,212,187)"
             ],
             [
              1,
              "rgb(250,234,220)"
             ]
            ],
            "type": "histogram2d"
           }
          ],
          "histogram2dcontour": [
           {
            "colorbar": {
             "outlinewidth": 0,
             "tickcolor": "rgb(36,36,36)",
             "ticklen": 8,
             "ticks": "outside",
             "tickwidth": 2
            },
            "colorscale": [
             [
              0,
              "rgb(2,4,25)"
             ],
             [
              0.06274509803921569,
              "rgb(24,15,41)"
             ],
             [
              0.12549019607843137,
              "rgb(47,23,57)"
             ],
             [
              0.18823529411764706,
              "rgb(71,28,72)"
             ],
             [
              0.25098039215686274,
              "rgb(97,30,82)"
             ],
             [
              0.3137254901960784,
              "rgb(123,30,89)"
             ],
             [
              0.3764705882352941,
              "rgb(150,27,91)"
             ],
             [
              0.4392156862745098,
              "rgb(177,22,88)"
             ],
             [
              0.5019607843137255,
              "rgb(203,26,79)"
             ],
             [
              0.5647058823529412,
              "rgb(223,47,67)"
             ],
             [
              0.6274509803921569,
              "rgb(236,76,61)"
             ],
             [
              0.6901960784313725,
              "rgb(242,107,73)"
             ],
             [
              0.7529411764705882,
              "rgb(244,135,95)"
             ],
             [
              0.8156862745098039,
              "rgb(245,162,122)"
             ],
             [
              0.8784313725490196,
              "rgb(246,188,153)"
             ],
             [
              0.9411764705882353,
              "rgb(247,212,187)"
             ],
             [
              1,
              "rgb(250,234,220)"
             ]
            ],
            "type": "histogram2dcontour"
           }
          ],
          "mesh3d": [
           {
            "colorbar": {
             "outlinewidth": 0,
             "tickcolor": "rgb(36,36,36)",
             "ticklen": 8,
             "ticks": "outside",
             "tickwidth": 2
            },
            "type": "mesh3d"
           }
          ],
          "parcoords": [
           {
            "line": {
             "colorbar": {
              "outlinewidth": 0,
              "tickcolor": "rgb(36,36,36)",
              "ticklen": 8,
              "ticks": "outside",
              "tickwidth": 2
             }
            },
            "type": "parcoords"
           }
          ],
          "pie": [
           {
            "automargin": true,
            "type": "pie"
           }
          ],
          "scatter": [
           {
            "fillpattern": {
             "fillmode": "overlay",
             "size": 10,
             "solidity": 0.2
            },
            "type": "scatter"
           }
          ],
          "scatter3d": [
           {
            "line": {
             "colorbar": {
              "outlinewidth": 0,
              "tickcolor": "rgb(36,36,36)",
              "ticklen": 8,
              "ticks": "outside",
              "tickwidth": 2
             }
            },
            "marker": {
             "colorbar": {
              "outlinewidth": 0,
              "tickcolor": "rgb(36,36,36)",
              "ticklen": 8,
              "ticks": "outside",
              "tickwidth": 2
             }
            },
            "type": "scatter3d"
           }
          ],
          "scattercarpet": [
           {
            "marker": {
             "colorbar": {
              "outlinewidth": 0,
              "tickcolor": "rgb(36,36,36)",
              "ticklen": 8,
              "ticks": "outside",
              "tickwidth": 2
             }
            },
            "type": "scattercarpet"
           }
          ],
          "scattergeo": [
           {
            "marker": {
             "colorbar": {
              "outlinewidth": 0,
              "tickcolor": "rgb(36,36,36)",
              "ticklen": 8,
              "ticks": "outside",
              "tickwidth": 2
             }
            },
            "type": "scattergeo"
           }
          ],
          "scattergl": [
           {
            "marker": {
             "colorbar": {
              "outlinewidth": 0,
              "tickcolor": "rgb(36,36,36)",
              "ticklen": 8,
              "ticks": "outside",
              "tickwidth": 2
             }
            },
            "type": "scattergl"
           }
          ],
          "scattermapbox": [
           {
            "marker": {
             "colorbar": {
              "outlinewidth": 0,
              "tickcolor": "rgb(36,36,36)",
              "ticklen": 8,
              "ticks": "outside",
              "tickwidth": 2
             }
            },
            "type": "scattermapbox"
           }
          ],
          "scatterpolar": [
           {
            "marker": {
             "colorbar": {
              "outlinewidth": 0,
              "tickcolor": "rgb(36,36,36)",
              "ticklen": 8,
              "ticks": "outside",
              "tickwidth": 2
             }
            },
            "type": "scatterpolar"
           }
          ],
          "scatterpolargl": [
           {
            "marker": {
             "colorbar": {
              "outlinewidth": 0,
              "tickcolor": "rgb(36,36,36)",
              "ticklen": 8,
              "ticks": "outside",
              "tickwidth": 2
             }
            },
            "type": "scatterpolargl"
           }
          ],
          "scatterternary": [
           {
            "marker": {
             "colorbar": {
              "outlinewidth": 0,
              "tickcolor": "rgb(36,36,36)",
              "ticklen": 8,
              "ticks": "outside",
              "tickwidth": 2
             }
            },
            "type": "scatterternary"
           }
          ],
          "surface": [
           {
            "colorbar": {
             "outlinewidth": 0,
             "tickcolor": "rgb(36,36,36)",
             "ticklen": 8,
             "ticks": "outside",
             "tickwidth": 2
            },
            "colorscale": [
             [
              0,
              "rgb(2,4,25)"
             ],
             [
              0.06274509803921569,
              "rgb(24,15,41)"
             ],
             [
              0.12549019607843137,
              "rgb(47,23,57)"
             ],
             [
              0.18823529411764706,
              "rgb(71,28,72)"
             ],
             [
              0.25098039215686274,
              "rgb(97,30,82)"
             ],
             [
              0.3137254901960784,
              "rgb(123,30,89)"
             ],
             [
              0.3764705882352941,
              "rgb(150,27,91)"
             ],
             [
              0.4392156862745098,
              "rgb(177,22,88)"
             ],
             [
              0.5019607843137255,
              "rgb(203,26,79)"
             ],
             [
              0.5647058823529412,
              "rgb(223,47,67)"
             ],
             [
              0.6274509803921569,
              "rgb(236,76,61)"
             ],
             [
              0.6901960784313725,
              "rgb(242,107,73)"
             ],
             [
              0.7529411764705882,
              "rgb(244,135,95)"
             ],
             [
              0.8156862745098039,
              "rgb(245,162,122)"
             ],
             [
              0.8784313725490196,
              "rgb(246,188,153)"
             ],
             [
              0.9411764705882353,
              "rgb(247,212,187)"
             ],
             [
              1,
              "rgb(250,234,220)"
             ]
            ],
            "type": "surface"
           }
          ],
          "table": [
           {
            "cells": {
             "fill": {
              "color": "rgb(231,231,240)"
             },
             "line": {
              "color": "white"
             }
            },
            "header": {
             "fill": {
              "color": "rgb(183,183,191)"
             },
             "line": {
              "color": "white"
             }
            },
            "type": "table"
           }
          ]
         },
         "layout": {
          "annotationdefaults": {
           "arrowcolor": "rgb(67,103,167)"
          },
          "autotypenumbers": "strict",
          "coloraxis": {
           "colorbar": {
            "outlinewidth": 0,
            "tickcolor": "rgb(36,36,36)",
            "ticklen": 8,
            "ticks": "outside",
            "tickwidth": 2
           }
          },
          "colorscale": {
           "sequential": [
            [
             0,
             "rgb(2,4,25)"
            ],
            [
             0.06274509803921569,
             "rgb(24,15,41)"
            ],
            [
             0.12549019607843137,
             "rgb(47,23,57)"
            ],
            [
             0.18823529411764706,
             "rgb(71,28,72)"
            ],
            [
             0.25098039215686274,
             "rgb(97,30,82)"
            ],
            [
             0.3137254901960784,
             "rgb(123,30,89)"
            ],
            [
             0.3764705882352941,
             "rgb(150,27,91)"
            ],
            [
             0.4392156862745098,
             "rgb(177,22,88)"
            ],
            [
             0.5019607843137255,
             "rgb(203,26,79)"
            ],
            [
             0.5647058823529412,
             "rgb(223,47,67)"
            ],
            [
             0.6274509803921569,
             "rgb(236,76,61)"
            ],
            [
             0.6901960784313725,
             "rgb(242,107,73)"
            ],
            [
             0.7529411764705882,
             "rgb(244,135,95)"
            ],
            [
             0.8156862745098039,
             "rgb(245,162,122)"
            ],
            [
             0.8784313725490196,
             "rgb(246,188,153)"
            ],
            [
             0.9411764705882353,
             "rgb(247,212,187)"
            ],
            [
             1,
             "rgb(250,234,220)"
            ]
           ],
           "sequentialminus": [
            [
             0,
             "rgb(2,4,25)"
            ],
            [
             0.06274509803921569,
             "rgb(24,15,41)"
            ],
            [
             0.12549019607843137,
             "rgb(47,23,57)"
            ],
            [
             0.18823529411764706,
             "rgb(71,28,72)"
            ],
            [
             0.25098039215686274,
             "rgb(97,30,82)"
            ],
            [
             0.3137254901960784,
             "rgb(123,30,89)"
            ],
            [
             0.3764705882352941,
             "rgb(150,27,91)"
            ],
            [
             0.4392156862745098,
             "rgb(177,22,88)"
            ],
            [
             0.5019607843137255,
             "rgb(203,26,79)"
            ],
            [
             0.5647058823529412,
             "rgb(223,47,67)"
            ],
            [
             0.6274509803921569,
             "rgb(236,76,61)"
            ],
            [
             0.6901960784313725,
             "rgb(242,107,73)"
            ],
            [
             0.7529411764705882,
             "rgb(244,135,95)"
            ],
            [
             0.8156862745098039,
             "rgb(245,162,122)"
            ],
            [
             0.8784313725490196,
             "rgb(246,188,153)"
            ],
            [
             0.9411764705882353,
             "rgb(247,212,187)"
            ],
            [
             1,
             "rgb(250,234,220)"
            ]
           ]
          },
          "colorway": [
           "rgb(76,114,176)",
           "rgb(221,132,82)",
           "rgb(85,168,104)",
           "rgb(196,78,82)",
           "rgb(129,114,179)",
           "rgb(147,120,96)",
           "rgb(218,139,195)",
           "rgb(140,140,140)",
           "rgb(204,185,116)",
           "rgb(100,181,205)"
          ],
          "font": {
           "color": "rgb(36,36,36)"
          },
          "geo": {
           "bgcolor": "white",
           "lakecolor": "white",
           "landcolor": "rgb(234,234,242)",
           "showlakes": true,
           "showland": true,
           "subunitcolor": "white"
          },
          "hoverlabel": {
           "align": "left"
          },
          "hovermode": "closest",
          "paper_bgcolor": "white",
          "plot_bgcolor": "rgb(234,234,242)",
          "polar": {
           "angularaxis": {
            "gridcolor": "white",
            "linecolor": "white",
            "showgrid": true,
            "ticks": ""
           },
           "bgcolor": "rgb(234,234,242)",
           "radialaxis": {
            "gridcolor": "white",
            "linecolor": "white",
            "showgrid": true,
            "ticks": ""
           }
          },
          "scene": {
           "xaxis": {
            "backgroundcolor": "rgb(234,234,242)",
            "gridcolor": "white",
            "gridwidth": 2,
            "linecolor": "white",
            "showbackground": true,
            "showgrid": true,
            "ticks": "",
            "zerolinecolor": "white"
           },
           "yaxis": {
            "backgroundcolor": "rgb(234,234,242)",
            "gridcolor": "white",
            "gridwidth": 2,
            "linecolor": "white",
            "showbackground": true,
            "showgrid": true,
            "ticks": "",
            "zerolinecolor": "white"
           },
           "zaxis": {
            "backgroundcolor": "rgb(234,234,242)",
            "gridcolor": "white",
            "gridwidth": 2,
            "linecolor": "white",
            "showbackground": true,
            "showgrid": true,
            "ticks": "",
            "zerolinecolor": "white"
           }
          },
          "shapedefaults": {
           "fillcolor": "rgb(67,103,167)",
           "line": {
            "width": 0
           },
           "opacity": 0.5
          },
          "ternary": {
           "aaxis": {
            "gridcolor": "white",
            "linecolor": "white",
            "showgrid": true,
            "ticks": ""
           },
           "baxis": {
            "gridcolor": "white",
            "linecolor": "white",
            "showgrid": true,
            "ticks": ""
           },
           "bgcolor": "rgb(234,234,242)",
           "caxis": {
            "gridcolor": "white",
            "linecolor": "white",
            "showgrid": true,
            "ticks": ""
           }
          },
          "xaxis": {
           "automargin": true,
           "gridcolor": "white",
           "linecolor": "white",
           "showgrid": true,
           "ticks": "",
           "title": {
            "standoff": 15
           },
           "zerolinecolor": "white"
          },
          "yaxis": {
           "automargin": true,
           "gridcolor": "white",
           "linecolor": "white",
           "showgrid": true,
           "ticks": "",
           "title": {
            "standoff": 15
           },
           "zerolinecolor": "white"
          }
         }
        },
        "title": {
         "text": "<b> Top 25 Genre Pairs w.r.t Movies Counts"
        },
        "xaxis": {
         "anchor": "y",
         "autorange": true,
         "domain": [
          0,
          1
         ],
         "range": [
          -0.5,
          24.5
         ],
         "title": {
          "text": "Genre Pairs"
         },
         "type": "category"
        },
        "yaxis": {
         "anchor": "x",
         "autorange": true,
         "domain": [
          0,
          1
         ],
         "range": [
          0,
          150821.05263157896
         ],
         "title": {
          "text": "Movies Counts"
         },
         "type": "linear"
        }
       }
      },
      "image/png": "[encoded data removed]",
      "text/html": [
       "<div>                            <div id=\"c1082419-a215-4eb4-9ee2-59b6486b3074\" class=\"plotly-graph-div\" style=\"height:525px; width:100%;\"></div>            <script type=\"text/javascript\">                require([\"plotly\"], function(Plotly) {                    window.PLOTLYENV=window.PLOTLYENV || {};                                    if (document.getElementById(\"c1082419-a215-4eb4-9ee2-59b6486b3074\")) {                    Plotly.newPlot(                        \"c1082419-a215-4eb4-9ee2-59b6486b3074\",                        [{\"alignmentgroup\":\"True\",\"hovertemplate\":\"Genre Pairs=%{x}\\u003cbr\\u003eMovies Counts=%{y}\\u003cextra\\u003e\\u003c\\u002fextra\\u003e\",\"legendgroup\":\"\",\"marker\":{\"color\":\"rgb(76,114,176)\",\"pattern\":{\"shape\":\"\"}},\"name\":\"\",\"offsetgroup\":\"\",\"orientation\":\"v\",\"showlegend\":false,\"textposition\":\"auto\",\"x\":[\"Game-Show\",\"Sport\",\"Music\",\"Reality-TV\",\"Animation, Action, Adventure\",\"Crime, Drama, Mystery\",\"Animation\",\"Animation, Adventure, Comedy\",\"Horror\",\"History\",\"Short, Music\",\"Animation, Short\",\"Thriller\",\"Game-Show, Reality-TV\",\"Short, Horror\",\"Crime, Drama\",\"Adventure\",\"Family, Game-Show\",\"Animation, Comedy, Family\",\"Action, Crime, Drama\",\"Action\",\"Crime\",\"Comedy, Game-Show\",\"Sci-Fi\",\"Sport, Talk-Show\"],\"xaxis\":\"x\",\"y\":[143280,126544,98922,96098,51650,48959,43433,39594,37564,36554,35057,33713,33278,32949,29226,29077,28681,28627,27637,23615,23508,23275,19822,19719,19532],\"yaxis\":\"y\",\"type\":\"bar\"}],                        {\"template\":{\"data\":{\"barpolar\":[{\"marker\":{\"line\":{\"color\":\"rgb(234,234,242)\",\"width\":0.5},\"pattern\":{\"fillmode\":\"overlay\",\"size\":10,\"solidity\":0.2}},\"type\":\"barpolar\"}],\"bar\":[{\"error_x\":{\"color\":\"rgb(36,36,36)\"},\"error_y\":{\"color\":\"rgb(36,36,36)\"},\"marker\":{\"line\":{\"color\":\"rgb(234,234,242)\",\"width\":0.5},\"pattern\":{\"fillmode\":\"overlay\",\"size\":10,\"solidity\":0.2}},\"type\":\"bar\"}],\"carpet\":[{\"aaxis\":{\"endlinecolor\":\"rgb(36,36,36)\",\"gridcolor\":\"white\",\"linecolor\":\"white\",\"minorgridcolor\":\"white\",\"startlinecolor\":\"rgb(36,36,36)\"},\"baxis\":{\"endlinecolor\":\"rgb(36,36,36)\",\"gridcolor\":\"white\",\"linecolor\":\"white\",\"minorgridcolor\":\"white\",\"startlinecolor\":\"rgb(36,36,36)\"},\"type\":\"carpet\"}],\"choropleth\":[{\"colorbar\":{\"outlinewidth\":0,\"tickcolor\":\"rgb(36,36,36)\",\"ticklen\":8,\"ticks\":\"outside\",\"tickwidth\":2},\"type\":\"choropleth\"}],\"contourcarpet\":[{\"colorbar\":{\"outlinewidth\":0,\"tickcolor\":\"rgb(36,36,36)\",\"ticklen\":8,\"ticks\":\"outside\",\"tickwidth\":2},\"type\":\"contourcarpet\"}],\"contour\":[{\"colorbar\":{\"outlinewidth\":0,\"tickcolor\":\"rgb(36,36,36)\",\"ticklen\":8,\"ticks\":\"outside\",\"tickwidth\":2},\"colorscale\":[[0.0,\"rgb(2,4,25)\"],[0.06274509803921569,\"rgb(24,15,41)\"],[0.12549019607843137,\"rgb(47,23,57)\"],[0.18823529411764706,\"rgb(71,28,72)\"],[0.25098039215686274,\"rgb(97,30,82)\"],[0.3137254901960784,\"rgb(123,30,89)\"],[0.3764705882352941,\"rgb(150,27,91)\"],[0.4392156862745098,\"rgb(177,22,88)\"],[0.5019607843137255,\"rgb(203,26,79)\"],[0.5647058823529412,\"rgb(223,47,67)\"],[0.6274509803921569,\"rgb(236,76,61)\"],[0.6901960784313725,\"rgb(242,107,73)\"],[0.7529411764705882,\"rgb(244,135,95)\"],[0.8156862745098039,\"rgb(245,162,122)\"],[0.8784313725490196,\"rgb(246,188,153)\"],[0.9411764705882353,\"rgb(247,212,187)\"],[1.0,\"rgb(250,234,220)\"]],\"type\":\"contour\"}],\"heatmapgl\":[{\"colorbar\":{\"outlinewidth\":0,\"tickcolor\":\"rgb(36,36,36)\",\"ticklen\":8,\"ticks\":\"outside\",\"tickwidth\":2},\"colorscale\":[[0.0,\"rgb(2,4,25)\"],[0.06274509803921569,\"rgb(24,15,41)\"],[0.12549019607843137,\"rgb(47,23,57)\"],[0.18823529411764706,\"rgb(71,28,72)\"],[0.25098039215686274,\"rgb(97,30,82)\"],[0.3137254901960784,\"rgb(123,30,89)\"],[0.3764705882352941,\"rgb(150,27,91)\"],[0.4392156862745098,\"rgb(177,22,88)\"],[0.5019607843137255,\"rgb(203,26,79)\"],[0.5647058823529412,\"rgb(223,47,67)\"],[0.6274509803921569,\"rgb(236,76,61)\"],[0.6901960784313725,\"rgb(242,107,73)\"],[0.7529411764705882,\"rgb(244,135,95)\"],[0.8156862745098039,\"rgb(245,162,122)\"],[0.8784313725490196,\"rgb(246,188,153)\"],[0.9411764705882353,\"rgb(247,212,187)\"],[1.0,\"rgb(250,234,220)\"]],\"type\":\"heatmapgl\"}],\"heatmap\":[{\"colorbar\":{\"outlinewidth\":0,\"tickcolor\":\"rgb(36,36,36)\",\"ticklen\":8,\"ticks\":\"outside\",\"tickwidth\":2},\"colorscale\":[[0.0,\"rgb(2,4,25)\"],[0.06274509803921569,\"rgb(24,15,41)\"],[0.12549019607843137,\"rgb(47,23,57)\"],[0.18823529411764706,\"rgb(71,28,72)\"],[0.25098039215686274,\"rgb(97,30,82)\"],[0.3137254901960784,\"rgb(123,30,89)\"],[0.3764705882352941,\"rgb(150,27,91)\"],[0.4392156862745098,\"rgb(177,22,88)\"],[0.5019607843137255,\"rgb(203,26,79)\"],[0.5647058823529412,\"rgb(223,47,67)\"],[0.6274509803921569,\"rgb(236,76,61)\"],[0.6901960784313725,\"rgb(242,107,73)\"],[0.7529411764705882,\"rgb(244,135,95)\"],[0.8156862745098039,\"rgb(245,162,122)\"],[0.8784313725490196,\"rgb(246,188,153)\"],[0.9411764705882353,\"rgb(247,212,187)\"],[1.0,\"rgb(250,234,220)\"]],\"type\":\"heatmap\"}],\"histogram2dcontour\":[{\"colorbar\":{\"outlinewidth\":0,\"tickcolor\":\"rgb(36,36,36)\",\"ticklen\":8,\"ticks\":\"outside\",\"tickwidth\":2},\"colorscale\":[[0.0,\"rgb(2,4,25)\"],[0.06274509803921569,\"rgb(24,15,41)\"],[0.12549019607843137,\"rgb(47,23,57)\"],[0.18823529411764706,\"rgb(71,28,72)\"],[0.25098039215686274,\"rgb(97,30,82)\"],[0.3137254901960784,\"rgb(123,30,89)\"],[0.3764705882352941,\"rgb(150,27,91)\"],[0.4392156862745098,\"rgb(177,22,88)\"],[0.5019607843137255,\"rgb(203,26,79)\"],[0.5647058823529412,\"rgb(223,47,67)\"],[0.6274509803921569,\"rgb(236,76,61)\"],[0.6901960784313725,\"rgb(242,107,73)\"],[0.7529411764705882,\"rgb(244,135,95)\"],[0.8156862745098039,\"rgb(245,162,122)\"],[0.8784313725490196,\"rgb(246,188,153)\"],[0.9411764705882353,\"rgb(247,212,187)\"],[1.0,\"rgb(250,234,220)\"]],\"type\":\"histogram2dcontour\"}],\"histogram2d\":[{\"colorbar\":{\"outlinewidth\":0,\"tickcolor\":\"rgb(36,36,36)\",\"ticklen\":8,\"ticks\":\"outside\",\"tickwidth\":2},\"colorscale\":[[0.0,\"rgb(2,4,25)\"],[0.06274509803921569,\"rgb(24,15,41)\"],[0.12549019607843137,\"rgb(47,23,57)\"],[0.18823529411764706,\"rgb(71,28,72)\"],[0.25098039215686274,\"rgb(97,30,82)\"],[0.3137254901960784,\"rgb(123,30,89)\"],[0.3764705882352941,\"rgb(150,27,91)\"],[0.4392156862745098,\"rgb(177,22,88)\"],[0.5019607843137255,\"rgb(203,26,79)\"],[0.5647058823529412,\"rgb(223,47,67)\"],[0.6274509803921569,\"rgb(236,76,61)\"],[0.6901960784313725,\"rgb(242,107,73)\"],[0.7529411764705882,\"rgb(244,135,95)\"],[0.8156862745098039,\"rgb(245,162,122)\"],[0.8784313725490196,\"rgb(246,188,153)\"],[0.9411764705882353,\"rgb(247,212,187)\"],[1.0,\"rgb(250,234,220)\"]],\"type\":\"histogram2d\"}],\"histogram\":[{\"marker\":{\"pattern\":{\"fillmode\":\"overlay\",\"size\":10,\"solidity\":0.2}},\"type\":\"histogram\"}],\"mesh3d\":[{\"colorbar\":{\"outlinewidth\":0,\"tickcolor\":\"rgb(36,36,36)\",\"ticklen\":8,\"ticks\":\"outside\",\"tickwidth\":2},\"type\":\"mesh3d\"}],\"parcoords\":[{\"line\":{\"colorbar\":{\"outlinewidth\":0,\"tickcolor\":\"rgb(36,36,36)\",\"ticklen\":8,\"ticks\":\"outside\",\"tickwidth\":2}},\"type\":\"parcoords\"}],\"pie\":[{\"automargin\":true,\"type\":\"pie\"}],\"scatter3d\":[{\"line\":{\"colorbar\":{\"outlinewidth\":0,\"tickcolor\":\"rgb(36,36,36)\",\"ticklen\":8,\"ticks\":\"outside\",\"tickwidth\":2}},\"marker\":{\"colorbar\":{\"outlinewidth\":0,\"tickcolor\":\"rgb(36,36,36)\",\"ticklen\":8,\"ticks\":\"outside\",\"tickwidth\":2}},\"type\":\"scatter3d\"}],\"scattercarpet\":[{\"marker\":{\"colorbar\":{\"outlinewidth\":0,\"tickcolor\":\"rgb(36,36,36)\",\"ticklen\":8,\"ticks\":\"outside\",\"tickwidth\":2}},\"type\":\"scattercarpet\"}],\"scattergeo\":[{\"marker\":{\"colorbar\":{\"outlinewidth\":0,\"tickcolor\":\"rgb(36,36,36)\",\"ticklen\":8,\"ticks\":\"outside\",\"tickwidth\":2}},\"type\":\"scattergeo\"}],\"scattergl\":[{\"marker\":{\"colorbar\":{\"outlinewidth\":0,\"tickcolor\":\"rgb(36,36,36)\",\"ticklen\":8,\"ticks\":\"outside\",\"tickwidth\":2}},\"type\":\"scattergl\"}],\"scattermapbox\":[{\"marker\":{\"colorbar\":{\"outlinewidth\":0,\"tickcolor\":\"rgb(36,36,36)\",\"ticklen\":8,\"ticks\":\"outside\",\"tickwidth\":2}},\"type\":\"scattermapbox\"}],\"scatterpolargl\":[{\"marker\":{\"colorbar\":{\"outlinewidth\":0,\"tickcolor\":\"rgb(36,36,36)\",\"ticklen\":8,\"ticks\":\"outside\",\"tickwidth\":2}},\"type\":\"scatterpolargl\"}],\"scatterpolar\":[{\"marker\":{\"colorbar\":{\"outlinewidth\":0,\"tickcolor\":\"rgb(36,36,36)\",\"ticklen\":8,\"ticks\":\"outside\",\"tickwidth\":2}},\"type\":\"scatterpolar\"}],\"scatter\":[{\"fillpattern\":{\"fillmode\":\"overlay\",\"size\":10,\"solidity\":0.2},\"type\":\"scatter\"}],\"scatterternary\":[{\"marker\":{\"colorbar\":{\"outlinewidth\":0,\"tickcolor\":\"rgb(36,36,36)\",\"ticklen\":8,\"ticks\":\"outside\",\"tickwidth\":2}},\"type\":\"scatterternary\"}],\"surface\":[{\"colorbar\":{\"outlinewidth\":0,\"tickcolor\":\"rgb(36,36,36)\",\"ticklen\":8,\"ticks\":\"outside\",\"tickwidth\":2},\"colorscale\":[[0.0,\"rgb(2,4,25)\"],[0.06274509803921569,\"rgb(24,15,41)\"],[0.12549019607843137,\"rgb(47,23,57)\"],[0.18823529411764706,\"rgb(71,28,72)\"],[0.25098039215686274,\"rgb(97,30,82)\"],[0.3137254901960784,\"rgb(123,30,89)\"],[0.3764705882352941,\"rgb(150,27,91)\"],[0.4392156862745098,\"rgb(177,22,88)\"],[0.5019607843137255,\"rgb(203,26,79)\"],[0.5647058823529412,\"rgb(223,47,67)\"],[0.6274509803921569,\"rgb(236,76,61)\"],[0.6901960784313725,\"rgb(242,107,73)\"],[0.7529411764705882,\"rgb(244,135,95)\"],[0.8156862745098039,\"rgb(245,162,122)\"],[0.8784313725490196,\"rgb(246,188,153)\"],[0.9411764705882353,\"rgb(247,212,187)\"],[1.0,\"rgb(250,234,220)\"]],\"type\":\"surface\"}],\"table\":[{\"cells\":{\"fill\":{\"color\":\"rgb(231,231,240)\"},\"line\":{\"color\":\"white\"}},\"header\":{\"fill\":{\"color\":\"rgb(183,183,191)\"},\"line\":{\"color\":\"white\"}},\"type\":\"table\"}]},\"layout\":{\"annotationdefaults\":{\"arrowcolor\":\"rgb(67,103,167)\"},\"autotypenumbers\":\"strict\",\"coloraxis\":{\"colorbar\":{\"outlinewidth\":0,\"tickcolor\":\"rgb(36,36,36)\",\"ticklen\":8,\"ticks\":\"outside\",\"tickwidth\":2}},\"colorscale\":{\"sequential\":[[0.0,\"rgb(2,4,25)\"],[0.06274509803921569,\"rgb(24,15,41)\"],[0.12549019607843137,\"rgb(47,23,57)\"],[0.18823529411764706,\"rgb(71,28,72)\"],[0.25098039215686274,\"rgb(97,30,82)\"],[0.3137254901960784,\"rgb(123,30,89)\"],[0.3764705882352941,\"rgb(150,27,91)\"],[0.4392156862745098,\"rgb(177,22,88)\"],[0.5019607843137255,\"rgb(203,26,79)\"],[0.5647058823529412,\"rgb(223,47,67)\"],[0.6274509803921569,\"rgb(236,76,61)\"],[0.6901960784313725,\"rgb(242,107,73)\"],[0.7529411764705882,\"rgb(244,135,95)\"],[0.8156862745098039,\"rgb(245,162,122)\"],[0.8784313725490196,\"rgb(246,188,153)\"],[0.9411764705882353,\"rgb(247,212,187)\"],[1.0,\"rgb(250,234,220)\"]],\"sequentialminus\":[[0.0,\"rgb(2,4,25)\"],[0.06274509803921569,\"rgb(24,15,41)\"],[0.12549019607843137,\"rgb(47,23,57)\"],[0.18823529411764706,\"rgb(71,28,72)\"],[0.25098039215686274,\"rgb(97,30,82)\"],[0.3137254901960784,\"rgb(123,30,89)\"],[0.3764705882352941,\"rgb(150,27,91)\"],[0.4392156862745098,\"rgb(177,22,88)\"],[0.5019607843137255,\"rgb(203,26,79)\"],[0.5647058823529412,\"rgb(223,47,67)\"],[0.6274509803921569,\"rgb(236,76,61)\"],[0.6901960784313725,\"rgb(242,107,73)\"],[0.7529411764705882,\"rgb(244,135,95)\"],[0.8156862745098039,\"rgb(245,162,122)\"],[0.8784313725490196,\"rgb(246,188,153)\"],[0.9411764705882353,\"rgb(247,212,187)\"],[1.0,\"rgb(250,234,220)\"]]},\"colorway\":[\"rgb(76,114,176)\",\"rgb(221,132,82)\",\"rgb(85,168,104)\",\"rgb(196,78,82)\",\"rgb(129,114,179)\",\"rgb(147,120,96)\",\"rgb(218,139,195)\",\"rgb(140,140,140)\",\"rgb(204,185,116)\",\"rgb(100,181,205)\"],\"font\":{\"color\":\"rgb(36,36,36)\"},\"geo\":{\"bgcolor\":\"white\",\"lakecolor\":\"white\",\"landcolor\":\"rgb(234,234,242)\",\"showlakes\":true,\"showland\":true,\"subunitcolor\":\"white\"},\"hoverlabel\":{\"align\":\"left\"},\"hovermode\":\"closest\",\"paper_bgcolor\":\"white\",\"plot_bgcolor\":\"rgb(234,234,242)\",\"polar\":{\"angularaxis\":{\"gridcolor\":\"white\",\"linecolor\":\"white\",\"showgrid\":true,\"ticks\":\"\"},\"bgcolor\":\"rgb(234,234,242)\",\"radialaxis\":{\"gridcolor\":\"white\",\"linecolor\":\"white\",\"showgrid\":true,\"ticks\":\"\"}},\"scene\":{\"xaxis\":{\"backgroundcolor\":\"rgb(234,234,242)\",\"gridcolor\":\"white\",\"gridwidth\":2,\"linecolor\":\"white\",\"showbackground\":true,\"showgrid\":true,\"ticks\":\"\",\"zerolinecolor\":\"white\"},\"yaxis\":{\"backgroundcolor\":\"rgb(234,234,242)\",\"gridcolor\":\"white\",\"gridwidth\":2,\"linecolor\":\"white\",\"showbackground\":true,\"showgrid\":true,\"ticks\":\"\",\"zerolinecolor\":\"white\"},\"zaxis\":{\"backgroundcolor\":\"rgb(234,234,242)\",\"gridcolor\":\"white\",\"gridwidth\":2,\"linecolor\":\"white\",\"showbackground\":true,\"showgrid\":true,\"ticks\":\"\",\"zerolinecolor\":\"white\"}},\"shapedefaults\":{\"fillcolor\":\"rgb(67,103,167)\",\"line\":{\"width\":0},\"opacity\":0.5},\"ternary\":{\"aaxis\":{\"gridcolor\":\"white\",\"linecolor\":\"white\",\"showgrid\":true,\"ticks\":\"\"},\"baxis\":{\"gridcolor\":\"white\",\"linecolor\":\"white\",\"showgrid\":true,\"ticks\":\"\"},\"bgcolor\":\"rgb(234,234,242)\",\"caxis\":{\"gridcolor\":\"white\",\"linecolor\":\"white\",\"showgrid\":true,\"ticks\":\"\"}},\"xaxis\":{\"automargin\":true,\"gridcolor\":\"white\",\"linecolor\":\"white\",\"showgrid\":true,\"ticks\":\"\",\"title\":{\"standoff\":15},\"zerolinecolor\":\"white\"},\"yaxis\":{\"automargin\":true,\"gridcolor\":\"white\",\"linecolor\":\"white\",\"showgrid\":true,\"ticks\":\"\",\"title\":{\"standoff\":15},\"zerolinecolor\":\"white\"}}},\"xaxis\":{\"anchor\":\"y\",\"domain\":[0.0,1.0],\"title\":{\"text\":\"Genre Pairs\"}},\"yaxis\":{\"anchor\":\"x\",\"domain\":[0.0,1.0],\"title\":{\"text\":\"Movies Counts\"}},\"legend\":{\"tracegroupgap\":0},\"title\":{\"text\":\"\\u003cb\\u003e Top 25 Genre Pairs w.r.t Movies Counts\"},\"barmode\":\"relative\",\"plot_bgcolor\":\"#FFB200\",\"paper_bgcolor\":\"#FFB200\"},                        {\"responsive\": true}                    ).then(function(){\n",
       "                            \n",
       "var gd = document.getElementById('c1082419-a215-4eb4-9ee2-59b6486b3074');\n",
       "var x = new MutationObserver(function (mutations, observer) {{\n",
       "        var display = window.getComputedStyle(gd).display;\n",
       "        if (!display || display === 'none') {{\n",
       "            console.log([gd, 'removed!']);\n",
       "            Plotly.purge(gd);\n",
       "            observer.disconnect();\n",
       "        }}\n",
       "}});\n",
       "\n",
       "// Listen for the removal of the full notebook cells\n",
       "var notebookContainer = gd.closest('#notebook-container');\n",
       "if (notebookContainer) {{\n",
       "    x.observe(notebookContainer, {childList: true});\n",
       "}}\n",
       "\n",
       "// Listen for the clearing of the current output cell\n",
       "var outputEl = gd.closest('.output');\n",
       "if (outputEl) {{\n",
       "    x.observe(outputEl, {childList: true});\n",
       "}}\n",
       "\n",
       "                        })                };                });            </script>        </div>"
      ]
     },
     "metadata": {},
     "output_type": "display_data"
    }
   ],
   "source": [
    "# Creating an interactive bar chart using Plotly Express to visualize the top 25 genre pairs by movie count\n",
    "fig = px.bar(df[['genre']].value_counts().reset_index(name='Movies Counts')[:25],\n",
    "             x='genre',\n",
    "             y='Movies Counts',\n",
    "             labels={'genre': \"Genre Pairs\"},\n",
    "             template='seaborn',\n",
    "             title=\"<b> Top 25 Genre Pairs w.r.t Movies Counts\")\n",
    "\n",
    "# Modifying background colors\n",
    "fig.update_layout(\n",
    "    plot_bgcolor='#FFB200',  # Background color of the plot area\n",
    "    paper_bgcolor='#FFB200'  # Background color of the entire plot\n",
    ")\n",
    "\n",
    "# Displaying the interactive chart with modified background colors\n",
    "fig.show()\n"
   ]
  },
  {
   "cell_type": "markdown",
   "metadata": {},
   "source": [
    "<div style=\"background-color:#FFB200; padding:10px; color:black; font-size:75px; \" > \n",
    "    Movie count for Unique Genre\n",
    "</div>\n"
   ]
  },
  {
   "cell_type": "markdown",
   "metadata": {},
   "source": [
    "<div style=\"background-color:#FFB200; padding:10px; color:black; font-size:50px; \" > \n",
    "    This chart displays the top genres based on the movie count, and the appearance is customized with a specified figure size, title, and axis labels for better readability..\n",
    "</div>\n"
   ]
  },
  {
   "cell_type": "code",
   "execution_count": 113,
   "metadata": {},
   "outputs": [
    {
     "data": {
      "text/plain": [
       "Text(0, 0.5, 'Movies Count')"
      ]
     },
     "execution_count": 113,
     "metadata": {},
     "output_type": "execute_result"
    },
    {
     "data": {
      "text/plain": [
       "<Figure size 3750x1250 with 0 Axes>"
      ]
     },
     "metadata": {},
     "output_type": "display_data"
    },
    {
     "data": {
      "image/png": "[encoded data removed]",
      "text/plain": [
       "<Figure size 640x480 with 1 Axes>"
      ]
     },
     "metadata": {},
     "output_type": "display_data"
    }
   ],
   "source": [
    "# Creating a bar chart using Matplotlib to visualize the top 15 genres with the most movies\n",
    "plt.figure(figsize=(15, 5), dpi=250)\n",
    "\n",
    "# Sorting the DataFrame 'df_genre' by count in descending order and selecting the top 15\n",
    "df_genre.sort_values(by='cnt', ascending=False)[:15].plot(x='genre_name', y='cnt', kind='bar')\n",
    "\n",
    "# Customizing the plot title and labels\n",
    "plt.title('Top Genres with the Most Number of Movies')\n",
    "plt.xlabel(\"Genre\", fontsize=13)\n",
    "plt.ylabel(\"Movies Count\", fontsize=11)\n"
   ]
  },
  {
   "cell_type": "markdown",
   "metadata": {},
   "source": [
    "<div style=\"background-color:#FFB200; padding:10px; color:black; font-size:50px; \" > \n",
    "    This chart visually represents the top genres based on movie count, and Seaborn is utilized for its aesthetic appeal. The appearance is customized with a specified figure size, title, axis labels, and rotation of x-axis labels for better visualization.\n",
    "</div>\n"
   ]
  },
  {
   "cell_type": "code",
   "execution_count": null,
   "metadata": {},
   "outputs": [],
   "source": [
    "# Creating a bar chart using Seaborn to visualize the top genres with the most movies\n",
    "plt.figure(figsize=(15, 5), dpi=250)\n",
    "\n",
    "# Sorting the DataFrame 'df_genre' by count in descending order\n",
    "df_genre = df_genre.sort_values(by='cnt', ascending=False)\n",
    "\n",
    "# Plotting the bar chart using Seaborn with a modified background color\n",
    "sns.set_theme(style=\"whitegrid\", rc={\"axes.facecolor\": \"#FFB200\"})\n",
    "barplot = sns.barplot(x=df_genre['genre_name'], y=df_genre['cnt'])\n",
    "\n",
    "# Adding movies count values on the graph\n",
    "for index, value in enumerate(df_genre['cnt']):\n",
    "    barplot.text(index, value + 0.2, str(value), ha='center', va='bottom', fontsize=9)\n",
    "\n",
    "# Displaying the plot with modified background color and added count values\n",
    "plt.title('Top Genres with the Most Number of Movies')\n",
    "plt.xlabel(\"Genre\", fontsize=13)\n",
    "plt.ylabel(\"Movies Count\", fontsize=11)\n",
    "plt.xticks(rotation=90)\n",
    "\n",
    "# Removing y-axis labels for better visualization\n",
    "plt.yticks([])\n",
    "\n",
    "# Displaying the modified background color and count values\n",
    "plt.show()\n"
   ]
  },
  {
   "cell_type": "markdown",
   "metadata": {},
   "source": [
    "<div style=\"background-color:#FFB200; padding:10px; color:black; font-size:50px; \"> \n",
    "This code utilizes Plotly Express to create an interactive bar chart, showing movie counts per genre The chart is customized with a dark template, color scheme, and title for a visually appealing display.   \n",
    "</div>"
   ]
  },
  {
   "cell_type": "code",
   "execution_count": 115,
   "metadata": {},
   "outputs": [
    {
     "data": {
      "application/vnd.plotly.v1+json": {
       "config": {
        "plotlyServerURL": "https://plot.ly"
       },
       "data": [
        {
         "alignmentgroup": "True",
         "hovertemplate": "genre_name=%{x}<br>cnt=%{y}<extra></extra>",
         "legendgroup": "",
         "marker": {
          "color": "rgb(27,158,119)",
          "pattern": {
           "shape": ""
          }
         },
         "name": "",
         "offsetgroup": "",
         "orientation": "v",
         "showlegend": false,
         "textposition": "auto",
         "type": "bar",
         "x": [
          "War",
          "Sci-Fi",
          "Romance",
          "Talk-Show",
          "Animation",
          "Horror",
          "Adventure",
          "Comedy",
          "Sport",
          "Film-Noir",
          "Short",
          "Game-Show",
          "Mystery",
          "History",
          "Biography",
          "Music",
          "Drama",
          "Fantasy",
          "Adult",
          "Western",
          "Musical",
          "Reality-TV",
          "Action",
          "Family",
          "Thriller",
          "News",
          "Crime",
          "Documentary"
         ],
         "xaxis": "x",
         "y": [
          32128,
          98745,
          99986,
          82860,
          388765,
          164013,
          348034,
          452896,
          241713,
          771,
          394411,
          324968,
          174146,
          148421,
          93549,
          299065,
          516399,
          147531,
          50,
          29232,
          84862,
          237513,
          312766,
          243254,
          151520,
          48059,
          271023,
          155475
         ],
         "yaxis": "y"
        }
       ],
       "layout": {
        "autosize": true,
        "barmode": "relative",
        "legend": {
         "tracegroupgap": 0
        },
        "paper_bgcolor": "#FFB200",
        "plot_bgcolor": "#FFB200",
        "template": {
         "data": {
          "bar": [
           {
            "error_x": {
             "color": "#f2f5fa"
            },
            "error_y": {
             "color": "#f2f5fa"
            },
            "marker": {
             "line": {
              "color": "rgb(17,17,17)",
              "width": 0.5
             },
             "pattern": {
              "fillmode": "overlay",
              "size": 10,
              "solidity": 0.2
             }
            },
            "type": "bar"
           }
          ],
          "barpolar": [
           {
            "marker": {
             "line": {
              "color": "rgb(17,17,17)",
              "width": 0.5
             },
             "pattern": {
              "fillmode": "overlay",
              "size": 10,
              "solidity": 0.2
             }
            },
            "type": "barpolar"
           }
          ],
          "carpet": [
           {
            "aaxis": {
             "endlinecolor": "#A2B1C6",
             "gridcolor": "#506784",
             "linecolor": "#506784",
             "minorgridcolor": "#506784",
             "startlinecolor": "#A2B1C6"
            },
            "baxis": {
             "endlinecolor": "#A2B1C6",
             "gridcolor": "#506784",
             "linecolor": "#506784",
             "minorgridcolor": "#506784",
             "startlinecolor": "#A2B1C6"
            },
            "type": "carpet"
           }
          ],
          "choropleth": [
           {
            "colorbar": {
             "outlinewidth": 0,
             "ticks": ""
            },
            "type": "choropleth"
           }
          ],
          "contour": [
           {
            "colorbar": {
             "outlinewidth": 0,
             "ticks": ""
            },
            "colorscale": [
             [
              0,
              "#0d0887"
             ],
             [
              0.1111111111111111,
              "#46039f"
             ],
             [
              0.2222222222222222,
              "#7201a8"
             ],
             [
              0.3333333333333333,
              "#9c179e"
             ],
             [
              0.4444444444444444,
              "#bd3786"
             ],
             [
              0.5555555555555556,
              "#d8576b"
             ],
             [
              0.6666666666666666,
              "#ed7953"
             ],
             [
              0.7777777777777778,
              "#fb9f3a"
             ],
             [
              0.8888888888888888,
              "#fdca26"
             ],
             [
              1,
              "#f0f921"
             ]
            ],
            "type": "contour"
           }
          ],
          "contourcarpet": [
           {
            "colorbar": {
             "outlinewidth": 0,
             "ticks": ""
            },
            "type": "contourcarpet"
           }
          ],
          "heatmap": [
           {
            "colorbar": {
             "outlinewidth": 0,
             "ticks": ""
            },
            "colorscale": [
             [
              0,
              "#0d0887"
             ],
             [
              0.1111111111111111,
              "#46039f"
             ],
             [
              0.2222222222222222,
              "#7201a8"
             ],
             [
              0.3333333333333333,
              "#9c179e"
             ],
             [
              0.4444444444444444,
              "#bd3786"
             ],
             [
              0.5555555555555556,
              "#d8576b"
             ],
             [
              0.6666666666666666,
              "#ed7953"
             ],
             [
              0.7777777777777778,
              "#fb9f3a"
             ],
             [
              0.8888888888888888,
              "#fdca26"
             ],
             [
              1,
              "#f0f921"
             ]
            ],
            "type": "heatmap"
           }
          ],
          "heatmapgl": [
           {
            "colorbar": {
             "outlinewidth": 0,
             "ticks": ""
            },
            "colorscale": [
             [
              0,
              "#0d0887"
             ],
             [
              0.1111111111111111,
              "#46039f"
             ],
             [
              0.2222222222222222,
              "#7201a8"
             ],
             [
              0.3333333333333333,
              "#9c179e"
             ],
             [
              0.4444444444444444,
              "#bd3786"
             ],
             [
              0.5555555555555556,
              "#d8576b"
             ],
             [
              0.6666666666666666,
              "#ed7953"
             ],
             [
              0.7777777777777778,
              "#fb9f3a"
             ],
             [
              0.8888888888888888,
              "#fdca26"
             ],
             [
              1,
              "#f0f921"
             ]
            ],
            "type": "heatmapgl"
           }
          ],
          "histogram": [
           {
            "marker": {
             "pattern": {
              "fillmode": "overlay",
              "size": 10,
              "solidity": 0.2
             }
            },
            "type": "histogram"
           }
          ],
          "histogram2d": [
           {
            "colorbar": {
             "outlinewidth": 0,
             "ticks": ""
            },
            "colorscale": [
             [
              0,
              "#0d0887"
             ],
             [
              0.1111111111111111,
              "#46039f"
             ],
             [
              0.2222222222222222,
              "#7201a8"
             ],
             [
              0.3333333333333333,
              "#9c179e"
             ],
             [
              0.4444444444444444,
              "#bd3786"
             ],
             [
              0.5555555555555556,
              "#d8576b"
             ],
             [
              0.6666666666666666,
              "#ed7953"
             ],
             [
              0.7777777777777778,
              "#fb9f3a"
             ],
             [
              0.8888888888888888,
              "#fdca26"
             ],
             [
              1,
              "#f0f921"
             ]
            ],
            "type": "histogram2d"
           }
          ],
          "histogram2dcontour": [
           {
            "colorbar": {
             "outlinewidth": 0,
             "ticks": ""
            },
            "colorscale": [
             [
              0,
              "#0d0887"
             ],
             [
              0.1111111111111111,
              "#46039f"
             ],
             [
              0.2222222222222222,
              "#7201a8"
             ],
             [
              0.3333333333333333,
              "#9c179e"
             ],
             [
              0.4444444444444444,
              "#bd3786"
             ],
             [
              0.5555555555555556,
              "#d8576b"
             ],
             [
              0.6666666666666666,
              "#ed7953"
             ],
             [
              0.7777777777777778,
              "#fb9f3a"
             ],
             [
              0.8888888888888888,
              "#fdca26"
             ],
             [
              1,
              "#f0f921"
             ]
            ],
            "type": "histogram2dcontour"
           }
          ],
          "mesh3d": [
           {
            "colorbar": {
             "outlinewidth": 0,
             "ticks": ""
            },
            "type": "mesh3d"
           }
          ],
          "parcoords": [
           {
            "line": {
             "colorbar": {
              "outlinewidth": 0,
              "ticks": ""
             }
            },
            "type": "parcoords"
           }
          ],
          "pie": [
           {
            "automargin": true,
            "type": "pie"
           }
          ],
          "scatter": [
           {
            "marker": {
             "line": {
              "color": "#283442"
             }
            },
            "type": "scatter"
           }
          ],
          "scatter3d": [
           {
            "line": {
             "colorbar": {
              "outlinewidth": 0,
              "ticks": ""
             }
            },
            "marker": {
             "colorbar": {
              "outlinewidth": 0,
              "ticks": ""
             }
            },
            "type": "scatter3d"
           }
          ],
          "scattercarpet": [
           {
            "marker": {
             "colorbar": {
              "outlinewidth": 0,
              "ticks": ""
             }
            },
            "type": "scattercarpet"
           }
          ],
          "scattergeo": [
           {
            "marker": {
             "colorbar": {
              "outlinewidth": 0,
              "ticks": ""
             }
            },
            "type": "scattergeo"
           }
          ],
          "scattergl": [
           {
            "marker": {
             "line": {
              "color": "#283442"
             }
            },
            "type": "scattergl"
           }
          ],
          "scattermapbox": [
           {
            "marker": {
             "colorbar": {
              "outlinewidth": 0,
              "ticks": ""
             }
            },
            "type": "scattermapbox"
           }
          ],
          "scatterpolar": [
           {
            "marker": {
             "colorbar": {
              "outlinewidth": 0,
              "ticks": ""
             }
            },
            "type": "scatterpolar"
           }
          ],
          "scatterpolargl": [
           {
            "marker": {
             "colorbar": {
              "outlinewidth": 0,
              "ticks": ""
             }
            },
            "type": "scatterpolargl"
           }
          ],
          "scatterternary": [
           {
            "marker": {
             "colorbar": {
              "outlinewidth": 0,
              "ticks": ""
             }
            },
            "type": "scatterternary"
           }
          ],
          "surface": [
           {
            "colorbar": {
             "outlinewidth": 0,
             "ticks": ""
            },
            "colorscale": [
             [
              0,
              "#0d0887"
             ],
             [
              0.1111111111111111,
              "#46039f"
             ],
             [
              0.2222222222222222,
              "#7201a8"
             ],
             [
              0.3333333333333333,
              "#9c179e"
             ],
             [
              0.4444444444444444,
              "#bd3786"
             ],
             [
              0.5555555555555556,
              "#d8576b"
             ],
             [
              0.6666666666666666,
              "#ed7953"
             ],
             [
              0.7777777777777778,
              "#fb9f3a"
             ],
             [
              0.8888888888888888,
              "#fdca26"
             ],
             [
              1,
              "#f0f921"
             ]
            ],
            "type": "surface"
           }
          ],
          "table": [
           {
            "cells": {
             "fill": {
              "color": "#506784"
             },
             "line": {
              "color": "rgb(17,17,17)"
             }
            },
            "header": {
             "fill": {
              "color": "#2a3f5f"
             },
             "line": {
              "color": "rgb(17,17,17)"
             }
            },
            "type": "table"
           }
          ]
         },
         "layout": {
          "annotationdefaults": {
           "arrowcolor": "#f2f5fa",
           "arrowhead": 0,
           "arrowwidth": 1
          },
          "autotypenumbers": "strict",
          "coloraxis": {
           "colorbar": {
            "outlinewidth": 0,
            "ticks": ""
           }
          },
          "colorscale": {
           "diverging": [
            [
             0,
             "#8e0152"
            ],
            [
             0.1,
             "#c51b7d"
            ],
            [
             0.2,
             "#de77ae"
            ],
            [
             0.3,
             "#f1b6da"
            ],
            [
             0.4,
             "#fde0ef"
            ],
            [
             0.5,
             "#f7f7f7"
            ],
            [
             0.6,
             "#e6f5d0"
            ],
            [
             0.7,
             "#b8e186"
            ],
            [
             0.8,
             "#7fbc41"
            ],
            [
             0.9,
             "#4d9221"
            ],
            [
             1,
             "#276419"
            ]
           ],
           "sequential": [
            [
             0,
             "#0d0887"
            ],
            [
             0.1111111111111111,
             "#46039f"
            ],
            [
             0.2222222222222222,
             "#7201a8"
            ],
            [
             0.3333333333333333,
             "#9c179e"
            ],
            [
             0.4444444444444444,
             "#bd3786"
            ],
            [
             0.5555555555555556,
             "#d8576b"
            ],
            [
             0.6666666666666666,
             "#ed7953"
            ],
            [
             0.7777777777777778,
             "#fb9f3a"
            ],
            [
             0.8888888888888888,
             "#fdca26"
            ],
            [
             1,
             "#f0f921"
            ]
           ],
           "sequentialminus": [
            [
             0,
             "#0d0887"
            ],
            [
             0.1111111111111111,
             "#46039f"
            ],
            [
             0.2222222222222222,
             "#7201a8"
            ],
            [
             0.3333333333333333,
             "#9c179e"
            ],
            [
             0.4444444444444444,
             "#bd3786"
            ],
            [
             0.5555555555555556,
             "#d8576b"
            ],
            [
             0.6666666666666666,
             "#ed7953"
            ],
            [
             0.7777777777777778,
             "#fb9f3a"
            ],
            [
             0.8888888888888888,
             "#fdca26"
            ],
            [
             1,
             "#f0f921"
            ]
           ]
          },
          "colorway": [
           "#636efa",
           "#EF553B",
           "#00cc96",
           "#ab63fa",
           "#FFA15A",
           "#19d3f3",
           "#FF6692",
           "#B6E880",
           "#FF97FF",
           "#FECB52"
          ],
          "font": {
           "color": "#f2f5fa"
          },
          "geo": {
           "bgcolor": "rgb(17,17,17)",
           "lakecolor": "rgb(17,17,17)",
           "landcolor": "rgb(17,17,17)",
           "showlakes": true,
           "showland": true,
           "subunitcolor": "#506784"
          },
          "hoverlabel": {
           "align": "left"
          },
          "hovermode": "closest",
          "mapbox": {
           "style": "dark"
          },
          "paper_bgcolor": "rgb(17,17,17)",
          "plot_bgcolor": "rgb(17,17,17)",
          "polar": {
           "angularaxis": {
            "gridcolor": "#506784",
            "linecolor": "#506784",
            "ticks": ""
           },
           "bgcolor": "rgb(17,17,17)",
           "radialaxis": {
            "gridcolor": "#506784",
            "linecolor": "#506784",
            "ticks": ""
           }
          },
          "scene": {
           "xaxis": {
            "backgroundcolor": "rgb(17,17,17)",
            "gridcolor": "#506784",
            "gridwidth": 2,
            "linecolor": "#506784",
            "showbackground": true,
            "ticks": "",
            "zerolinecolor": "#C8D4E3"
           },
           "yaxis": {
            "backgroundcolor": "rgb(17,17,17)",
            "gridcolor": "#506784",
            "gridwidth": 2,
            "linecolor": "#506784",
            "showbackground": true,
            "ticks": "",
            "zerolinecolor": "#C8D4E3"
           },
           "zaxis": {
            "backgroundcolor": "rgb(17,17,17)",
            "gridcolor": "#506784",
            "gridwidth": 2,
            "linecolor": "#506784",
            "showbackground": true,
            "ticks": "",
            "zerolinecolor": "#C8D4E3"
           }
          },
          "shapedefaults": {
           "line": {
            "color": "#f2f5fa"
           }
          },
          "sliderdefaults": {
           "bgcolor": "#C8D4E3",
           "bordercolor": "rgb(17,17,17)",
           "borderwidth": 1,
           "tickwidth": 0
          },
          "ternary": {
           "aaxis": {
            "gridcolor": "#506784",
            "linecolor": "#506784",
            "ticks": ""
           },
           "baxis": {
            "gridcolor": "#506784",
            "linecolor": "#506784",
            "ticks": ""
           },
           "bgcolor": "rgb(17,17,17)",
           "caxis": {
            "gridcolor": "#506784",
            "linecolor": "#506784",
            "ticks": ""
           }
          },
          "title": {
           "x": 0.05
          },
          "updatemenudefaults": {
           "bgcolor": "#506784",
           "borderwidth": 0
          },
          "xaxis": {
           "automargin": true,
           "gridcolor": "#283442",
           "linecolor": "#506784",
           "ticks": "",
           "title": {
            "standoff": 15
           },
           "zerolinecolor": "#283442",
           "zerolinewidth": 2
          },
          "yaxis": {
           "automargin": true,
           "gridcolor": "#283442",
           "linecolor": "#506784",
           "ticks": "",
           "title": {
            "standoff": 15
           },
           "zerolinecolor": "#283442",
           "zerolinewidth": 2
          }
         }
        },
        "title": {
         "text": "<b>Movies Counts as per Genre"
        },
        "xaxis": {
         "anchor": "y",
         "autorange": true,
         "domain": [
          0,
          1
         ],
         "range": [
          -0.5,
          27.5
         ],
         "title": {
          "text": "genre_name"
         },
         "type": "category"
        },
        "yaxis": {
         "anchor": "x",
         "autorange": true,
         "domain": [
          0,
          1
         ],
         "range": [
          0,
          543577.8947368421
         ],
         "title": {
          "text": "cnt"
         },
         "type": "linear"
        }
       }
      },
      "image/png": "[encoded data removed]",
      "text/html": [
       "<div>                            <div id=\"ecab6b9a-1c3e-4df2-a0d4-f2f97b4e2e51\" class=\"plotly-graph-div\" style=\"height:525px; width:100%;\"></div>            <script type=\"text/javascript\">                require([\"plotly\"], function(Plotly) {                    window.PLOTLYENV=window.PLOTLYENV || {};                                    if (document.getElementById(\"ecab6b9a-1c3e-4df2-a0d4-f2f97b4e2e51\")) {                    Plotly.newPlot(                        \"ecab6b9a-1c3e-4df2-a0d4-f2f97b4e2e51\",                        [{\"alignmentgroup\":\"True\",\"hovertemplate\":\"genre_name=%{x}\\u003cbr\\u003ecnt=%{y}\\u003cextra\\u003e\\u003c\\u002fextra\\u003e\",\"legendgroup\":\"\",\"marker\":{\"color\":\"rgb(27,158,119)\",\"pattern\":{\"shape\":\"\"}},\"name\":\"\",\"offsetgroup\":\"\",\"orientation\":\"v\",\"showlegend\":false,\"textposition\":\"auto\",\"x\":[\"War\",\"Sci-Fi\",\"Romance\",\"Talk-Show\",\"Animation\",\"Horror\",\"Adventure\",\"Comedy\",\"Sport\",\"Film-Noir\",\"Short\",\"Game-Show\",\"Mystery\",\"History\",\"Biography\",\"Music\",\"Drama\",\"Fantasy\",\"Adult\",\"Western\",\"Musical\",\"Reality-TV\",\"Action\",\"Family\",\"Thriller\",\"News\",\"Crime\",\"Documentary\"],\"xaxis\":\"x\",\"y\":[32128,98745,99986,82860,388765,164013,348034,452896,241713,771,394411,324968,174146,148421,93549,299065,516399,147531,50,29232,84862,237513,312766,243254,151520,48059,271023,155475],\"yaxis\":\"y\",\"type\":\"bar\"}],                        {\"template\":{\"data\":{\"barpolar\":[{\"marker\":{\"line\":{\"color\":\"rgb(17,17,17)\",\"width\":0.5},\"pattern\":{\"fillmode\":\"overlay\",\"size\":10,\"solidity\":0.2}},\"type\":\"barpolar\"}],\"bar\":[{\"error_x\":{\"color\":\"#f2f5fa\"},\"error_y\":{\"color\":\"#f2f5fa\"},\"marker\":{\"line\":{\"color\":\"rgb(17,17,17)\",\"width\":0.5},\"pattern\":{\"fillmode\":\"overlay\",\"size\":10,\"solidity\":0.2}},\"type\":\"bar\"}],\"carpet\":[{\"aaxis\":{\"endlinecolor\":\"#A2B1C6\",\"gridcolor\":\"#506784\",\"linecolor\":\"#506784\",\"minorgridcolor\":\"#506784\",\"startlinecolor\":\"#A2B1C6\"},\"baxis\":{\"endlinecolor\":\"#A2B1C6\",\"gridcolor\":\"#506784\",\"linecolor\":\"#506784\",\"minorgridcolor\":\"#506784\",\"startlinecolor\":\"#A2B1C6\"},\"type\":\"carpet\"}],\"choropleth\":[{\"colorbar\":{\"outlinewidth\":0,\"ticks\":\"\"},\"type\":\"choropleth\"}],\"contourcarpet\":[{\"colorbar\":{\"outlinewidth\":0,\"ticks\":\"\"},\"type\":\"contourcarpet\"}],\"contour\":[{\"colorbar\":{\"outlinewidth\":0,\"ticks\":\"\"},\"colorscale\":[[0.0,\"#0d0887\"],[0.1111111111111111,\"#46039f\"],[0.2222222222222222,\"#7201a8\"],[0.3333333333333333,\"#9c179e\"],[0.4444444444444444,\"#bd3786\"],[0.5555555555555556,\"#d8576b\"],[0.6666666666666666,\"#ed7953\"],[0.7777777777777778,\"#fb9f3a\"],[0.8888888888888888,\"#fdca26\"],[1.0,\"#f0f921\"]],\"type\":\"contour\"}],\"heatmapgl\":[{\"colorbar\":{\"outlinewidth\":0,\"ticks\":\"\"},\"colorscale\":[[0.0,\"#0d0887\"],[0.1111111111111111,\"#46039f\"],[0.2222222222222222,\"#7201a8\"],[0.3333333333333333,\"#9c179e\"],[0.4444444444444444,\"#bd3786\"],[0.5555555555555556,\"#d8576b\"],[0.6666666666666666,\"#ed7953\"],[0.7777777777777778,\"#fb9f3a\"],[0.8888888888888888,\"#fdca26\"],[1.0,\"#f0f921\"]],\"type\":\"heatmapgl\"}],\"heatmap\":[{\"colorbar\":{\"outlinewidth\":0,\"ticks\":\"\"},\"colorscale\":[[0.0,\"#0d0887\"],[0.1111111111111111,\"#46039f\"],[0.2222222222222222,\"#7201a8\"],[0.3333333333333333,\"#9c179e\"],[0.4444444444444444,\"#bd3786\"],[0.5555555555555556,\"#d8576b\"],[0.6666666666666666,\"#ed7953\"],[0.7777777777777778,\"#fb9f3a\"],[0.8888888888888888,\"#fdca26\"],[1.0,\"#f0f921\"]],\"type\":\"heatmap\"}],\"histogram2dcontour\":[{\"colorbar\":{\"outlinewidth\":0,\"ticks\":\"\"},\"colorscale\":[[0.0,\"#0d0887\"],[0.1111111111111111,\"#46039f\"],[0.2222222222222222,\"#7201a8\"],[0.3333333333333333,\"#9c179e\"],[0.4444444444444444,\"#bd3786\"],[0.5555555555555556,\"#d8576b\"],[0.6666666666666666,\"#ed7953\"],[0.7777777777777778,\"#fb9f3a\"],[0.8888888888888888,\"#fdca26\"],[1.0,\"#f0f921\"]],\"type\":\"histogram2dcontour\"}],\"histogram2d\":[{\"colorbar\":{\"outlinewidth\":0,\"ticks\":\"\"},\"colorscale\":[[0.0,\"#0d0887\"],[0.1111111111111111,\"#46039f\"],[0.2222222222222222,\"#7201a8\"],[0.3333333333333333,\"#9c179e\"],[0.4444444444444444,\"#bd3786\"],[0.5555555555555556,\"#d8576b\"],[0.6666666666666666,\"#ed7953\"],[0.7777777777777778,\"#fb9f3a\"],[0.8888888888888888,\"#fdca26\"],[1.0,\"#f0f921\"]],\"type\":\"histogram2d\"}],\"histogram\":[{\"marker\":{\"pattern\":{\"fillmode\":\"overlay\",\"size\":10,\"solidity\":0.2}},\"type\":\"histogram\"}],\"mesh3d\":[{\"colorbar\":{\"outlinewidth\":0,\"ticks\":\"\"},\"type\":\"mesh3d\"}],\"parcoords\":[{\"line\":{\"colorbar\":{\"outlinewidth\":0,\"ticks\":\"\"}},\"type\":\"parcoords\"}],\"pie\":[{\"automargin\":true,\"type\":\"pie\"}],\"scatter3d\":[{\"line\":{\"colorbar\":{\"outlinewidth\":0,\"ticks\":\"\"}},\"marker\":{\"colorbar\":{\"outlinewidth\":0,\"ticks\":\"\"}},\"type\":\"scatter3d\"}],\"scattercarpet\":[{\"marker\":{\"colorbar\":{\"outlinewidth\":0,\"ticks\":\"\"}},\"type\":\"scattercarpet\"}],\"scattergeo\":[{\"marker\":{\"colorbar\":{\"outlinewidth\":0,\"ticks\":\"\"}},\"type\":\"scattergeo\"}],\"scattergl\":[{\"marker\":{\"line\":{\"color\":\"#283442\"}},\"type\":\"scattergl\"}],\"scattermapbox\":[{\"marker\":{\"colorbar\":{\"outlinewidth\":0,\"ticks\":\"\"}},\"type\":\"scattermapbox\"}],\"scatterpolargl\":[{\"marker\":{\"colorbar\":{\"outlinewidth\":0,\"ticks\":\"\"}},\"type\":\"scatterpolargl\"}],\"scatterpolar\":[{\"marker\":{\"colorbar\":{\"outlinewidth\":0,\"ticks\":\"\"}},\"type\":\"scatterpolar\"}],\"scatter\":[{\"marker\":{\"line\":{\"color\":\"#283442\"}},\"type\":\"scatter\"}],\"scatterternary\":[{\"marker\":{\"colorbar\":{\"outlinewidth\":0,\"ticks\":\"\"}},\"type\":\"scatterternary\"}],\"surface\":[{\"colorbar\":{\"outlinewidth\":0,\"ticks\":\"\"},\"colorscale\":[[0.0,\"#0d0887\"],[0.1111111111111111,\"#46039f\"],[0.2222222222222222,\"#7201a8\"],[0.3333333333333333,\"#9c179e\"],[0.4444444444444444,\"#bd3786\"],[0.5555555555555556,\"#d8576b\"],[0.6666666666666666,\"#ed7953\"],[0.7777777777777778,\"#fb9f3a\"],[0.8888888888888888,\"#fdca26\"],[1.0,\"#f0f921\"]],\"type\":\"surface\"}],\"table\":[{\"cells\":{\"fill\":{\"color\":\"#506784\"},\"line\":{\"color\":\"rgb(17,17,17)\"}},\"header\":{\"fill\":{\"color\":\"#2a3f5f\"},\"line\":{\"color\":\"rgb(17,17,17)\"}},\"type\":\"table\"}]},\"layout\":{\"annotationdefaults\":{\"arrowcolor\":\"#f2f5fa\",\"arrowhead\":0,\"arrowwidth\":1},\"autotypenumbers\":\"strict\",\"coloraxis\":{\"colorbar\":{\"outlinewidth\":0,\"ticks\":\"\"}},\"colorscale\":{\"diverging\":[[0,\"#8e0152\"],[0.1,\"#c51b7d\"],[0.2,\"#de77ae\"],[0.3,\"#f1b6da\"],[0.4,\"#fde0ef\"],[0.5,\"#f7f7f7\"],[0.6,\"#e6f5d0\"],[0.7,\"#b8e186\"],[0.8,\"#7fbc41\"],[0.9,\"#4d9221\"],[1,\"#276419\"]],\"sequential\":[[0.0,\"#0d0887\"],[0.1111111111111111,\"#46039f\"],[0.2222222222222222,\"#7201a8\"],[0.3333333333333333,\"#9c179e\"],[0.4444444444444444,\"#bd3786\"],[0.5555555555555556,\"#d8576b\"],[0.6666666666666666,\"#ed7953\"],[0.7777777777777778,\"#fb9f3a\"],[0.8888888888888888,\"#fdca26\"],[1.0,\"#f0f921\"]],\"sequentialminus\":[[0.0,\"#0d0887\"],[0.1111111111111111,\"#46039f\"],[0.2222222222222222,\"#7201a8\"],[0.3333333333333333,\"#9c179e\"],[0.4444444444444444,\"#bd3786\"],[0.5555555555555556,\"#d8576b\"],[0.6666666666666666,\"#ed7953\"],[0.7777777777777778,\"#fb9f3a\"],[0.8888888888888888,\"#fdca26\"],[1.0,\"#f0f921\"]]},\"colorway\":[\"#636efa\",\"#EF553B\",\"#00cc96\",\"#ab63fa\",\"#FFA15A\",\"#19d3f3\",\"#FF6692\",\"#B6E880\",\"#FF97FF\",\"#FECB52\"],\"font\":{\"color\":\"#f2f5fa\"},\"geo\":{\"bgcolor\":\"rgb(17,17,17)\",\"lakecolor\":\"rgb(17,17,17)\",\"landcolor\":\"rgb(17,17,17)\",\"showlakes\":true,\"showland\":true,\"subunitcolor\":\"#506784\"},\"hoverlabel\":{\"align\":\"left\"},\"hovermode\":\"closest\",\"mapbox\":{\"style\":\"dark\"},\"paper_bgcolor\":\"rgb(17,17,17)\",\"plot_bgcolor\":\"rgb(17,17,17)\",\"polar\":{\"angularaxis\":{\"gridcolor\":\"#506784\",\"linecolor\":\"#506784\",\"ticks\":\"\"},\"bgcolor\":\"rgb(17,17,17)\",\"radialaxis\":{\"gridcolor\":\"#506784\",\"linecolor\":\"#506784\",\"ticks\":\"\"}},\"scene\":{\"xaxis\":{\"backgroundcolor\":\"rgb(17,17,17)\",\"gridcolor\":\"#506784\",\"gridwidth\":2,\"linecolor\":\"#506784\",\"showbackground\":true,\"ticks\":\"\",\"zerolinecolor\":\"#C8D4E3\"},\"yaxis\":{\"backgroundcolor\":\"rgb(17,17,17)\",\"gridcolor\":\"#506784\",\"gridwidth\":2,\"linecolor\":\"#506784\",\"showbackground\":true,\"ticks\":\"\",\"zerolinecolor\":\"#C8D4E3\"},\"zaxis\":{\"backgroundcolor\":\"rgb(17,17,17)\",\"gridcolor\":\"#506784\",\"gridwidth\":2,\"linecolor\":\"#506784\",\"showbackground\":true,\"ticks\":\"\",\"zerolinecolor\":\"#C8D4E3\"}},\"shapedefaults\":{\"line\":{\"color\":\"#f2f5fa\"}},\"sliderdefaults\":{\"bgcolor\":\"#C8D4E3\",\"bordercolor\":\"rgb(17,17,17)\",\"borderwidth\":1,\"tickwidth\":0},\"ternary\":{\"aaxis\":{\"gridcolor\":\"#506784\",\"linecolor\":\"#506784\",\"ticks\":\"\"},\"baxis\":{\"gridcolor\":\"#506784\",\"linecolor\":\"#506784\",\"ticks\":\"\"},\"bgcolor\":\"rgb(17,17,17)\",\"caxis\":{\"gridcolor\":\"#506784\",\"linecolor\":\"#506784\",\"ticks\":\"\"}},\"title\":{\"x\":0.05},\"updatemenudefaults\":{\"bgcolor\":\"#506784\",\"borderwidth\":0},\"xaxis\":{\"automargin\":true,\"gridcolor\":\"#283442\",\"linecolor\":\"#506784\",\"ticks\":\"\",\"title\":{\"standoff\":15},\"zerolinecolor\":\"#283442\",\"zerolinewidth\":2},\"yaxis\":{\"automargin\":true,\"gridcolor\":\"#283442\",\"linecolor\":\"#506784\",\"ticks\":\"\",\"title\":{\"standoff\":15},\"zerolinecolor\":\"#283442\",\"zerolinewidth\":2}}},\"xaxis\":{\"anchor\":\"y\",\"domain\":[0.0,1.0],\"title\":{\"text\":\"genre_name\"}},\"yaxis\":{\"anchor\":\"x\",\"domain\":[0.0,1.0],\"title\":{\"text\":\"cnt\"}},\"legend\":{\"tracegroupgap\":0},\"title\":{\"text\":\"\\u003cb\\u003eMovies Counts as per Genre\"},\"barmode\":\"relative\",\"plot_bgcolor\":\"#FFB200\",\"paper_bgcolor\":\"#FFB200\"},                        {\"responsive\": true}                    ).then(function(){\n",
       "                            \n",
       "var gd = document.getElementById('ecab6b9a-1c3e-4df2-a0d4-f2f97b4e2e51');\n",
       "var x = new MutationObserver(function (mutations, observer) {{\n",
       "        var display = window.getComputedStyle(gd).display;\n",
       "        if (!display || display === 'none') {{\n",
       "            console.log([gd, 'removed!']);\n",
       "            Plotly.purge(gd);\n",
       "            observer.disconnect();\n",
       "        }}\n",
       "}});\n",
       "\n",
       "// Listen for the removal of the full notebook cells\n",
       "var notebookContainer = gd.closest('#notebook-container');\n",
       "if (notebookContainer) {{\n",
       "    x.observe(notebookContainer, {childList: true});\n",
       "}}\n",
       "\n",
       "// Listen for the clearing of the current output cell\n",
       "var outputEl = gd.closest('.output');\n",
       "if (outputEl) {{\n",
       "    x.observe(outputEl, {childList: true});\n",
       "}}\n",
       "\n",
       "                        })                };                });            </script>        </div>"
      ]
     },
     "metadata": {},
     "output_type": "display_data"
    }
   ],
   "source": [
    "# Creating an interactive bar chart using Plotly Express to visualize movie counts per genre\n",
    "fig = px.bar(df_genre,\n",
    "             x='genre_name',\n",
    "             y='cnt',\n",
    "             template='plotly_dark',\n",
    "             color_discrete_sequence=px.colors.qualitative.Dark2,\n",
    "             title='<b>Movies Counts as per Genre')\n",
    "\n",
    "# Modifying background colors\n",
    "fig.update_layout(\n",
    "    plot_bgcolor='#FFB200',  # Background color of the plot area\n",
    "    paper_bgcolor='#FFB200'  # Background color of the entire plot\n",
    ")\n",
    "\n",
    "# Displaying the interactive chart\n",
    "fig.show()"
   ]
  },
  {
   "cell_type": "markdown",
   "metadata": {},
   "source": [
    "<div style=\"background-color:#FFB200; padding:10px; color:black; font-size:50px; \"> \n",
    "Plot top 10 Movies with maximum Gross-Income with Bar Graph \n",
    "</div>\n",
    "<div style=\"background-color:#FFB200; padding:10px; color:black; font-size:30px; \"> \n",
    "This chart displays the top 10 movies based on gross income, and Seaborn is used to represent revenue in million dollars. The appearance is customized with a specified figure size, title, axis labels, and rotation of x-axis labels for better visualization.\n",
    "\n",
    "</div>\n",
    "\n"
   ]
  },
  {
   "cell_type": "markdown",
   "metadata": {},
   "source": [
    "<div style=\"background-color:#FFB200; padding:10px; color:black; font-size:50px; \"> \n",
    "Convert \"gross_income\" data type from object to Integer\n",
    "</div>"
   ]
  },
  {
   "cell_type": "code",
   "execution_count": 125,
   "metadata": {},
   "outputs": [
    {
     "name": "stdout",
     "output_type": "stream",
     "text": [
      "2590932\n",
      "2590932\n"
     ]
    },
    {
     "data": {
      "text/plain": [
       "dtype('float64')"
      ]
     },
     "execution_count": 125,
     "metadata": {},
     "output_type": "execute_result"
    }
   ],
   "source": [
    "# Create an empty list 'gross' to store processed gross income values\n",
    "gross = []\n",
    "\n",
    "# Iterate through each element in the 'gross_income' column\n",
    "for income in df['gross_income']:\n",
    "    # Check if the element is a string\n",
    "    if type(income) == str:\n",
    "        try:\n",
    "            income = income.strip().replace(',', '')   # Replace comma with whitespace\n",
    "        except:\n",
    "            pass\n",
    "        \n",
    "        try:\n",
    "            income = income.replace('$', '')           # Replace $ symbol with empty space\n",
    "        except:\n",
    "            pass\n",
    "        \n",
    "        try:\n",
    "            income = income.replace('M', '')           # Replace M (i.e Million) with empty space\n",
    "            inc = float(income) * (10**6)              # Convert to float and Multiply by 1 Million (10**6)\n",
    "        except:\n",
    "            pass\n",
    "        \n",
    "        gross.append(int(inc))                        # Convert to integer and append to the 'gross' list\n",
    "    else:\n",
    "        gross.append(income)\n",
    "\n",
    "# Print the length of the 'gross' list and the total number of rows in the DataFrame\n",
    "print(len(gross))\n",
    "print(df.shape[0])\n",
    "\n",
    "# Replace the existing 'gross_income' column with the newly processed 'gross' list in the existing DataFrame\n",
    "df['gross_income'] = gross\n",
    "\n",
    "# Check the data type of the 'gross_income' column\n",
    "df['gross_income'].dtypes\n"
   ]
  },
  {
   "cell_type": "markdown",
   "metadata": {},
   "source": [
    "<div style=\"background-color:#FFB200; padding:10px; color:black; font-size:20px; \"> \n",
    "This code snippet sorts the DataFrame 'df' by 'gross_income' in descending order, selects the top 10 rows, and creates a bar chart using Seaborn to visualize the top 10 movies with the highest income. The plot title, X and Y labels, and rotation of X-axis labels are customized for better readability.\n",
    "</div>"
   ]
  },
  {
   "cell_type": "code",
   "execution_count": 128,
   "metadata": {
    "scrolled": true
   },
   "outputs": [
    {
     "data": {
      "image/png": "[encoded data removed]",
      "text/plain": [
       "<Figure size 3750x1250 with 1 Axes>"
      ]
     },
     "metadata": {},
     "output_type": "display_data"
    }
   ],
   "source": [
    "# Sorting the DataFrame 'df' by 'gross_income' in descending order and selecting the top 10\n",
    "top_10_movies_income = df.sort_values(by='gross_income', ascending=False)[['name', 'gross_income']][:10]\n",
    "\n",
    "# Creating a bar chart using Seaborn to visualize the top 10 movies with the highest income\n",
    "plt.figure(figsize=(15, 5), dpi=250)\n",
    "sns.barplot(data=top_10_movies_income, x=top_10_movies_income['name'], y=(top_10_movies_income['gross_income']/1000000))\n",
    "\n",
    "# Customizing the plot title, X and Y labels, and rotation of X-axis labels\n",
    "plt.title('Top 10 Movies with Highest Income')\n",
    "plt.xlabel(\"Movie Name\", fontsize=13)\n",
    "plt.ylabel(\"Revenue in Million $\", fontsize=11)\n",
    "plt.xticks(rotation=90)\n",
    "plt.show()\n"
   ]
  },
  {
   "cell_type": "markdown",
   "metadata": {},
   "source": [
    "<div style=\"background-color:#FFB200; padding:10px; color:black; font-size:20px; \"> \n",
    "This code creates an interactive bar chart using Plotly Express to visualize the top 10 movies by gross income. The chart includes features like coloring by movie name, a dark template, and a title. Additionally, the background color of the chart is changed to #FFB200 for both the plot and paper.\n",
    "\n",
    "The interactive chart is displayed using the `fig.show()` method.\n",
    "</div>d."
   ]
  },
  {
   "cell_type": "code",
   "execution_count": 129,
   "metadata": {},
   "outputs": [
    {
     "data": {
      "application/vnd.plotly.v1+json": {
       "config": {
        "plotlyServerURL": "https://plot.ly"
       },
       "data": [
        {
         "alignmentgroup": "True",
         "hovertemplate": "Movies Name=%{x}<br>gross_income=%{y}<extra></extra>",
         "legendgroup": "Star Wars: Episode VII - The Force Awakens",
         "marker": {
          "color": "rgb(27,158,119)",
          "pattern": {
           "shape": ""
          }
         },
         "name": "Star Wars: Episode VII - The Force Awakens",
         "offsetgroup": "Star Wars: Episode VII - The Force Awakens",
         "orientation": "v",
         "showlegend": true,
         "textposition": "auto",
         "type": "bar",
         "x": [
          "Star Wars: Episode VII - The Force Awakens"
         ],
         "xaxis": "x",
         "y": [
          936662225
         ],
         "yaxis": "y"
        },
        {
         "alignmentgroup": "True",
         "hovertemplate": "Movies Name=%{x}<br>gross_income=%{y}<extra></extra>",
         "legendgroup": "Avengers: Endgame",
         "marker": {
          "color": "rgb(217,95,2)",
          "pattern": {
           "shape": ""
          }
         },
         "name": "Avengers: Endgame",
         "offsetgroup": "Avengers: Endgame",
         "orientation": "v",
         "showlegend": true,
         "textposition": "auto",
         "type": "bar",
         "x": [
          "Avengers: Endgame"
         ],
         "xaxis": "x",
         "y": [
          858373000
         ],
         "yaxis": "y"
        },
        {
         "alignmentgroup": "True",
         "hovertemplate": "Movies Name=%{x}<br>gross_income=%{y}<extra></extra>",
         "legendgroup": "Uncharted",
         "marker": {
          "color": "rgb(117,112,179)",
          "pattern": {
           "shape": ""
          }
         },
         "name": "Uncharted",
         "offsetgroup": "Uncharted",
         "orientation": "v",
         "showlegend": true,
         "textposition": "auto",
         "type": "bar",
         "x": [
          "Uncharted"
         ],
         "xaxis": "x",
         "y": [
          804747988
         ],
         "yaxis": "y"
        },
        {
         "alignmentgroup": "True",
         "hovertemplate": "Movies Name=%{x}<br>gross_income=%{y}<extra></extra>",
         "legendgroup": "Vikram",
         "marker": {
          "color": "rgb(231,41,138)",
          "pattern": {
           "shape": ""
          }
         },
         "name": "Vikram",
         "offsetgroup": "Vikram",
         "orientation": "v",
         "showlegend": true,
         "textposition": "auto",
         "type": "bar",
         "x": [
          "Vikram"
         ],
         "xaxis": "x",
         "y": [
          804747988
         ],
         "yaxis": "y"
        },
        {
         "alignmentgroup": "True",
         "hovertemplate": "Movies Name=%{x}<br>gross_income=%{y}<extra></extra>",
         "legendgroup": "Spider-Man: No Way Home",
         "marker": {
          "color": "rgb(102,166,30)",
          "pattern": {
           "shape": ""
          }
         },
         "name": "Spider-Man: No Way Home",
         "offsetgroup": "Spider-Man: No Way Home",
         "orientation": "v",
         "showlegend": true,
         "textposition": "auto",
         "type": "bar",
         "x": [
          "Spider-Man: No Way Home"
         ],
         "xaxis": "x",
         "y": [
          804747988
         ],
         "yaxis": "y"
        },
        {
         "alignmentgroup": "True",
         "hovertemplate": "Movies Name=%{x}<br>gross_income=%{y}<extra></extra>",
         "legendgroup": "Halo",
         "marker": {
          "color": "rgb(230,171,2)",
          "pattern": {
           "shape": ""
          }
         },
         "name": "Halo",
         "offsetgroup": "Halo",
         "orientation": "v",
         "showlegend": true,
         "textposition": "auto",
         "type": "bar",
         "x": [
          "Halo"
         ],
         "xaxis": "x",
         "y": [
          804747988
         ],
         "yaxis": "y"
        },
        {
         "alignmentgroup": "True",
         "hovertemplate": "Movies Name=%{x}<br>gross_income=%{y}<extra></extra>",
         "legendgroup": "Moon Knight",
         "marker": {
          "color": "rgb(166,118,29)",
          "pattern": {
           "shape": ""
          }
         },
         "name": "Moon Knight",
         "offsetgroup": "Moon Knight",
         "orientation": "v",
         "showlegend": true,
         "textposition": "auto",
         "type": "bar",
         "x": [
          "Moon Knight"
         ],
         "xaxis": "x",
         "y": [
          804747988
         ],
         "yaxis": "y"
        },
        {
         "alignmentgroup": "True",
         "hovertemplate": "Movies Name=%{x}<br>gross_income=%{y}<extra></extra>",
         "legendgroup": "Doctor Who",
         "marker": {
          "color": "rgb(102,102,102)",
          "pattern": {
           "shape": ""
          }
         },
         "name": "Doctor Who",
         "offsetgroup": "Doctor Who",
         "orientation": "v",
         "showlegend": true,
         "textposition": "auto",
         "type": "bar",
         "x": [
          "Doctor Who"
         ],
         "xaxis": "x",
         "y": [
          804747988
         ],
         "yaxis": "y"
        },
        {
         "alignmentgroup": "True",
         "hovertemplate": "Movies Name=%{x}<br>gross_income=%{y}<extra></extra>",
         "legendgroup": "The Lost City",
         "marker": {
          "color": "rgb(27,158,119)",
          "pattern": {
           "shape": ""
          }
         },
         "name": "The Lost City",
         "offsetgroup": "The Lost City",
         "orientation": "v",
         "showlegend": true,
         "textposition": "auto",
         "type": "bar",
         "x": [
          "The Lost City"
         ],
         "xaxis": "x",
         "y": [
          804747988
         ],
         "yaxis": "y"
        },
        {
         "alignmentgroup": "True",
         "hovertemplate": "Movies Name=%{x}<br>gross_income=%{y}<extra></extra>",
         "legendgroup": "The Flash",
         "marker": {
          "color": "rgb(217,95,2)",
          "pattern": {
           "shape": ""
          }
         },
         "name": "The Flash",
         "offsetgroup": "The Flash",
         "orientation": "v",
         "showlegend": true,
         "textposition": "auto",
         "type": "bar",
         "x": [
          "The Flash"
         ],
         "xaxis": "x",
         "y": [
          804747988
         ],
         "yaxis": "y"
        }
       ],
       "layout": {
        "autosize": true,
        "barmode": "relative",
        "legend": {
         "title": {
          "text": "Movies Name"
         },
         "tracegroupgap": 0
        },
        "paper_bgcolor": "#FFB200",
        "plot_bgcolor": "#FFB200",
        "template": {
         "data": {
          "bar": [
           {
            "error_x": {
             "color": "#f2f5fa"
            },
            "error_y": {
             "color": "#f2f5fa"
            },
            "marker": {
             "line": {
              "color": "rgb(17,17,17)",
              "width": 0.5
             },
             "pattern": {
              "fillmode": "overlay",
              "size": 10,
              "solidity": 0.2
             }
            },
            "type": "bar"
           }
          ],
          "barpolar": [
           {
            "marker": {
             "line": {
              "color": "rgb(17,17,17)",
              "width": 0.5
             },
             "pattern": {
              "fillmode": "overlay",
              "size": 10,
              "solidity": 0.2
             }
            },
            "type": "barpolar"
           }
          ],
          "carpet": [
           {
            "aaxis": {
             "endlinecolor": "#A2B1C6",
             "gridcolor": "#506784",
             "linecolor": "#506784",
             "minorgridcolor": "#506784",
             "startlinecolor": "#A2B1C6"
            },
            "baxis": {
             "endlinecolor": "#A2B1C6",
             "gridcolor": "#506784",
             "linecolor": "#506784",
             "minorgridcolor": "#506784",
             "startlinecolor": "#A2B1C6"
            },
            "type": "carpet"
           }
          ],
          "choropleth": [
           {
            "colorbar": {
             "outlinewidth": 0,
             "ticks": ""
            },
            "type": "choropleth"
           }
          ],
          "contour": [
           {
            "colorbar": {
             "outlinewidth": 0,
             "ticks": ""
            },
            "colorscale": [
             [
              0,
              "#0d0887"
             ],
             [
              0.1111111111111111,
              "#46039f"
             ],
             [
              0.2222222222222222,
              "#7201a8"
             ],
             [
              0.3333333333333333,
              "#9c179e"
             ],
             [
              0.4444444444444444,
              "#bd3786"
             ],
             [
              0.5555555555555556,
              "#d8576b"
             ],
             [
              0.6666666666666666,
              "#ed7953"
             ],
             [
              0.7777777777777778,
              "#fb9f3a"
             ],
             [
              0.8888888888888888,
              "#fdca26"
             ],
             [
              1,
              "#f0f921"
             ]
            ],
            "type": "contour"
           }
          ],
          "contourcarpet": [
           {
            "colorbar": {
             "outlinewidth": 0,
             "ticks": ""
            },
            "type": "contourcarpet"
           }
          ],
          "heatmap": [
           {
            "colorbar": {
             "outlinewidth": 0,
             "ticks": ""
            },
            "colorscale": [
             [
              0,
              "#0d0887"
             ],
             [
              0.1111111111111111,
              "#46039f"
             ],
             [
              0.2222222222222222,
              "#7201a8"
             ],
             [
              0.3333333333333333,
              "#9c179e"
             ],
             [
              0.4444444444444444,
              "#bd3786"
             ],
             [
              0.5555555555555556,
              "#d8576b"
             ],
             [
              0.6666666666666666,
              "#ed7953"
             ],
             [
              0.7777777777777778,
              "#fb9f3a"
             ],
             [
              0.8888888888888888,
              "#fdca26"
             ],
             [
              1,
              "#f0f921"
             ]
            ],
            "type": "heatmap"
           }
          ],
          "heatmapgl": [
           {
            "colorbar": {
             "outlinewidth": 0,
             "ticks": ""
            },
            "colorscale": [
             [
              0,
              "#0d0887"
             ],
             [
              0.1111111111111111,
              "#46039f"
             ],
             [
              0.2222222222222222,
              "#7201a8"
             ],
             [
              0.3333333333333333,
              "#9c179e"
             ],
             [
              0.4444444444444444,
              "#bd3786"
             ],
             [
              0.5555555555555556,
              "#d8576b"
             ],
             [
              0.6666666666666666,
              "#ed7953"
             ],
             [
              0.7777777777777778,
              "#fb9f3a"
             ],
             [
              0.8888888888888888,
              "#fdca26"
             ],
             [
              1,
              "#f0f921"
             ]
            ],
            "type": "heatmapgl"
           }
          ],
          "histogram": [
           {
            "marker": {
             "pattern": {
              "fillmode": "overlay",
              "size": 10,
              "solidity": 0.2
             }
            },
            "type": "histogram"
           }
          ],
          "histogram2d": [
           {
            "colorbar": {
             "outlinewidth": 0,
             "ticks": ""
            },
            "colorscale": [
             [
              0,
              "#0d0887"
             ],
             [
              0.1111111111111111,
              "#46039f"
             ],
             [
              0.2222222222222222,
              "#7201a8"
             ],
             [
              0.3333333333333333,
              "#9c179e"
             ],
             [
              0.4444444444444444,
              "#bd3786"
             ],
             [
              0.5555555555555556,
              "#d8576b"
             ],
             [
              0.6666666666666666,
              "#ed7953"
             ],
             [
              0.7777777777777778,
              "#fb9f3a"
             ],
             [
              0.8888888888888888,
              "#fdca26"
             ],
             [
              1,
              "#f0f921"
             ]
            ],
            "type": "histogram2d"
           }
          ],
          "histogram2dcontour": [
           {
            "colorbar": {
             "outlinewidth": 0,
             "ticks": ""
            },
            "colorscale": [
             [
              0,
              "#0d0887"
             ],
             [
              0.1111111111111111,
              "#46039f"
             ],
             [
              0.2222222222222222,
              "#7201a8"
             ],
             [
              0.3333333333333333,
              "#9c179e"
             ],
             [
              0.4444444444444444,
              "#bd3786"
             ],
             [
              0.5555555555555556,
              "#d8576b"
             ],
             [
              0.6666666666666666,
              "#ed7953"
             ],
             [
              0.7777777777777778,
              "#fb9f3a"
             ],
             [
              0.8888888888888888,
              "#fdca26"
             ],
             [
              1,
              "#f0f921"
             ]
            ],
            "type": "histogram2dcontour"
           }
          ],
          "mesh3d": [
           {
            "colorbar": {
             "outlinewidth": 0,
             "ticks": ""
            },
            "type": "mesh3d"
           }
          ],
          "parcoords": [
           {
            "line": {
             "colorbar": {
              "outlinewidth": 0,
              "ticks": ""
             }
            },
            "type": "parcoords"
           }
          ],
          "pie": [
           {
            "automargin": true,
            "type": "pie"
           }
          ],
          "scatter": [
           {
            "marker": {
             "line": {
              "color": "#283442"
             }
            },
            "type": "scatter"
           }
          ],
          "scatter3d": [
           {
            "line": {
             "colorbar": {
              "outlinewidth": 0,
              "ticks": ""
             }
            },
            "marker": {
             "colorbar": {
              "outlinewidth": 0,
              "ticks": ""
             }
            },
            "type": "scatter3d"
           }
          ],
          "scattercarpet": [
           {
            "marker": {
             "colorbar": {
              "outlinewidth": 0,
              "ticks": ""
             }
            },
            "type": "scattercarpet"
           }
          ],
          "scattergeo": [
           {
            "marker": {
             "colorbar": {
              "outlinewidth": 0,
              "ticks": ""
             }
            },
            "type": "scattergeo"
           }
          ],
          "scattergl": [
           {
            "marker": {
             "line": {
              "color": "#283442"
             }
            },
            "type": "scattergl"
           }
          ],
          "scattermapbox": [
           {
            "marker": {
             "colorbar": {
              "outlinewidth": 0,
              "ticks": ""
             }
            },
            "type": "scattermapbox"
           }
          ],
          "scatterpolar": [
           {
            "marker": {
             "colorbar": {
              "outlinewidth": 0,
              "ticks": ""
             }
            },
            "type": "scatterpolar"
           }
          ],
          "scatterpolargl": [
           {
            "marker": {
             "colorbar": {
              "outlinewidth": 0,
              "ticks": ""
             }
            },
            "type": "scatterpolargl"
           }
          ],
          "scatterternary": [
           {
            "marker": {
             "colorbar": {
              "outlinewidth": 0,
              "ticks": ""
             }
            },
            "type": "scatterternary"
           }
          ],
          "surface": [
           {
            "colorbar": {
             "outlinewidth": 0,
             "ticks": ""
            },
            "colorscale": [
             [
              0,
              "#0d0887"
             ],
             [
              0.1111111111111111,
              "#46039f"
             ],
             [
              0.2222222222222222,
              "#7201a8"
             ],
             [
              0.3333333333333333,
              "#9c179e"
             ],
             [
              0.4444444444444444,
              "#bd3786"
             ],
             [
              0.5555555555555556,
              "#d8576b"
             ],
             [
              0.6666666666666666,
              "#ed7953"
             ],
             [
              0.7777777777777778,
              "#fb9f3a"
             ],
             [
              0.8888888888888888,
              "#fdca26"
             ],
             [
              1,
              "#f0f921"
             ]
            ],
            "type": "surface"
           }
          ],
          "table": [
           {
            "cells": {
             "fill": {
              "color": "#506784"
             },
             "line": {
              "color": "rgb(17,17,17)"
             }
            },
            "header": {
             "fill": {
              "color": "#2a3f5f"
             },
             "line": {
              "color": "rgb(17,17,17)"
             }
            },
            "type": "table"
           }
          ]
         },
         "layout": {
          "annotationdefaults": {
           "arrowcolor": "#f2f5fa",
           "arrowhead": 0,
           "arrowwidth": 1
          },
          "autotypenumbers": "strict",
          "coloraxis": {
           "colorbar": {
            "outlinewidth": 0,
            "ticks": ""
           }
          },
          "colorscale": {
           "diverging": [
            [
             0,
             "#8e0152"
            ],
            [
             0.1,
             "#c51b7d"
            ],
            [
             0.2,
             "#de77ae"
            ],
            [
             0.3,
             "#f1b6da"
            ],
            [
             0.4,
             "#fde0ef"
            ],
            [
             0.5,
             "#f7f7f7"
            ],
            [
             0.6,
             "#e6f5d0"
            ],
            [
             0.7,
             "#b8e186"
            ],
            [
             0.8,
             "#7fbc41"
            ],
            [
             0.9,
             "#4d9221"
            ],
            [
             1,
             "#276419"
            ]
           ],
           "sequential": [
            [
             0,
             "#0d0887"
            ],
            [
             0.1111111111111111,
             "#46039f"
            ],
            [
             0.2222222222222222,
             "#7201a8"
            ],
            [
             0.3333333333333333,
             "#9c179e"
            ],
            [
             0.4444444444444444,
             "#bd3786"
            ],
            [
             0.5555555555555556,
             "#d8576b"
            ],
            [
             0.6666666666666666,
             "#ed7953"
            ],
            [
             0.7777777777777778,
             "#fb9f3a"
            ],
            [
             0.8888888888888888,
             "#fdca26"
            ],
            [
             1,
             "#f0f921"
            ]
           ],
           "sequentialminus": [
            [
             0,
             "#0d0887"
            ],
            [
             0.1111111111111111,
             "#46039f"
            ],
            [
             0.2222222222222222,
             "#7201a8"
            ],
            [
             0.3333333333333333,
             "#9c179e"
            ],
            [
             0.4444444444444444,
             "#bd3786"
            ],
            [
             0.5555555555555556,
             "#d8576b"
            ],
            [
             0.6666666666666666,
             "#ed7953"
            ],
            [
             0.7777777777777778,
             "#fb9f3a"
            ],
            [
             0.8888888888888888,
             "#fdca26"
            ],
            [
             1,
             "#f0f921"
            ]
           ]
          },
          "colorway": [
           "#636efa",
           "#EF553B",
           "#00cc96",
           "#ab63fa",
           "#FFA15A",
           "#19d3f3",
           "#FF6692",
           "#B6E880",
           "#FF97FF",
           "#FECB52"
          ],
          "font": {
           "color": "#f2f5fa"
          },
          "geo": {
           "bgcolor": "rgb(17,17,17)",
           "lakecolor": "rgb(17,17,17)",
           "landcolor": "rgb(17,17,17)",
           "showlakes": true,
           "showland": true,
           "subunitcolor": "#506784"
          },
          "hoverlabel": {
           "align": "left"
          },
          "hovermode": "closest",
          "mapbox": {
           "style": "dark"
          },
          "paper_bgcolor": "rgb(17,17,17)",
          "plot_bgcolor": "rgb(17,17,17)",
          "polar": {
           "angularaxis": {
            "gridcolor": "#506784",
            "linecolor": "#506784",
            "ticks": ""
           },
           "bgcolor": "rgb(17,17,17)",
           "radialaxis": {
            "gridcolor": "#506784",
            "linecolor": "#506784",
            "ticks": ""
           }
          },
          "scene": {
           "xaxis": {
            "backgroundcolor": "rgb(17,17,17)",
            "gridcolor": "#506784",
            "gridwidth": 2,
            "linecolor": "#506784",
            "showbackground": true,
            "ticks": "",
            "zerolinecolor": "#C8D4E3"
           },
           "yaxis": {
            "backgroundcolor": "rgb(17,17,17)",
            "gridcolor": "#506784",
            "gridwidth": 2,
            "linecolor": "#506784",
            "showbackground": true,
            "ticks": "",
            "zerolinecolor": "#C8D4E3"
           },
           "zaxis": {
            "backgroundcolor": "rgb(17,17,17)",
            "gridcolor": "#506784",
            "gridwidth": 2,
            "linecolor": "#506784",
            "showbackground": true,
            "ticks": "",
            "zerolinecolor": "#C8D4E3"
           }
          },
          "shapedefaults": {
           "line": {
            "color": "#f2f5fa"
           }
          },
          "sliderdefaults": {
           "bgcolor": "#C8D4E3",
           "bordercolor": "rgb(17,17,17)",
           "borderwidth": 1,
           "tickwidth": 0
          },
          "ternary": {
           "aaxis": {
            "gridcolor": "#506784",
            "linecolor": "#506784",
            "ticks": ""
           },
           "baxis": {
            "gridcolor": "#506784",
            "linecolor": "#506784",
            "ticks": ""
           },
           "bgcolor": "rgb(17,17,17)",
           "caxis": {
            "gridcolor": "#506784",
            "linecolor": "#506784",
            "ticks": ""
           }
          },
          "title": {
           "x": 0.05
          },
          "updatemenudefaults": {
           "bgcolor": "#506784",
           "borderwidth": 0
          },
          "xaxis": {
           "automargin": true,
           "gridcolor": "#283442",
           "linecolor": "#506784",
           "ticks": "",
           "title": {
            "standoff": 15
           },
           "zerolinecolor": "#283442",
           "zerolinewidth": 2
          },
          "yaxis": {
           "automargin": true,
           "gridcolor": "#283442",
           "linecolor": "#506784",
           "ticks": "",
           "title": {
            "standoff": 15
           },
           "zerolinecolor": "#283442",
           "zerolinewidth": 2
          }
         }
        },
        "title": {
         "text": "<b> Top 10 Movies by Gross-income"
        },
        "xaxis": {
         "anchor": "y",
         "autorange": true,
         "categoryarray": [
          "Star Wars: Episode VII - The Force Awakens",
          "Avengers: Endgame",
          "Uncharted",
          "Vikram",
          "Spider-Man: No Way Home",
          "Halo",
          "Moon Knight",
          "Doctor Who",
          "The Lost City",
          "The Flash"
         ],
         "categoryorder": "array",
         "domain": [
          0,
          1
         ],
         "range": [
          -0.5,
          9.5
         ],
         "title": {
          "text": "Movies Name"
         },
         "type": "category"
        },
        "yaxis": {
         "anchor": "x",
         "autorange": true,
         "domain": [
          0,
          1
         ],
         "range": [
          0,
          985960236.8421053
         ],
         "title": {
          "text": "gross_income"
         },
         "type": "linear"
        }
       }
      },
      "image/png": "[encoded data removed]",
      "text/html": [
       "<div>                            <div id=\"d9916c83-ffa8-4e5e-9335-2d4b76270ec1\" class=\"plotly-graph-div\" style=\"height:525px; width:100%;\"></div>            <script type=\"text/javascript\">                require([\"plotly\"], function(Plotly) {                    window.PLOTLYENV=window.PLOTLYENV || {};                                    if (document.getElementById(\"d9916c83-ffa8-4e5e-9335-2d4b76270ec1\")) {                    Plotly.newPlot(                        \"d9916c83-ffa8-4e5e-9335-2d4b76270ec1\",                        [{\"alignmentgroup\":\"True\",\"hovertemplate\":\"Movies Name=%{x}\\u003cbr\\u003egross_income=%{y}\\u003cextra\\u003e\\u003c\\u002fextra\\u003e\",\"legendgroup\":\"Star Wars: Episode VII - The Force Awakens\",\"marker\":{\"color\":\"rgb(27,158,119)\",\"pattern\":{\"shape\":\"\"}},\"name\":\"Star Wars: Episode VII - The Force Awakens\",\"offsetgroup\":\"Star Wars: Episode VII - The Force Awakens\",\"orientation\":\"v\",\"showlegend\":true,\"textposition\":\"auto\",\"x\":[\"Star Wars: Episode VII - The Force Awakens\"],\"xaxis\":\"x\",\"y\":[936662225.0],\"yaxis\":\"y\",\"type\":\"bar\"},{\"alignmentgroup\":\"True\",\"hovertemplate\":\"Movies Name=%{x}\\u003cbr\\u003egross_income=%{y}\\u003cextra\\u003e\\u003c\\u002fextra\\u003e\",\"legendgroup\":\"Avengers: Endgame\",\"marker\":{\"color\":\"rgb(217,95,2)\",\"pattern\":{\"shape\":\"\"}},\"name\":\"Avengers: Endgame\",\"offsetgroup\":\"Avengers: Endgame\",\"orientation\":\"v\",\"showlegend\":true,\"textposition\":\"auto\",\"x\":[\"Avengers: Endgame\"],\"xaxis\":\"x\",\"y\":[858373000.0],\"yaxis\":\"y\",\"type\":\"bar\"},{\"alignmentgroup\":\"True\",\"hovertemplate\":\"Movies Name=%{x}\\u003cbr\\u003egross_income=%{y}\\u003cextra\\u003e\\u003c\\u002fextra\\u003e\",\"legendgroup\":\"Uncharted\",\"marker\":{\"color\":\"rgb(117,112,179)\",\"pattern\":{\"shape\":\"\"}},\"name\":\"Uncharted\",\"offsetgroup\":\"Uncharted\",\"orientation\":\"v\",\"showlegend\":true,\"textposition\":\"auto\",\"x\":[\"Uncharted\"],\"xaxis\":\"x\",\"y\":[804747988.0],\"yaxis\":\"y\",\"type\":\"bar\"},{\"alignmentgroup\":\"True\",\"hovertemplate\":\"Movies Name=%{x}\\u003cbr\\u003egross_income=%{y}\\u003cextra\\u003e\\u003c\\u002fextra\\u003e\",\"legendgroup\":\"Vikram\",\"marker\":{\"color\":\"rgb(231,41,138)\",\"pattern\":{\"shape\":\"\"}},\"name\":\"Vikram\",\"offsetgroup\":\"Vikram\",\"orientation\":\"v\",\"showlegend\":true,\"textposition\":\"auto\",\"x\":[\"Vikram\"],\"xaxis\":\"x\",\"y\":[804747988.0],\"yaxis\":\"y\",\"type\":\"bar\"},{\"alignmentgroup\":\"True\",\"hovertemplate\":\"Movies Name=%{x}\\u003cbr\\u003egross_income=%{y}\\u003cextra\\u003e\\u003c\\u002fextra\\u003e\",\"legendgroup\":\"Spider-Man: No Way Home\",\"marker\":{\"color\":\"rgb(102,166,30)\",\"pattern\":{\"shape\":\"\"}},\"name\":\"Spider-Man: No Way Home\",\"offsetgroup\":\"Spider-Man: No Way Home\",\"orientation\":\"v\",\"showlegend\":true,\"textposition\":\"auto\",\"x\":[\"Spider-Man: No Way Home\"],\"xaxis\":\"x\",\"y\":[804747988.0],\"yaxis\":\"y\",\"type\":\"bar\"},{\"alignmentgroup\":\"True\",\"hovertemplate\":\"Movies Name=%{x}\\u003cbr\\u003egross_income=%{y}\\u003cextra\\u003e\\u003c\\u002fextra\\u003e\",\"legendgroup\":\"Halo\",\"marker\":{\"color\":\"rgb(230,171,2)\",\"pattern\":{\"shape\":\"\"}},\"name\":\"Halo\",\"offsetgroup\":\"Halo\",\"orientation\":\"v\",\"showlegend\":true,\"textposition\":\"auto\",\"x\":[\"Halo\"],\"xaxis\":\"x\",\"y\":[804747988.0],\"yaxis\":\"y\",\"type\":\"bar\"},{\"alignmentgroup\":\"True\",\"hovertemplate\":\"Movies Name=%{x}\\u003cbr\\u003egross_income=%{y}\\u003cextra\\u003e\\u003c\\u002fextra\\u003e\",\"legendgroup\":\"Moon Knight\",\"marker\":{\"color\":\"rgb(166,118,29)\",\"pattern\":{\"shape\":\"\"}},\"name\":\"Moon Knight\",\"offsetgroup\":\"Moon Knight\",\"orientation\":\"v\",\"showlegend\":true,\"textposition\":\"auto\",\"x\":[\"Moon Knight\"],\"xaxis\":\"x\",\"y\":[804747988.0],\"yaxis\":\"y\",\"type\":\"bar\"},{\"alignmentgroup\":\"True\",\"hovertemplate\":\"Movies Name=%{x}\\u003cbr\\u003egross_income=%{y}\\u003cextra\\u003e\\u003c\\u002fextra\\u003e\",\"legendgroup\":\"Doctor Who\",\"marker\":{\"color\":\"rgb(102,102,102)\",\"pattern\":{\"shape\":\"\"}},\"name\":\"Doctor Who\",\"offsetgroup\":\"Doctor Who\",\"orientation\":\"v\",\"showlegend\":true,\"textposition\":\"auto\",\"x\":[\"Doctor Who\"],\"xaxis\":\"x\",\"y\":[804747988.0],\"yaxis\":\"y\",\"type\":\"bar\"},{\"alignmentgroup\":\"True\",\"hovertemplate\":\"Movies Name=%{x}\\u003cbr\\u003egross_income=%{y}\\u003cextra\\u003e\\u003c\\u002fextra\\u003e\",\"legendgroup\":\"The Lost City\",\"marker\":{\"color\":\"rgb(27,158,119)\",\"pattern\":{\"shape\":\"\"}},\"name\":\"The Lost City\",\"offsetgroup\":\"The Lost City\",\"orientation\":\"v\",\"showlegend\":true,\"textposition\":\"auto\",\"x\":[\"The Lost City\"],\"xaxis\":\"x\",\"y\":[804747988.0],\"yaxis\":\"y\",\"type\":\"bar\"},{\"alignmentgroup\":\"True\",\"hovertemplate\":\"Movies Name=%{x}\\u003cbr\\u003egross_income=%{y}\\u003cextra\\u003e\\u003c\\u002fextra\\u003e\",\"legendgroup\":\"The Flash\",\"marker\":{\"color\":\"rgb(217,95,2)\",\"pattern\":{\"shape\":\"\"}},\"name\":\"The Flash\",\"offsetgroup\":\"The Flash\",\"orientation\":\"v\",\"showlegend\":true,\"textposition\":\"auto\",\"x\":[\"The Flash\"],\"xaxis\":\"x\",\"y\":[804747988.0],\"yaxis\":\"y\",\"type\":\"bar\"}],                        {\"template\":{\"data\":{\"barpolar\":[{\"marker\":{\"line\":{\"color\":\"rgb(17,17,17)\",\"width\":0.5},\"pattern\":{\"fillmode\":\"overlay\",\"size\":10,\"solidity\":0.2}},\"type\":\"barpolar\"}],\"bar\":[{\"error_x\":{\"color\":\"#f2f5fa\"},\"error_y\":{\"color\":\"#f2f5fa\"},\"marker\":{\"line\":{\"color\":\"rgb(17,17,17)\",\"width\":0.5},\"pattern\":{\"fillmode\":\"overlay\",\"size\":10,\"solidity\":0.2}},\"type\":\"bar\"}],\"carpet\":[{\"aaxis\":{\"endlinecolor\":\"#A2B1C6\",\"gridcolor\":\"#506784\",\"linecolor\":\"#506784\",\"minorgridcolor\":\"#506784\",\"startlinecolor\":\"#A2B1C6\"},\"baxis\":{\"endlinecolor\":\"#A2B1C6\",\"gridcolor\":\"#506784\",\"linecolor\":\"#506784\",\"minorgridcolor\":\"#506784\",\"startlinecolor\":\"#A2B1C6\"},\"type\":\"carpet\"}],\"choropleth\":[{\"colorbar\":{\"outlinewidth\":0,\"ticks\":\"\"},\"type\":\"choropleth\"}],\"contourcarpet\":[{\"colorbar\":{\"outlinewidth\":0,\"ticks\":\"\"},\"type\":\"contourcarpet\"}],\"contour\":[{\"colorbar\":{\"outlinewidth\":0,\"ticks\":\"\"},\"colorscale\":[[0.0,\"#0d0887\"],[0.1111111111111111,\"#46039f\"],[0.2222222222222222,\"#7201a8\"],[0.3333333333333333,\"#9c179e\"],[0.4444444444444444,\"#bd3786\"],[0.5555555555555556,\"#d8576b\"],[0.6666666666666666,\"#ed7953\"],[0.7777777777777778,\"#fb9f3a\"],[0.8888888888888888,\"#fdca26\"],[1.0,\"#f0f921\"]],\"type\":\"contour\"}],\"heatmapgl\":[{\"colorbar\":{\"outlinewidth\":0,\"ticks\":\"\"},\"colorscale\":[[0.0,\"#0d0887\"],[0.1111111111111111,\"#46039f\"],[0.2222222222222222,\"#7201a8\"],[0.3333333333333333,\"#9c179e\"],[0.4444444444444444,\"#bd3786\"],[0.5555555555555556,\"#d8576b\"],[0.6666666666666666,\"#ed7953\"],[0.7777777777777778,\"#fb9f3a\"],[0.8888888888888888,\"#fdca26\"],[1.0,\"#f0f921\"]],\"type\":\"heatmapgl\"}],\"heatmap\":[{\"colorbar\":{\"outlinewidth\":0,\"ticks\":\"\"},\"colorscale\":[[0.0,\"#0d0887\"],[0.1111111111111111,\"#46039f\"],[0.2222222222222222,\"#7201a8\"],[0.3333333333333333,\"#9c179e\"],[0.4444444444444444,\"#bd3786\"],[0.5555555555555556,\"#d8576b\"],[0.6666666666666666,\"#ed7953\"],[0.7777777777777778,\"#fb9f3a\"],[0.8888888888888888,\"#fdca26\"],[1.0,\"#f0f921\"]],\"type\":\"heatmap\"}],\"histogram2dcontour\":[{\"colorbar\":{\"outlinewidth\":0,\"ticks\":\"\"},\"colorscale\":[[0.0,\"#0d0887\"],[0.1111111111111111,\"#46039f\"],[0.2222222222222222,\"#7201a8\"],[0.3333333333333333,\"#9c179e\"],[0.4444444444444444,\"#bd3786\"],[0.5555555555555556,\"#d8576b\"],[0.6666666666666666,\"#ed7953\"],[0.7777777777777778,\"#fb9f3a\"],[0.8888888888888888,\"#fdca26\"],[1.0,\"#f0f921\"]],\"type\":\"histogram2dcontour\"}],\"histogram2d\":[{\"colorbar\":{\"outlinewidth\":0,\"ticks\":\"\"},\"colorscale\":[[0.0,\"#0d0887\"],[0.1111111111111111,\"#46039f\"],[0.2222222222222222,\"#7201a8\"],[0.3333333333333333,\"#9c179e\"],[0.4444444444444444,\"#bd3786\"],[0.5555555555555556,\"#d8576b\"],[0.6666666666666666,\"#ed7953\"],[0.7777777777777778,\"#fb9f3a\"],[0.8888888888888888,\"#fdca26\"],[1.0,\"#f0f921\"]],\"type\":\"histogram2d\"}],\"histogram\":[{\"marker\":{\"pattern\":{\"fillmode\":\"overlay\",\"size\":10,\"solidity\":0.2}},\"type\":\"histogram\"}],\"mesh3d\":[{\"colorbar\":{\"outlinewidth\":0,\"ticks\":\"\"},\"type\":\"mesh3d\"}],\"parcoords\":[{\"line\":{\"colorbar\":{\"outlinewidth\":0,\"ticks\":\"\"}},\"type\":\"parcoords\"}],\"pie\":[{\"automargin\":true,\"type\":\"pie\"}],\"scatter3d\":[{\"line\":{\"colorbar\":{\"outlinewidth\":0,\"ticks\":\"\"}},\"marker\":{\"colorbar\":{\"outlinewidth\":0,\"ticks\":\"\"}},\"type\":\"scatter3d\"}],\"scattercarpet\":[{\"marker\":{\"colorbar\":{\"outlinewidth\":0,\"ticks\":\"\"}},\"type\":\"scattercarpet\"}],\"scattergeo\":[{\"marker\":{\"colorbar\":{\"outlinewidth\":0,\"ticks\":\"\"}},\"type\":\"scattergeo\"}],\"scattergl\":[{\"marker\":{\"line\":{\"color\":\"#283442\"}},\"type\":\"scattergl\"}],\"scattermapbox\":[{\"marker\":{\"colorbar\":{\"outlinewidth\":0,\"ticks\":\"\"}},\"type\":\"scattermapbox\"}],\"scatterpolargl\":[{\"marker\":{\"colorbar\":{\"outlinewidth\":0,\"ticks\":\"\"}},\"type\":\"scatterpolargl\"}],\"scatterpolar\":[{\"marker\":{\"colorbar\":{\"outlinewidth\":0,\"ticks\":\"\"}},\"type\":\"scatterpolar\"}],\"scatter\":[{\"marker\":{\"line\":{\"color\":\"#283442\"}},\"type\":\"scatter\"}],\"scatterternary\":[{\"marker\":{\"colorbar\":{\"outlinewidth\":0,\"ticks\":\"\"}},\"type\":\"scatterternary\"}],\"surface\":[{\"colorbar\":{\"outlinewidth\":0,\"ticks\":\"\"},\"colorscale\":[[0.0,\"#0d0887\"],[0.1111111111111111,\"#46039f\"],[0.2222222222222222,\"#7201a8\"],[0.3333333333333333,\"#9c179e\"],[0.4444444444444444,\"#bd3786\"],[0.5555555555555556,\"#d8576b\"],[0.6666666666666666,\"#ed7953\"],[0.7777777777777778,\"#fb9f3a\"],[0.8888888888888888,\"#fdca26\"],[1.0,\"#f0f921\"]],\"type\":\"surface\"}],\"table\":[{\"cells\":{\"fill\":{\"color\":\"#506784\"},\"line\":{\"color\":\"rgb(17,17,17)\"}},\"header\":{\"fill\":{\"color\":\"#2a3f5f\"},\"line\":{\"color\":\"rgb(17,17,17)\"}},\"type\":\"table\"}]},\"layout\":{\"annotationdefaults\":{\"arrowcolor\":\"#f2f5fa\",\"arrowhead\":0,\"arrowwidth\":1},\"autotypenumbers\":\"strict\",\"coloraxis\":{\"colorbar\":{\"outlinewidth\":0,\"ticks\":\"\"}},\"colorscale\":{\"diverging\":[[0,\"#8e0152\"],[0.1,\"#c51b7d\"],[0.2,\"#de77ae\"],[0.3,\"#f1b6da\"],[0.4,\"#fde0ef\"],[0.5,\"#f7f7f7\"],[0.6,\"#e6f5d0\"],[0.7,\"#b8e186\"],[0.8,\"#7fbc41\"],[0.9,\"#4d9221\"],[1,\"#276419\"]],\"sequential\":[[0.0,\"#0d0887\"],[0.1111111111111111,\"#46039f\"],[0.2222222222222222,\"#7201a8\"],[0.3333333333333333,\"#9c179e\"],[0.4444444444444444,\"#bd3786\"],[0.5555555555555556,\"#d8576b\"],[0.6666666666666666,\"#ed7953\"],[0.7777777777777778,\"#fb9f3a\"],[0.8888888888888888,\"#fdca26\"],[1.0,\"#f0f921\"]],\"sequentialminus\":[[0.0,\"#0d0887\"],[0.1111111111111111,\"#46039f\"],[0.2222222222222222,\"#7201a8\"],[0.3333333333333333,\"#9c179e\"],[0.4444444444444444,\"#bd3786\"],[0.5555555555555556,\"#d8576b\"],[0.6666666666666666,\"#ed7953\"],[0.7777777777777778,\"#fb9f3a\"],[0.8888888888888888,\"#fdca26\"],[1.0,\"#f0f921\"]]},\"colorway\":[\"#636efa\",\"#EF553B\",\"#00cc96\",\"#ab63fa\",\"#FFA15A\",\"#19d3f3\",\"#FF6692\",\"#B6E880\",\"#FF97FF\",\"#FECB52\"],\"font\":{\"color\":\"#f2f5fa\"},\"geo\":{\"bgcolor\":\"rgb(17,17,17)\",\"lakecolor\":\"rgb(17,17,17)\",\"landcolor\":\"rgb(17,17,17)\",\"showlakes\":true,\"showland\":true,\"subunitcolor\":\"#506784\"},\"hoverlabel\":{\"align\":\"left\"},\"hovermode\":\"closest\",\"mapbox\":{\"style\":\"dark\"},\"paper_bgcolor\":\"rgb(17,17,17)\",\"plot_bgcolor\":\"rgb(17,17,17)\",\"polar\":{\"angularaxis\":{\"gridcolor\":\"#506784\",\"linecolor\":\"#506784\",\"ticks\":\"\"},\"bgcolor\":\"rgb(17,17,17)\",\"radialaxis\":{\"gridcolor\":\"#506784\",\"linecolor\":\"#506784\",\"ticks\":\"\"}},\"scene\":{\"xaxis\":{\"backgroundcolor\":\"rgb(17,17,17)\",\"gridcolor\":\"#506784\",\"gridwidth\":2,\"linecolor\":\"#506784\",\"showbackground\":true,\"ticks\":\"\",\"zerolinecolor\":\"#C8D4E3\"},\"yaxis\":{\"backgroundcolor\":\"rgb(17,17,17)\",\"gridcolor\":\"#506784\",\"gridwidth\":2,\"linecolor\":\"#506784\",\"showbackground\":true,\"ticks\":\"\",\"zerolinecolor\":\"#C8D4E3\"},\"zaxis\":{\"backgroundcolor\":\"rgb(17,17,17)\",\"gridcolor\":\"#506784\",\"gridwidth\":2,\"linecolor\":\"#506784\",\"showbackground\":true,\"ticks\":\"\",\"zerolinecolor\":\"#C8D4E3\"}},\"shapedefaults\":{\"line\":{\"color\":\"#f2f5fa\"}},\"sliderdefaults\":{\"bgcolor\":\"#C8D4E3\",\"bordercolor\":\"rgb(17,17,17)\",\"borderwidth\":1,\"tickwidth\":0},\"ternary\":{\"aaxis\":{\"gridcolor\":\"#506784\",\"linecolor\":\"#506784\",\"ticks\":\"\"},\"baxis\":{\"gridcolor\":\"#506784\",\"linecolor\":\"#506784\",\"ticks\":\"\"},\"bgcolor\":\"rgb(17,17,17)\",\"caxis\":{\"gridcolor\":\"#506784\",\"linecolor\":\"#506784\",\"ticks\":\"\"}},\"title\":{\"x\":0.05},\"updatemenudefaults\":{\"bgcolor\":\"#506784\",\"borderwidth\":0},\"xaxis\":{\"automargin\":true,\"gridcolor\":\"#283442\",\"linecolor\":\"#506784\",\"ticks\":\"\",\"title\":{\"standoff\":15},\"zerolinecolor\":\"#283442\",\"zerolinewidth\":2},\"yaxis\":{\"automargin\":true,\"gridcolor\":\"#283442\",\"linecolor\":\"#506784\",\"ticks\":\"\",\"title\":{\"standoff\":15},\"zerolinecolor\":\"#283442\",\"zerolinewidth\":2}}},\"xaxis\":{\"anchor\":\"y\",\"domain\":[0.0,1.0],\"title\":{\"text\":\"Movies Name\"},\"categoryorder\":\"array\",\"categoryarray\":[\"Star Wars: Episode VII - The Force Awakens\",\"Avengers: Endgame\",\"Uncharted\",\"Vikram\",\"Spider-Man: No Way Home\",\"Halo\",\"Moon Knight\",\"Doctor Who\",\"The Lost City\",\"The Flash\"]},\"yaxis\":{\"anchor\":\"x\",\"domain\":[0.0,1.0],\"title\":{\"text\":\"gross_income\"}},\"legend\":{\"title\":{\"text\":\"Movies Name\"},\"tracegroupgap\":0},\"title\":{\"text\":\"\\u003cb\\u003e Top 10 Movies by Gross-income\"},\"barmode\":\"relative\",\"plot_bgcolor\":\"#FFB200\",\"paper_bgcolor\":\"#FFB200\"},                        {\"responsive\": true}                    ).then(function(){\n",
       "                            \n",
       "var gd = document.getElementById('d9916c83-ffa8-4e5e-9335-2d4b76270ec1');\n",
       "var x = new MutationObserver(function (mutations, observer) {{\n",
       "        var display = window.getComputedStyle(gd).display;\n",
       "        if (!display || display === 'none') {{\n",
       "            console.log([gd, 'removed!']);\n",
       "            Plotly.purge(gd);\n",
       "            observer.disconnect();\n",
       "        }}\n",
       "}});\n",
       "\n",
       "// Listen for the removal of the full notebook cells\n",
       "var notebookContainer = gd.closest('#notebook-container');\n",
       "if (notebookContainer) {{\n",
       "    x.observe(notebookContainer, {childList: true});\n",
       "}}\n",
       "\n",
       "// Listen for the clearing of the current output cell\n",
       "var outputEl = gd.closest('.output');\n",
       "if (outputEl) {{\n",
       "    x.observe(outputEl, {childList: true});\n",
       "}}\n",
       "\n",
       "                        })                };                });            </script>        </div>"
      ]
     },
     "metadata": {},
     "output_type": "display_data"
    }
   ],
   "source": [
    "# Creating an interactive bar chart using Plotly Express to visualize the top 10 movies by gross income\n",
    "fig = px.bar(b,\n",
    "            x       = 'name',\n",
    "            y       = 'gross_income',\n",
    "            color   = 'name',\n",
    "            labels  = {'name': 'Movies Name'},\n",
    "            color_discrete_sequence = px.colors.qualitative.Dark2,\n",
    "            template='plotly_dark',\n",
    "            title   ='<b> Top 10 Movies by Gross-income'\n",
    "           )\n",
    "\n",
    "# Changing the background color\n",
    "fig.update_layout(\n",
    "    plot_bgcolor='#FFB200',\n",
    "    paper_bgcolor='#FFB200',\n",
    ")\n",
    "\n",
    "# Displaying the interactive chart\n",
    "fig.show()\n"
   ]
  },
  {
   "cell_type": "markdown",
   "metadata": {},
   "source": [
    "<div style=\"background-color:#FFB200; padding:10px; color:black; font-size:50px; \"> \n",
    "What is the average duration of a movie in each genre?\n",
    "</div>"
   ]
  },
  {
   "cell_type": "markdown",
   "metadata": {},
   "source": [
    "### Average duration of top 10 genre pair in ascending order"
   ]
  },
  {
   "cell_type": "code",
   "execution_count": 130,
   "metadata": {},
   "outputs": [
    {
     "data": {
      "text/html": [
       "<div>\n",
       "<style scoped>\n",
       "    .dataframe tbody tr th:only-of-type {\n",
       "        vertical-align: middle;\n",
       "    }\n",
       "\n",
       "    .dataframe tbody tr th {\n",
       "        vertical-align: top;\n",
       "    }\n",
       "\n",
       "    .dataframe thead th {\n",
       "        text-align: right;\n",
       "    }\n",
       "</style>\n",
       "<table border=\"1\" class=\"dataframe\">\n",
       "  <thead>\n",
       "    <tr style=\"text-align: right;\">\n",
       "      <th></th>\n",
       "      <th>duration_min</th>\n",
       "    </tr>\n",
       "    <tr>\n",
       "      <th>genre</th>\n",
       "      <th></th>\n",
       "    </tr>\n",
       "  </thead>\n",
       "  <tbody>\n",
       "    <tr>\n",
       "      <th>Biography, News, Sci-Fi</th>\n",
       "      <td>0.0</td>\n",
       "    </tr>\n",
       "    <tr>\n",
       "      <th>Comedy, Documentary, Family</th>\n",
       "      <td>0.0</td>\n",
       "    </tr>\n",
       "    <tr>\n",
       "      <th>Reality-TV, News</th>\n",
       "      <td>0.0</td>\n",
       "    </tr>\n",
       "    <tr>\n",
       "      <th>Reality-TV, Sport, Thriller</th>\n",
       "      <td>0.0</td>\n",
       "    </tr>\n",
       "    <tr>\n",
       "      <th>Reality-TV, Talk-Show, Western</th>\n",
       "      <td>0.0</td>\n",
       "    </tr>\n",
       "    <tr>\n",
       "      <th>Romance, Adventure, Drama</th>\n",
       "      <td>0.0</td>\n",
       "    </tr>\n",
       "    <tr>\n",
       "      <th>Romance, Drama, Action</th>\n",
       "      <td>0.0</td>\n",
       "    </tr>\n",
       "    <tr>\n",
       "      <th>Romance, Drama, Fantasy</th>\n",
       "      <td>0.0</td>\n",
       "    </tr>\n",
       "    <tr>\n",
       "      <th>Comedy, Crime, Documentary</th>\n",
       "      <td>0.0</td>\n",
       "    </tr>\n",
       "    <tr>\n",
       "      <th>Romance, Musical, Music</th>\n",
       "      <td>0.0</td>\n",
       "    </tr>\n",
       "  </tbody>\n",
       "</table>\n",
       "</div>"
      ],
      "text/plain": [
       "                                duration_min\n",
       "genre                                       \n",
       "Biography, News, Sci-Fi                  0.0\n",
       "Comedy, Documentary, Family              0.0\n",
       "Reality-TV, News                         0.0\n",
       "Reality-TV, Sport, Thriller              0.0\n",
       "Reality-TV, Talk-Show, Western           0.0\n",
       "Romance, Adventure, Drama                0.0\n",
       "Romance, Drama, Action                   0.0\n",
       "Romance, Drama, Fantasy                  0.0\n",
       "Comedy, Crime, Documentary               0.0\n",
       "Romance, Musical, Music                  0.0"
      ]
     },
     "execution_count": 130,
     "metadata": {},
     "output_type": "execute_result"
    }
   ],
   "source": [
    "df.groupby('genre').agg({'duration_min':'mean'}).sort_values(by='duration_min',ascending=True)[0:10]"
   ]
  },
  {
   "cell_type": "markdown",
   "metadata": {},
   "source": [
    "### Average duration of top 10 genre pair in descending order"
   ]
  },
  {
   "cell_type": "code",
   "execution_count": 131,
   "metadata": {},
   "outputs": [
    {
     "data": {
      "text/html": [
       "<div>\n",
       "<style scoped>\n",
       "    .dataframe tbody tr th:only-of-type {\n",
       "        vertical-align: middle;\n",
       "    }\n",
       "\n",
       "    .dataframe tbody tr th {\n",
       "        vertical-align: top;\n",
       "    }\n",
       "\n",
       "    .dataframe thead th {\n",
       "        text-align: right;\n",
       "    }\n",
       "</style>\n",
       "<table border=\"1\" class=\"dataframe\">\n",
       "  <thead>\n",
       "    <tr style=\"text-align: right;\">\n",
       "      <th></th>\n",
       "      <th>genre</th>\n",
       "      <th>duration_min</th>\n",
       "    </tr>\n",
       "  </thead>\n",
       "  <tbody>\n",
       "    <tr>\n",
       "      <th>160</th>\n",
       "      <td>Action, Fantasy, Talk-Show</td>\n",
       "      <td>480.0</td>\n",
       "    </tr>\n",
       "    <tr>\n",
       "      <th>2355</th>\n",
       "      <td>History, Mystery, Sci-Fi</td>\n",
       "      <td>300.0</td>\n",
       "    </tr>\n",
       "    <tr>\n",
       "      <th>2295</th>\n",
       "      <td>Game-Show, History, Talk-Show</td>\n",
       "      <td>225.0</td>\n",
       "    </tr>\n",
       "    <tr>\n",
       "      <th>2815</th>\n",
       "      <td>Romance, Comedy, Music</td>\n",
       "      <td>209.0</td>\n",
       "    </tr>\n",
       "    <tr>\n",
       "      <th>2157</th>\n",
       "      <td>Fantasy, Adventure, Action</td>\n",
       "      <td>203.0</td>\n",
       "    </tr>\n",
       "    <tr>\n",
       "      <th>2761</th>\n",
       "      <td>Mystery, Thriller, Action</td>\n",
       "      <td>196.5</td>\n",
       "    </tr>\n",
       "    <tr>\n",
       "      <th>1716</th>\n",
       "      <td>Drama, Action, Musical</td>\n",
       "      <td>189.0</td>\n",
       "    </tr>\n",
       "    <tr>\n",
       "      <th>3305</th>\n",
       "      <td>Talk-Show, History</td>\n",
       "      <td>188.0</td>\n",
       "    </tr>\n",
       "    <tr>\n",
       "      <th>2543</th>\n",
       "      <td>Music, Fantasy, Drama</td>\n",
       "      <td>188.0</td>\n",
       "    </tr>\n",
       "    <tr>\n",
       "      <th>3428</th>\n",
       "      <td>Western, Romance</td>\n",
       "      <td>184.0</td>\n",
       "    </tr>\n",
       "  </tbody>\n",
       "</table>\n",
       "</div>"
      ],
      "text/plain": [
       "                              genre  duration_min\n",
       "160      Action, Fantasy, Talk-Show         480.0\n",
       "2355       History, Mystery, Sci-Fi         300.0\n",
       "2295  Game-Show, History, Talk-Show         225.0\n",
       "2815         Romance, Comedy, Music         209.0\n",
       "2157     Fantasy, Adventure, Action         203.0\n",
       "2761      Mystery, Thriller, Action         196.5\n",
       "1716         Drama, Action, Musical         189.0\n",
       "3305             Talk-Show, History         188.0\n",
       "2543          Music, Fantasy, Drama         188.0\n",
       "3428               Western, Romance         184.0"
      ]
     },
     "execution_count": 131,
     "metadata": {},
     "output_type": "execute_result"
    }
   ],
   "source": [
    "df.groupby('genre').agg({'duration_min':'mean'}).reset_index().sort_values(by='duration_min',ascending=False)[0:10]"
   ]
  },
  {
   "cell_type": "markdown",
   "metadata": {},
   "source": [
    "### Average duration of top 10 unique genre in descending order"
   ]
  },
  {
   "cell_type": "code",
   "execution_count": 138,
   "metadata": {},
   "outputs": [
    {
     "data": {
      "text/html": [
       "<div>\n",
       "<style scoped>\n",
       "    .dataframe tbody tr th:only-of-type {\n",
       "        vertical-align: middle;\n",
       "    }\n",
       "\n",
       "    .dataframe tbody tr th {\n",
       "        vertical-align: top;\n",
       "    }\n",
       "\n",
       "    .dataframe thead th {\n",
       "        text-align: right;\n",
       "    }\n",
       "</style>\n",
       "<table border=\"1\" class=\"dataframe\">\n",
       "  <thead>\n",
       "    <tr style=\"text-align: right;\">\n",
       "      <th></th>\n",
       "      <th>genre</th>\n",
       "      <th>average_duration</th>\n",
       "    </tr>\n",
       "  </thead>\n",
       "  <tbody>\n",
       "    <tr>\n",
       "      <th>11</th>\n",
       "      <td>Game-Show</td>\n",
       "      <td>6.507231</td>\n",
       "    </tr>\n",
       "    <tr>\n",
       "      <th>10</th>\n",
       "      <td>Short</td>\n",
       "      <td>7.912224</td>\n",
       "    </tr>\n",
       "    <tr>\n",
       "      <th>3</th>\n",
       "      <td>Talk-Show</td>\n",
       "      <td>8.266208</td>\n",
       "    </tr>\n",
       "    <tr>\n",
       "      <th>4</th>\n",
       "      <td>Animation</td>\n",
       "      <td>8.876694</td>\n",
       "    </tr>\n",
       "    <tr>\n",
       "      <th>23</th>\n",
       "      <td>Family</td>\n",
       "      <td>9.608685</td>\n",
       "    </tr>\n",
       "    <tr>\n",
       "      <th>21</th>\n",
       "      <td>Reality-TV</td>\n",
       "      <td>10.166399</td>\n",
       "    </tr>\n",
       "    <tr>\n",
       "      <th>25</th>\n",
       "      <td>News</td>\n",
       "      <td>10.767224</td>\n",
       "    </tr>\n",
       "    <tr>\n",
       "      <th>8</th>\n",
       "      <td>Sport</td>\n",
       "      <td>11.648261</td>\n",
       "    </tr>\n",
       "    <tr>\n",
       "      <th>7</th>\n",
       "      <td>Comedy</td>\n",
       "      <td>14.381258</td>\n",
       "    </tr>\n",
       "    <tr>\n",
       "      <th>15</th>\n",
       "      <td>Music</td>\n",
       "      <td>14.859236</td>\n",
       "    </tr>\n",
       "    <tr>\n",
       "      <th>17</th>\n",
       "      <td>Fantasy</td>\n",
       "      <td>16.494188</td>\n",
       "    </tr>\n",
       "    <tr>\n",
       "      <th>20</th>\n",
       "      <td>Musical</td>\n",
       "      <td>16.527857</td>\n",
       "    </tr>\n",
       "    <tr>\n",
       "      <th>1</th>\n",
       "      <td>Sci-Fi</td>\n",
       "      <td>16.986774</td>\n",
       "    </tr>\n",
       "    <tr>\n",
       "      <th>6</th>\n",
       "      <td>Adventure</td>\n",
       "      <td>17.119302</td>\n",
       "    </tr>\n",
       "    <tr>\n",
       "      <th>13</th>\n",
       "      <td>History</td>\n",
       "      <td>19.533779</td>\n",
       "    </tr>\n",
       "    <tr>\n",
       "      <th>2</th>\n",
       "      <td>Romance</td>\n",
       "      <td>19.946352</td>\n",
       "    </tr>\n",
       "    <tr>\n",
       "      <th>5</th>\n",
       "      <td>Horror</td>\n",
       "      <td>20.338607</td>\n",
       "    </tr>\n",
       "    <tr>\n",
       "      <th>12</th>\n",
       "      <td>Mystery</td>\n",
       "      <td>21.962641</td>\n",
       "    </tr>\n",
       "    <tr>\n",
       "      <th>22</th>\n",
       "      <td>Action</td>\n",
       "      <td>23.440710</td>\n",
       "    </tr>\n",
       "    <tr>\n",
       "      <th>14</th>\n",
       "      <td>Biography</td>\n",
       "      <td>23.958364</td>\n",
       "    </tr>\n",
       "    <tr>\n",
       "      <th>16</th>\n",
       "      <td>Drama</td>\n",
       "      <td>25.352584</td>\n",
       "    </tr>\n",
       "    <tr>\n",
       "      <th>26</th>\n",
       "      <td>Crime</td>\n",
       "      <td>26.332470</td>\n",
       "    </tr>\n",
       "    <tr>\n",
       "      <th>24</th>\n",
       "      <td>Thriller</td>\n",
       "      <td>26.697947</td>\n",
       "    </tr>\n",
       "    <tr>\n",
       "      <th>27</th>\n",
       "      <td>Documentary</td>\n",
       "      <td>26.737675</td>\n",
       "    </tr>\n",
       "    <tr>\n",
       "      <th>19</th>\n",
       "      <td>Western</td>\n",
       "      <td>34.446634</td>\n",
       "    </tr>\n",
       "    <tr>\n",
       "      <th>18</th>\n",
       "      <td>Adult</td>\n",
       "      <td>35.420000</td>\n",
       "    </tr>\n",
       "    <tr>\n",
       "      <th>0</th>\n",
       "      <td>War</td>\n",
       "      <td>35.957794</td>\n",
       "    </tr>\n",
       "    <tr>\n",
       "      <th>9</th>\n",
       "      <td>Film-Noir</td>\n",
       "      <td>83.121920</td>\n",
       "    </tr>\n",
       "  </tbody>\n",
       "</table>\n",
       "</div>"
      ],
      "text/plain": [
       "          genre  average_duration\n",
       "11    Game-Show          6.507231\n",
       "10        Short          7.912224\n",
       "3     Talk-Show          8.266208\n",
       "4     Animation          8.876694\n",
       "23       Family          9.608685\n",
       "21   Reality-TV         10.166399\n",
       "25         News         10.767224\n",
       "8         Sport         11.648261\n",
       "7        Comedy         14.381258\n",
       "15        Music         14.859236\n",
       "17      Fantasy         16.494188\n",
       "20      Musical         16.527857\n",
       "1        Sci-Fi         16.986774\n",
       "6     Adventure         17.119302\n",
       "13      History         19.533779\n",
       "2       Romance         19.946352\n",
       "5        Horror         20.338607\n",
       "12      Mystery         21.962641\n",
       "22       Action         23.440710\n",
       "14    Biography         23.958364\n",
       "16        Drama         25.352584\n",
       "26        Crime         26.332470\n",
       "24     Thriller         26.697947\n",
       "27  Documentary         26.737675\n",
       "19      Western         34.446634\n",
       "18        Adult         35.420000\n",
       "0           War         35.957794\n",
       "9     Film-Noir         83.121920"
      ]
     },
     "execution_count": 138,
     "metadata": {},
     "output_type": "execute_result"
    }
   ],
   "source": [
    "# Create an empty dictionary to store lists of movie durations for each genre\n",
    "avg_dur = {}\n",
    "\n",
    "# Iterate through each unique genre and initialize an empty list\n",
    "for gen in unique_genre:\n",
    "    avg_dur[gen] = []\n",
    "\n",
    "# Add movie duration times for each genre respectively\n",
    "for i in range(len(df)):\n",
    "    genres_list = df['genre'].iloc[i].replace(',',' ').split()  # Replace comma and split genres\n",
    "    for genre in genres_list:\n",
    "        avg_dur[genre].append(df['duration_min'][i])  # Add all the movie durations for the respective genre\n",
    "\n",
    "# Calculate the mean duration for each genre\n",
    "for key in avg_dur.keys():\n",
    "    avg_dur[key] = sum(avg_dur[key]) / len(avg_dur[key])\n",
    "\n",
    "# Create a DataFrame from the dictionary and sort it by average duration in ascending order\n",
    "df_avgDur = pd.DataFrame(list(avg_dur.items()), columns=['genre', 'average_duration'])\n",
    "df_avgDur = df_avgDur.sort_values(by='average_duration', ascending=True)\n",
    "df_avgDur\n"
   ]
  },
  {
   "cell_type": "markdown",
   "metadata": {},
   "source": [
    "#### creates a bar chart using Pandas to visualize the average running duration of movies for each genre. It uses the 'df_avgDur' DataFrame, where each row corresponds to a genre and its average duration. The chart displays genres on the X-axis, average duration on the Y-axis, and is colored in green. The title, X and Y labels are customized for better interpretation of the data."
   ]
  },
  {
   "cell_type": "code",
   "execution_count": 139,
   "metadata": {},
   "outputs": [
    {
     "data": {
      "text/plain": [
       "Text(0, 0.5, 'Average Duration in min')"
      ]
     },
     "execution_count": 139,
     "metadata": {},
     "output_type": "execute_result"
    },
    {
     "data": {
      "text/plain": [
       "<Figure size 1200x800 with 0 Axes>"
      ]
     },
     "metadata": {},
     "output_type": "display_data"
    },
    {
     "data": {
      "image/png": "[encoded data removed]",
      "text/plain": [
       "<Figure size 640x480 with 1 Axes>"
      ]
     },
     "metadata": {},
     "output_type": "display_data"
    }
   ],
   "source": [
    "# Creating a bar chart to visualize the average running duration of each genre\n",
    "plt.figure(figsize=(12, 8))\n",
    "\n",
    "# Plotting the bar chart using Pandas' built-in plot function\n",
    "df_avgDur.plot(x='genre', y='average_duration', kind='bar', color='g')\n",
    "\n",
    "# Customizing the plot title, X and Y labels\n",
    "plt.title('Average Running Duration of Each Genre')\n",
    "plt.xlabel('Genre')\n",
    "plt.ylabel('Average Duration in min')\n"
   ]
  },
  {
   "cell_type": "markdown",
   "metadata": {},
   "source": [
    "### creates a bar chart using Seaborn to visualize the average running duration of movies for each genre. It utilizes the 'df_avgDur' DataFrame, where each row represents a genre and its average duration. The chart displays genres on the X-axis, average duration on the Y-axis, and includes horizontal grid lines for better readability. The title, X and Y labels are customized, and X-axis labels are rotated for improved presentation."
   ]
  },
  {
   "cell_type": "code",
   "execution_count": 141,
   "metadata": {},
   "outputs": [
    {
     "data": {
      "image/png": "[encoded data removed]",
      "text/plain": [
       "<Figure size 1500x500 with 1 Axes>"
      ]
     },
     "metadata": {},
     "output_type": "display_data"
    }
   ],
   "source": [
    "# Creating a bar chart to visualize the average running duration of each genre using Seaborn\n",
    "plt.figure(figsize=(15, 5))\n",
    "sns.barplot(x=df_avgDur['genre'], y=df_avgDur['average_duration'])\n",
    "\n",
    "# Setting horizontal grid lines\n",
    "plt.grid(True, axis='y', color='gray', linestyle='--', linewidth=0.2)\n",
    "\n",
    "# Removing vertical grid lines\n",
    "plt.grid(False, axis='x')\n",
    "\n",
    "# Customizing the plot title, X and Y labels, and rotating X-axis labels\n",
    "plt.title('Average Running Duration of Each Genre')\n",
    "plt.xlabel('Genre')\n",
    "plt.ylabel('Average Duration in min')\n",
    "plt.xticks(rotation=90)\n",
    "\n",
    "# Displaying the plot\n",
    "plt.show()\n"
   ]
  },
  {
   "cell_type": "markdown",
   "metadata": {},
   "source": [
    "### creates an interactive bar chart using Plotly Express to visualize the average movies duration for each genre. It customizes the background color to enhance visual appeal."
   ]
  },
  {
   "cell_type": "code",
   "execution_count": 143,
   "metadata": {},
   "outputs": [
    {
     "data": {
      "application/vnd.plotly.v1+json": {
       "config": {
        "plotlyServerURL": "https://plot.ly"
       },
       "data": [
        {
         "alignmentgroup": "True",
         "hovertemplate": "Genre=%{x}<br>average_duration=%{y}<extra></extra>",
         "legendgroup": "Game-Show",
         "marker": {
          "color": "#0d0887",
          "pattern": {
           "shape": ""
          }
         },
         "name": "Game-Show",
         "offsetgroup": "Game-Show",
         "orientation": "v",
         "showlegend": true,
         "textposition": "auto",
         "type": "bar",
         "x": [
          "Game-Show"
         ],
         "xaxis": "x",
         "y": [
          6.507231481253539
         ],
         "yaxis": "y"
        },
        {
         "alignmentgroup": "True",
         "hovertemplate": "Genre=%{x}<br>average_duration=%{y}<extra></extra>",
         "legendgroup": "Short",
         "marker": {
          "color": "#46039f",
          "pattern": {
           "shape": ""
          }
         },
         "name": "Short",
         "offsetgroup": "Short",
         "orientation": "v",
         "showlegend": true,
         "textposition": "auto",
         "type": "bar",
         "x": [
          "Short"
         ],
         "xaxis": "x",
         "y": [
          7.912223543461009
         ],
         "yaxis": "y"
        },
        {
         "alignmentgroup": "True",
         "hovertemplate": "Genre=%{x}<br>average_duration=%{y}<extra></extra>",
         "legendgroup": "Talk-Show",
         "marker": {
          "color": "#7201a8",
          "pattern": {
           "shape": ""
          }
         },
         "name": "Talk-Show",
         "offsetgroup": "Talk-Show",
         "orientation": "v",
         "showlegend": true,
         "textposition": "auto",
         "type": "bar",
         "x": [
          "Talk-Show"
         ],
         "xaxis": "x",
         "y": [
          8.266208061790973
         ],
         "yaxis": "y"
        },
        {
         "alignmentgroup": "True",
         "hovertemplate": "Genre=%{x}<br>average_duration=%{y}<extra></extra>",
         "legendgroup": "Animation",
         "marker": {
          "color": "#9c179e",
          "pattern": {
           "shape": ""
          }
         },
         "name": "Animation",
         "offsetgroup": "Animation",
         "orientation": "v",
         "showlegend": true,
         "textposition": "auto",
         "type": "bar",
         "x": [
          "Animation"
         ],
         "xaxis": "x",
         "y": [
          8.876694146849639
         ],
         "yaxis": "y"
        },
        {
         "alignmentgroup": "True",
         "hovertemplate": "Genre=%{x}<br>average_duration=%{y}<extra></extra>",
         "legendgroup": "Family",
         "marker": {
          "color": "#bd3786",
          "pattern": {
           "shape": ""
          }
         },
         "name": "Family",
         "offsetgroup": "Family",
         "orientation": "v",
         "showlegend": true,
         "textposition": "auto",
         "type": "bar",
         "x": [
          "Family"
         ],
         "xaxis": "x",
         "y": [
          9.60868474927442
         ],
         "yaxis": "y"
        },
        {
         "alignmentgroup": "True",
         "hovertemplate": "Genre=%{x}<br>average_duration=%{y}<extra></extra>",
         "legendgroup": "Reality-TV",
         "marker": {
          "color": "#d8576b",
          "pattern": {
           "shape": ""
          }
         },
         "name": "Reality-TV",
         "offsetgroup": "Reality-TV",
         "orientation": "v",
         "showlegend": true,
         "textposition": "auto",
         "type": "bar",
         "x": [
          "Reality-TV"
         ],
         "xaxis": "x",
         "y": [
          10.166399312879715
         ],
         "yaxis": "y"
        },
        {
         "alignmentgroup": "True",
         "hovertemplate": "Genre=%{x}<br>average_duration=%{y}<extra></extra>",
         "legendgroup": "News",
         "marker": {
          "color": "#ed7953",
          "pattern": {
           "shape": ""
          }
         },
         "name": "News",
         "offsetgroup": "News",
         "orientation": "v",
         "showlegend": true,
         "textposition": "auto",
         "type": "bar",
         "x": [
          "News"
         ],
         "xaxis": "x",
         "y": [
          10.767223620965897
         ],
         "yaxis": "y"
        },
        {
         "alignmentgroup": "True",
         "hovertemplate": "Genre=%{x}<br>average_duration=%{y}<extra></extra>",
         "legendgroup": "Sport",
         "marker": {
          "color": "#fb9f3a",
          "pattern": {
           "shape": ""
          }
         },
         "name": "Sport",
         "offsetgroup": "Sport",
         "orientation": "v",
         "showlegend": true,
         "textposition": "auto",
         "type": "bar",
         "x": [
          "Sport"
         ],
         "xaxis": "x",
         "y": [
          11.648260540392945
         ],
         "yaxis": "y"
        },
        {
         "alignmentgroup": "True",
         "hovertemplate": "Genre=%{x}<br>average_duration=%{y}<extra></extra>",
         "legendgroup": "Comedy",
         "marker": {
          "color": "#fdca26",
          "pattern": {
           "shape": ""
          }
         },
         "name": "Comedy",
         "offsetgroup": "Comedy",
         "orientation": "v",
         "showlegend": true,
         "textposition": "auto",
         "type": "bar",
         "x": [
          "Comedy"
         ],
         "xaxis": "x",
         "y": [
          14.38125750724228
         ],
         "yaxis": "y"
        },
        {
         "alignmentgroup": "True",
         "hovertemplate": "Genre=%{x}<br>average_duration=%{y}<extra></extra>",
         "legendgroup": "Music",
         "marker": {
          "color": "#f0f921",
          "pattern": {
           "shape": ""
          }
         },
         "name": "Music",
         "offsetgroup": "Music",
         "orientation": "v",
         "showlegend": true,
         "textposition": "auto",
         "type": "bar",
         "x": [
          "Music"
         ],
         "xaxis": "x",
         "y": [
          14.859236455871832
         ],
         "yaxis": "y"
        },
        {
         "alignmentgroup": "True",
         "hovertemplate": "Genre=%{x}<br>average_duration=%{y}<extra></extra>",
         "legendgroup": "Fantasy",
         "marker": {
          "color": "#0d0887",
          "pattern": {
           "shape": ""
          }
         },
         "name": "Fantasy",
         "offsetgroup": "Fantasy",
         "orientation": "v",
         "showlegend": true,
         "textposition": "auto",
         "type": "bar",
         "x": [
          "Fantasy"
         ],
         "xaxis": "x",
         "y": [
          16.494187662254035
         ],
         "yaxis": "y"
        },
        {
         "alignmentgroup": "True",
         "hovertemplate": "Genre=%{x}<br>average_duration=%{y}<extra></extra>",
         "legendgroup": "Musical",
         "marker": {
          "color": "#46039f",
          "pattern": {
           "shape": ""
          }
         },
         "name": "Musical",
         "offsetgroup": "Musical",
         "orientation": "v",
         "showlegend": true,
         "textposition": "auto",
         "type": "bar",
         "x": [
          "Musical"
         ],
         "xaxis": "x",
         "y": [
          16.527856991350664
         ],
         "yaxis": "y"
        },
        {
         "alignmentgroup": "True",
         "hovertemplate": "Genre=%{x}<br>average_duration=%{y}<extra></extra>",
         "legendgroup": "Sci-Fi",
         "marker": {
          "color": "#7201a8",
          "pattern": {
           "shape": ""
          }
         },
         "name": "Sci-Fi",
         "offsetgroup": "Sci-Fi",
         "orientation": "v",
         "showlegend": true,
         "textposition": "auto",
         "type": "bar",
         "x": [
          "Sci-Fi"
         ],
         "xaxis": "x",
         "y": [
          16.986774013874122
         ],
         "yaxis": "y"
        },
        {
         "alignmentgroup": "True",
         "hovertemplate": "Genre=%{x}<br>average_duration=%{y}<extra></extra>",
         "legendgroup": "Adventure",
         "marker": {
          "color": "#9c179e",
          "pattern": {
           "shape": ""
          }
         },
         "name": "Adventure",
         "offsetgroup": "Adventure",
         "orientation": "v",
         "showlegend": true,
         "textposition": "auto",
         "type": "bar",
         "x": [
          "Adventure"
         ],
         "xaxis": "x",
         "y": [
          17.11930156249102
         ],
         "yaxis": "y"
        },
        {
         "alignmentgroup": "True",
         "hovertemplate": "Genre=%{x}<br>average_duration=%{y}<extra></extra>",
         "legendgroup": "History",
         "marker": {
          "color": "#bd3786",
          "pattern": {
           "shape": ""
          }
         },
         "name": "History",
         "offsetgroup": "History",
         "orientation": "v",
         "showlegend": true,
         "textposition": "auto",
         "type": "bar",
         "x": [
          "History"
         ],
         "xaxis": "x",
         "y": [
          19.53377891268756
         ],
         "yaxis": "y"
        },
        {
         "alignmentgroup": "True",
         "hovertemplate": "Genre=%{x}<br>average_duration=%{y}<extra></extra>",
         "legendgroup": "Romance",
         "marker": {
          "color": "#d8576b",
          "pattern": {
           "shape": ""
          }
         },
         "name": "Romance",
         "offsetgroup": "Romance",
         "orientation": "v",
         "showlegend": true,
         "textposition": "auto",
         "type": "bar",
         "x": [
          "Romance"
         ],
         "xaxis": "x",
         "y": [
          19.94635248934851
         ],
         "yaxis": "y"
        },
        {
         "alignmentgroup": "True",
         "hovertemplate": "Genre=%{x}<br>average_duration=%{y}<extra></extra>",
         "legendgroup": "Horror",
         "marker": {
          "color": "#ed7953",
          "pattern": {
           "shape": ""
          }
         },
         "name": "Horror",
         "offsetgroup": "Horror",
         "orientation": "v",
         "showlegend": true,
         "textposition": "auto",
         "type": "bar",
         "x": [
          "Horror"
         ],
         "xaxis": "x",
         "y": [
          20.338607305518465
         ],
         "yaxis": "y"
        },
        {
         "alignmentgroup": "True",
         "hovertemplate": "Genre=%{x}<br>average_duration=%{y}<extra></extra>",
         "legendgroup": "Mystery",
         "marker": {
          "color": "#fb9f3a",
          "pattern": {
           "shape": ""
          }
         },
         "name": "Mystery",
         "offsetgroup": "Mystery",
         "orientation": "v",
         "showlegend": true,
         "textposition": "auto",
         "type": "bar",
         "x": [
          "Mystery"
         ],
         "xaxis": "x",
         "y": [
          21.962640542992663
         ],
         "yaxis": "y"
        },
        {
         "alignmentgroup": "True",
         "hovertemplate": "Genre=%{x}<br>average_duration=%{y}<extra></extra>",
         "legendgroup": "Action",
         "marker": {
          "color": "#fdca26",
          "pattern": {
           "shape": ""
          }
         },
         "name": "Action",
         "offsetgroup": "Action",
         "orientation": "v",
         "showlegend": true,
         "textposition": "auto",
         "type": "bar",
         "x": [
          "Action"
         ],
         "xaxis": "x",
         "y": [
          23.44070966793066
         ],
         "yaxis": "y"
        },
        {
         "alignmentgroup": "True",
         "hovertemplate": "Genre=%{x}<br>average_duration=%{y}<extra></extra>",
         "legendgroup": "Biography",
         "marker": {
          "color": "#f0f921",
          "pattern": {
           "shape": ""
          }
         },
         "name": "Biography",
         "offsetgroup": "Biography",
         "orientation": "v",
         "showlegend": true,
         "textposition": "auto",
         "type": "bar",
         "x": [
          "Biography"
         ],
         "xaxis": "x",
         "y": [
          23.958364065890603
         ],
         "yaxis": "y"
        },
        {
         "alignmentgroup": "True",
         "hovertemplate": "Genre=%{x}<br>average_duration=%{y}<extra></extra>",
         "legendgroup": "Drama",
         "marker": {
          "color": "#0d0887",
          "pattern": {
           "shape": ""
          }
         },
         "name": "Drama",
         "offsetgroup": "Drama",
         "orientation": "v",
         "showlegend": true,
         "textposition": "auto",
         "type": "bar",
         "x": [
          "Drama"
         ],
         "xaxis": "x",
         "y": [
          25.352583951556838
         ],
         "yaxis": "y"
        },
        {
         "alignmentgroup": "True",
         "hovertemplate": "Genre=%{x}<br>average_duration=%{y}<extra></extra>",
         "legendgroup": "Crime",
         "marker": {
          "color": "#46039f",
          "pattern": {
           "shape": ""
          }
         },
         "name": "Crime",
         "offsetgroup": "Crime",
         "orientation": "v",
         "showlegend": true,
         "textposition": "auto",
         "type": "bar",
         "x": [
          "Crime"
         ],
         "xaxis": "x",
         "y": [
          26.332469937975745
         ],
         "yaxis": "y"
        },
        {
         "alignmentgroup": "True",
         "hovertemplate": "Genre=%{x}<br>average_duration=%{y}<extra></extra>",
         "legendgroup": "Thriller",
         "marker": {
          "color": "#7201a8",
          "pattern": {
           "shape": ""
          }
         },
         "name": "Thriller",
         "offsetgroup": "Thriller",
         "orientation": "v",
         "showlegend": true,
         "textposition": "auto",
         "type": "bar",
         "x": [
          "Thriller"
         ],
         "xaxis": "x",
         "y": [
          26.697947465681096
         ],
         "yaxis": "y"
        },
        {
         "alignmentgroup": "True",
         "hovertemplate": "Genre=%{x}<br>average_duration=%{y}<extra></extra>",
         "legendgroup": "Documentary",
         "marker": {
          "color": "#9c179e",
          "pattern": {
           "shape": ""
          }
         },
         "name": "Documentary",
         "offsetgroup": "Documentary",
         "orientation": "v",
         "showlegend": true,
         "textposition": "auto",
         "type": "bar",
         "x": [
          "Documentary"
         ],
         "xaxis": "x",
         "y": [
          26.737674867342015
         ],
         "yaxis": "y"
        },
        {
         "alignmentgroup": "True",
         "hovertemplate": "Genre=%{x}<br>average_duration=%{y}<extra></extra>",
         "legendgroup": "Western",
         "marker": {
          "color": "#bd3786",
          "pattern": {
           "shape": ""
          }
         },
         "name": "Western",
         "offsetgroup": "Western",
         "orientation": "v",
         "showlegend": true,
         "textposition": "auto",
         "type": "bar",
         "x": [
          "Western"
         ],
         "xaxis": "x",
         "y": [
          34.44663382594417
         ],
         "yaxis": "y"
        },
        {
         "alignmentgroup": "True",
         "hovertemplate": "Genre=%{x}<br>average_duration=%{y}<extra></extra>",
         "legendgroup": "Adult",
         "marker": {
          "color": "#d8576b",
          "pattern": {
           "shape": ""
          }
         },
         "name": "Adult",
         "offsetgroup": "Adult",
         "orientation": "v",
         "showlegend": true,
         "textposition": "auto",
         "type": "bar",
         "x": [
          "Adult"
         ],
         "xaxis": "x",
         "y": [
          35.42
         ],
         "yaxis": "y"
        },
        {
         "alignmentgroup": "True",
         "hovertemplate": "Genre=%{x}<br>average_duration=%{y}<extra></extra>",
         "legendgroup": "War",
         "marker": {
          "color": "#ed7953",
          "pattern": {
           "shape": ""
          }
         },
         "name": "War",
         "offsetgroup": "War",
         "orientation": "v",
         "showlegend": true,
         "textposition": "auto",
         "type": "bar",
         "x": [
          "War"
         ],
         "xaxis": "x",
         "y": [
          35.9577938247012
         ],
         "yaxis": "y"
        },
        {
         "alignmentgroup": "True",
         "hovertemplate": "Genre=%{x}<br>average_duration=%{y}<extra></extra>",
         "legendgroup": "Film-Noir",
         "marker": {
          "color": "#fb9f3a",
          "pattern": {
           "shape": ""
          }
         },
         "name": "Film-Noir",
         "offsetgroup": "Film-Noir",
         "orientation": "v",
         "showlegend": true,
         "textposition": "auto",
         "type": "bar",
         "x": [
          "Film-Noir"
         ],
         "xaxis": "x",
         "y": [
          83.12191958495461
         ],
         "yaxis": "y"
        }
       ],
       "layout": {
        "autosize": true,
        "barmode": "relative",
        "legend": {
         "title": {
          "text": "Genre"
         },
         "tracegroupgap": 0
        },
        "paper_bgcolor": "#FFB200",
        "plot_bgcolor": "#FFB200",
        "template": {
         "data": {
          "bar": [
           {
            "error_x": {
             "color": "#f2f5fa"
            },
            "error_y": {
             "color": "#f2f5fa"
            },
            "marker": {
             "line": {
              "color": "rgb(17,17,17)",
              "width": 0.5
             },
             "pattern": {
              "fillmode": "overlay",
              "size": 10,
              "solidity": 0.2
             }
            },
            "type": "bar"
           }
          ],
          "barpolar": [
           {
            "marker": {
             "line": {
              "color": "rgb(17,17,17)",
              "width": 0.5
             },
             "pattern": {
              "fillmode": "overlay",
              "size": 10,
              "solidity": 0.2
             }
            },
            "type": "barpolar"
           }
          ],
          "carpet": [
           {
            "aaxis": {
             "endlinecolor": "#A2B1C6",
             "gridcolor": "#506784",
             "linecolor": "#506784",
             "minorgridcolor": "#506784",
             "startlinecolor": "#A2B1C6"
            },
            "baxis": {
             "endlinecolor": "#A2B1C6",
             "gridcolor": "#506784",
             "linecolor": "#506784",
             "minorgridcolor": "#506784",
             "startlinecolor": "#A2B1C6"
            },
            "type": "carpet"
           }
          ],
          "choropleth": [
           {
            "colorbar": {
             "outlinewidth": 0,
             "ticks": ""
            },
            "type": "choropleth"
           }
          ],
          "contour": [
           {
            "colorbar": {
             "outlinewidth": 0,
             "ticks": ""
            },
            "colorscale": [
             [
              0,
              "#0d0887"
             ],
             [
              0.1111111111111111,
              "#46039f"
             ],
             [
              0.2222222222222222,
              "#7201a8"
             ],
             [
              0.3333333333333333,
              "#9c179e"
             ],
             [
              0.4444444444444444,
              "#bd3786"
             ],
             [
              0.5555555555555556,
              "#d8576b"
             ],
             [
              0.6666666666666666,
              "#ed7953"
             ],
             [
              0.7777777777777778,
              "#fb9f3a"
             ],
             [
              0.8888888888888888,
              "#fdca26"
             ],
             [
              1,
              "#f0f921"
             ]
            ],
            "type": "contour"
           }
          ],
          "contourcarpet": [
           {
            "colorbar": {
             "outlinewidth": 0,
             "ticks": ""
            },
            "type": "contourcarpet"
           }
          ],
          "heatmap": [
           {
            "colorbar": {
             "outlinewidth": 0,
             "ticks": ""
            },
            "colorscale": [
             [
              0,
              "#0d0887"
             ],
             [
              0.1111111111111111,
              "#46039f"
             ],
             [
              0.2222222222222222,
              "#7201a8"
             ],
             [
              0.3333333333333333,
              "#9c179e"
             ],
             [
              0.4444444444444444,
              "#bd3786"
             ],
             [
              0.5555555555555556,
              "#d8576b"
             ],
             [
              0.6666666666666666,
              "#ed7953"
             ],
             [
              0.7777777777777778,
              "#fb9f3a"
             ],
             [
              0.8888888888888888,
              "#fdca26"
             ],
             [
              1,
              "#f0f921"
             ]
            ],
            "type": "heatmap"
           }
          ],
          "heatmapgl": [
           {
            "colorbar": {
             "outlinewidth": 0,
             "ticks": ""
            },
            "colorscale": [
             [
              0,
              "#0d0887"
             ],
             [
              0.1111111111111111,
              "#46039f"
             ],
             [
              0.2222222222222222,
              "#7201a8"
             ],
             [
              0.3333333333333333,
              "#9c179e"
             ],
             [
              0.4444444444444444,
              "#bd3786"
             ],
             [
              0.5555555555555556,
              "#d8576b"
             ],
             [
              0.6666666666666666,
              "#ed7953"
             ],
             [
              0.7777777777777778,
              "#fb9f3a"
             ],
             [
              0.8888888888888888,
              "#fdca26"
             ],
             [
              1,
              "#f0f921"
             ]
            ],
            "type": "heatmapgl"
           }
          ],
          "histogram": [
           {
            "marker": {
             "pattern": {
              "fillmode": "overlay",
              "size": 10,
              "solidity": 0.2
             }
            },
            "type": "histogram"
           }
          ],
          "histogram2d": [
           {
            "colorbar": {
             "outlinewidth": 0,
             "ticks": ""
            },
            "colorscale": [
             [
              0,
              "#0d0887"
             ],
             [
              0.1111111111111111,
              "#46039f"
             ],
             [
              0.2222222222222222,
              "#7201a8"
             ],
             [
              0.3333333333333333,
              "#9c179e"
             ],
             [
              0.4444444444444444,
              "#bd3786"
             ],
             [
              0.5555555555555556,
              "#d8576b"
             ],
             [
              0.6666666666666666,
              "#ed7953"
             ],
             [
              0.7777777777777778,
              "#fb9f3a"
             ],
             [
              0.8888888888888888,
              "#fdca26"
             ],
             [
              1,
              "#f0f921"
             ]
            ],
            "type": "histogram2d"
           }
          ],
          "histogram2dcontour": [
           {
            "colorbar": {
             "outlinewidth": 0,
             "ticks": ""
            },
            "colorscale": [
             [
              0,
              "#0d0887"
             ],
             [
              0.1111111111111111,
              "#46039f"
             ],
             [
              0.2222222222222222,
              "#7201a8"
             ],
             [
              0.3333333333333333,
              "#9c179e"
             ],
             [
              0.4444444444444444,
              "#bd3786"
             ],
             [
              0.5555555555555556,
              "#d8576b"
             ],
             [
              0.6666666666666666,
              "#ed7953"
             ],
             [
              0.7777777777777778,
              "#fb9f3a"
             ],
             [
              0.8888888888888888,
              "#fdca26"
             ],
             [
              1,
              "#f0f921"
             ]
            ],
            "type": "histogram2dcontour"
           }
          ],
          "mesh3d": [
           {
            "colorbar": {
             "outlinewidth": 0,
             "ticks": ""
            },
            "type": "mesh3d"
           }
          ],
          "parcoords": [
           {
            "line": {
             "colorbar": {
              "outlinewidth": 0,
              "ticks": ""
             }
            },
            "type": "parcoords"
           }
          ],
          "pie": [
           {
            "automargin": true,
            "type": "pie"
           }
          ],
          "scatter": [
           {
            "marker": {
             "line": {
              "color": "#283442"
             }
            },
            "type": "scatter"
           }
          ],
          "scatter3d": [
           {
            "line": {
             "colorbar": {
              "outlinewidth": 0,
              "ticks": ""
             }
            },
            "marker": {
             "colorbar": {
              "outlinewidth": 0,
              "ticks": ""
             }
            },
            "type": "scatter3d"
           }
          ],
          "scattercarpet": [
           {
            "marker": {
             "colorbar": {
              "outlinewidth": 0,
              "ticks": ""
             }
            },
            "type": "scattercarpet"
           }
          ],
          "scattergeo": [
           {
            "marker": {
             "colorbar": {
              "outlinewidth": 0,
              "ticks": ""
             }
            },
            "type": "scattergeo"
           }
          ],
          "scattergl": [
           {
            "marker": {
             "line": {
              "color": "#283442"
             }
            },
            "type": "scattergl"
           }
          ],
          "scattermapbox": [
           {
            "marker": {
             "colorbar": {
              "outlinewidth": 0,
              "ticks": ""
             }
            },
            "type": "scattermapbox"
           }
          ],
          "scatterpolar": [
           {
            "marker": {
             "colorbar": {
              "outlinewidth": 0,
              "ticks": ""
             }
            },
            "type": "scatterpolar"
           }
          ],
          "scatterpolargl": [
           {
            "marker": {
             "colorbar": {
              "outlinewidth": 0,
              "ticks": ""
             }
            },
            "type": "scatterpolargl"
           }
          ],
          "scatterternary": [
           {
            "marker": {
             "colorbar": {
              "outlinewidth": 0,
              "ticks": ""
             }
            },
            "type": "scatterternary"
           }
          ],
          "surface": [
           {
            "colorbar": {
             "outlinewidth": 0,
             "ticks": ""
            },
            "colorscale": [
             [
              0,
              "#0d0887"
             ],
             [
              0.1111111111111111,
              "#46039f"
             ],
             [
              0.2222222222222222,
              "#7201a8"
             ],
             [
              0.3333333333333333,
              "#9c179e"
             ],
             [
              0.4444444444444444,
              "#bd3786"
             ],
             [
              0.5555555555555556,
              "#d8576b"
             ],
             [
              0.6666666666666666,
              "#ed7953"
             ],
             [
              0.7777777777777778,
              "#fb9f3a"
             ],
             [
              0.8888888888888888,
              "#fdca26"
             ],
             [
              1,
              "#f0f921"
             ]
            ],
            "type": "surface"
           }
          ],
          "table": [
           {
            "cells": {
             "fill": {
              "color": "#506784"
             },
             "line": {
              "color": "rgb(17,17,17)"
             }
            },
            "header": {
             "fill": {
              "color": "#2a3f5f"
             },
             "line": {
              "color": "rgb(17,17,17)"
             }
            },
            "type": "table"
           }
          ]
         },
         "layout": {
          "annotationdefaults": {
           "arrowcolor": "#f2f5fa",
           "arrowhead": 0,
           "arrowwidth": 1
          },
          "autotypenumbers": "strict",
          "coloraxis": {
           "colorbar": {
            "outlinewidth": 0,
            "ticks": ""
           }
          },
          "colorscale": {
           "diverging": [
            [
             0,
             "#8e0152"
            ],
            [
             0.1,
             "#c51b7d"
            ],
            [
             0.2,
             "#de77ae"
            ],
            [
             0.3,
             "#f1b6da"
            ],
            [
             0.4,
             "#fde0ef"
            ],
            [
             0.5,
             "#f7f7f7"
            ],
            [
             0.6,
             "#e6f5d0"
            ],
            [
             0.7,
             "#b8e186"
            ],
            [
             0.8,
             "#7fbc41"
            ],
            [
             0.9,
             "#4d9221"
            ],
            [
             1,
             "#276419"
            ]
           ],
           "sequential": [
            [
             0,
             "#0d0887"
            ],
            [
             0.1111111111111111,
             "#46039f"
            ],
            [
             0.2222222222222222,
             "#7201a8"
            ],
            [
             0.3333333333333333,
             "#9c179e"
            ],
            [
             0.4444444444444444,
             "#bd3786"
            ],
            [
             0.5555555555555556,
             "#d8576b"
            ],
            [
             0.6666666666666666,
             "#ed7953"
            ],
            [
             0.7777777777777778,
             "#fb9f3a"
            ],
            [
             0.8888888888888888,
             "#fdca26"
            ],
            [
             1,
             "#f0f921"
            ]
           ],
           "sequentialminus": [
            [
             0,
             "#0d0887"
            ],
            [
             0.1111111111111111,
             "#46039f"
            ],
            [
             0.2222222222222222,
             "#7201a8"
            ],
            [
             0.3333333333333333,
             "#9c179e"
            ],
            [
             0.4444444444444444,
             "#bd3786"
            ],
            [
             0.5555555555555556,
             "#d8576b"
            ],
            [
             0.6666666666666666,
             "#ed7953"
            ],
            [
             0.7777777777777778,
             "#fb9f3a"
            ],
            [
             0.8888888888888888,
             "#fdca26"
            ],
            [
             1,
             "#f0f921"
            ]
           ]
          },
          "colorway": [
           "#636efa",
           "#EF553B",
           "#00cc96",
           "#ab63fa",
           "#FFA15A",
           "#19d3f3",
           "#FF6692",
           "#B6E880",
           "#FF97FF",
           "#FECB52"
          ],
          "font": {
           "color": "#f2f5fa"
          },
          "geo": {
           "bgcolor": "rgb(17,17,17)",
           "lakecolor": "rgb(17,17,17)",
           "landcolor": "rgb(17,17,17)",
           "showlakes": true,
           "showland": true,
           "subunitcolor": "#506784"
          },
          "hoverlabel": {
           "align": "left"
          },
          "hovermode": "closest",
          "mapbox": {
           "style": "dark"
          },
          "paper_bgcolor": "rgb(17,17,17)",
          "plot_bgcolor": "rgb(17,17,17)",
          "polar": {
           "angularaxis": {
            "gridcolor": "#506784",
            "linecolor": "#506784",
            "ticks": ""
           },
           "bgcolor": "rgb(17,17,17)",
           "radialaxis": {
            "gridcolor": "#506784",
            "linecolor": "#506784",
            "ticks": ""
           }
          },
          "scene": {
           "xaxis": {
            "backgroundcolor": "rgb(17,17,17)",
            "gridcolor": "#506784",
            "gridwidth": 2,
            "linecolor": "#506784",
            "showbackground": true,
            "ticks": "",
            "zerolinecolor": "#C8D4E3"
           },
           "yaxis": {
            "backgroundcolor": "rgb(17,17,17)",
            "gridcolor": "#506784",
            "gridwidth": 2,
            "linecolor": "#506784",
            "showbackground": true,
            "ticks": "",
            "zerolinecolor": "#C8D4E3"
           },
           "zaxis": {
            "backgroundcolor": "rgb(17,17,17)",
            "gridcolor": "#506784",
            "gridwidth": 2,
            "linecolor": "#506784",
            "showbackground": true,
            "ticks": "",
            "zerolinecolor": "#C8D4E3"
           }
          },
          "shapedefaults": {
           "line": {
            "color": "#f2f5fa"
           }
          },
          "sliderdefaults": {
           "bgcolor": "#C8D4E3",
           "bordercolor": "rgb(17,17,17)",
           "borderwidth": 1,
           "tickwidth": 0
          },
          "ternary": {
           "aaxis": {
            "gridcolor": "#506784",
            "linecolor": "#506784",
            "ticks": ""
           },
           "baxis": {
            "gridcolor": "#506784",
            "linecolor": "#506784",
            "ticks": ""
           },
           "bgcolor": "rgb(17,17,17)",
           "caxis": {
            "gridcolor": "#506784",
            "linecolor": "#506784",
            "ticks": ""
           }
          },
          "title": {
           "x": 0.05
          },
          "updatemenudefaults": {
           "bgcolor": "#506784",
           "borderwidth": 0
          },
          "xaxis": {
           "automargin": true,
           "gridcolor": "#283442",
           "linecolor": "#506784",
           "ticks": "",
           "title": {
            "standoff": 15
           },
           "zerolinecolor": "#283442",
           "zerolinewidth": 2
          },
          "yaxis": {
           "automargin": true,
           "gridcolor": "#283442",
           "linecolor": "#506784",
           "ticks": "",
           "title": {
            "standoff": 15
           },
           "zerolinecolor": "#283442",
           "zerolinewidth": 2
          }
         }
        },
        "title": {
         "text": "<b> Average Movies Duration (in Minutes) w.r.t. Genre"
        },
        "xaxis": {
         "anchor": "y",
         "autorange": true,
         "categoryarray": [
          "Game-Show",
          "Short",
          "Talk-Show",
          "Animation",
          "Family",
          "Reality-TV",
          "News",
          "Sport",
          "Comedy",
          "Music",
          "Fantasy",
          "Musical",
          "Sci-Fi",
          "Adventure",
          "History",
          "Romance",
          "Horror",
          "Mystery",
          "Action",
          "Biography",
          "Drama",
          "Crime",
          "Thriller",
          "Documentary",
          "Western",
          "Adult",
          "War",
          "Film-Noir"
         ],
         "categoryorder": "array",
         "domain": [
          0,
          1
         ],
         "range": [
          -0.5,
          27.5
         ],
         "title": {
          "text": "Genre"
         },
         "type": "category"
        },
        "yaxis": {
         "anchor": "x",
         "autorange": true,
         "domain": [
          0,
          1
         ],
         "range": [
          0,
          87.49675745784695
         ],
         "title": {
          "text": "average_duration"
         },
         "type": "linear"
        }
       }
      },
      "image/png": "[encoded data removed]",
      "text/html": [
       "<div>                            <div id=\"1fc824ef-667c-4302-86c2-b6e1ff59851c\" class=\"plotly-graph-div\" style=\"height:525px; width:100%;\"></div>            <script type=\"text/javascript\">                require([\"plotly\"], function(Plotly) {                    window.PLOTLYENV=window.PLOTLYENV || {};                                    if (document.getElementById(\"1fc824ef-667c-4302-86c2-b6e1ff59851c\")) {                    Plotly.newPlot(                        \"1fc824ef-667c-4302-86c2-b6e1ff59851c\",                        [{\"alignmentgroup\":\"True\",\"hovertemplate\":\"Genre=%{x}\\u003cbr\\u003eaverage_duration=%{y}\\u003cextra\\u003e\\u003c\\u002fextra\\u003e\",\"legendgroup\":\"Game-Show\",\"marker\":{\"color\":\"#0d0887\",\"pattern\":{\"shape\":\"\"}},\"name\":\"Game-Show\",\"offsetgroup\":\"Game-Show\",\"orientation\":\"v\",\"showlegend\":true,\"textposition\":\"auto\",\"x\":[\"Game-Show\"],\"xaxis\":\"x\",\"y\":[6.507231481253539],\"yaxis\":\"y\",\"type\":\"bar\"},{\"alignmentgroup\":\"True\",\"hovertemplate\":\"Genre=%{x}\\u003cbr\\u003eaverage_duration=%{y}\\u003cextra\\u003e\\u003c\\u002fextra\\u003e\",\"legendgroup\":\"Short\",\"marker\":{\"color\":\"#46039f\",\"pattern\":{\"shape\":\"\"}},\"name\":\"Short\",\"offsetgroup\":\"Short\",\"orientation\":\"v\",\"showlegend\":true,\"textposition\":\"auto\",\"x\":[\"Short\"],\"xaxis\":\"x\",\"y\":[7.912223543461009],\"yaxis\":\"y\",\"type\":\"bar\"},{\"alignmentgroup\":\"True\",\"hovertemplate\":\"Genre=%{x}\\u003cbr\\u003eaverage_duration=%{y}\\u003cextra\\u003e\\u003c\\u002fextra\\u003e\",\"legendgroup\":\"Talk-Show\",\"marker\":{\"color\":\"#7201a8\",\"pattern\":{\"shape\":\"\"}},\"name\":\"Talk-Show\",\"offsetgroup\":\"Talk-Show\",\"orientation\":\"v\",\"showlegend\":true,\"textposition\":\"auto\",\"x\":[\"Talk-Show\"],\"xaxis\":\"x\",\"y\":[8.266208061790973],\"yaxis\":\"y\",\"type\":\"bar\"},{\"alignmentgroup\":\"True\",\"hovertemplate\":\"Genre=%{x}\\u003cbr\\u003eaverage_duration=%{y}\\u003cextra\\u003e\\u003c\\u002fextra\\u003e\",\"legendgroup\":\"Animation\",\"marker\":{\"color\":\"#9c179e\",\"pattern\":{\"shape\":\"\"}},\"name\":\"Animation\",\"offsetgroup\":\"Animation\",\"orientation\":\"v\",\"showlegend\":true,\"textposition\":\"auto\",\"x\":[\"Animation\"],\"xaxis\":\"x\",\"y\":[8.876694146849639],\"yaxis\":\"y\",\"type\":\"bar\"},{\"alignmentgroup\":\"True\",\"hovertemplate\":\"Genre=%{x}\\u003cbr\\u003eaverage_duration=%{y}\\u003cextra\\u003e\\u003c\\u002fextra\\u003e\",\"legendgroup\":\"Family\",\"marker\":{\"color\":\"#bd3786\",\"pattern\":{\"shape\":\"\"}},\"name\":\"Family\",\"offsetgroup\":\"Family\",\"orientation\":\"v\",\"showlegend\":true,\"textposition\":\"auto\",\"x\":[\"Family\"],\"xaxis\":\"x\",\"y\":[9.60868474927442],\"yaxis\":\"y\",\"type\":\"bar\"},{\"alignmentgroup\":\"True\",\"hovertemplate\":\"Genre=%{x}\\u003cbr\\u003eaverage_duration=%{y}\\u003cextra\\u003e\\u003c\\u002fextra\\u003e\",\"legendgroup\":\"Reality-TV\",\"marker\":{\"color\":\"#d8576b\",\"pattern\":{\"shape\":\"\"}},\"name\":\"Reality-TV\",\"offsetgroup\":\"Reality-TV\",\"orientation\":\"v\",\"showlegend\":true,\"textposition\":\"auto\",\"x\":[\"Reality-TV\"],\"xaxis\":\"x\",\"y\":[10.166399312879715],\"yaxis\":\"y\",\"type\":\"bar\"},{\"alignmentgroup\":\"True\",\"hovertemplate\":\"Genre=%{x}\\u003cbr\\u003eaverage_duration=%{y}\\u003cextra\\u003e\\u003c\\u002fextra\\u003e\",\"legendgroup\":\"News\",\"marker\":{\"color\":\"#ed7953\",\"pattern\":{\"shape\":\"\"}},\"name\":\"News\",\"offsetgroup\":\"News\",\"orientation\":\"v\",\"showlegend\":true,\"textposition\":\"auto\",\"x\":[\"News\"],\"xaxis\":\"x\",\"y\":[10.767223620965897],\"yaxis\":\"y\",\"type\":\"bar\"},{\"alignmentgroup\":\"True\",\"hovertemplate\":\"Genre=%{x}\\u003cbr\\u003eaverage_duration=%{y}\\u003cextra\\u003e\\u003c\\u002fextra\\u003e\",\"legendgroup\":\"Sport\",\"marker\":{\"color\":\"#fb9f3a\",\"pattern\":{\"shape\":\"\"}},\"name\":\"Sport\",\"offsetgroup\":\"Sport\",\"orientation\":\"v\",\"showlegend\":true,\"textposition\":\"auto\",\"x\":[\"Sport\"],\"xaxis\":\"x\",\"y\":[11.648260540392945],\"yaxis\":\"y\",\"type\":\"bar\"},{\"alignmentgroup\":\"True\",\"hovertemplate\":\"Genre=%{x}\\u003cbr\\u003eaverage_duration=%{y}\\u003cextra\\u003e\\u003c\\u002fextra\\u003e\",\"legendgroup\":\"Comedy\",\"marker\":{\"color\":\"#fdca26\",\"pattern\":{\"shape\":\"\"}},\"name\":\"Comedy\",\"offsetgroup\":\"Comedy\",\"orientation\":\"v\",\"showlegend\":true,\"textposition\":\"auto\",\"x\":[\"Comedy\"],\"xaxis\":\"x\",\"y\":[14.38125750724228],\"yaxis\":\"y\",\"type\":\"bar\"},{\"alignmentgroup\":\"True\",\"hovertemplate\":\"Genre=%{x}\\u003cbr\\u003eaverage_duration=%{y}\\u003cextra\\u003e\\u003c\\u002fextra\\u003e\",\"legendgroup\":\"Music\",\"marker\":{\"color\":\"#f0f921\",\"pattern\":{\"shape\":\"\"}},\"name\":\"Music\",\"offsetgroup\":\"Music\",\"orientation\":\"v\",\"showlegend\":true,\"textposition\":\"auto\",\"x\":[\"Music\"],\"xaxis\":\"x\",\"y\":[14.859236455871832],\"yaxis\":\"y\",\"type\":\"bar\"},{\"alignmentgroup\":\"True\",\"hovertemplate\":\"Genre=%{x}\\u003cbr\\u003eaverage_duration=%{y}\\u003cextra\\u003e\\u003c\\u002fextra\\u003e\",\"legendgroup\":\"Fantasy\",\"marker\":{\"color\":\"#0d0887\",\"pattern\":{\"shape\":\"\"}},\"name\":\"Fantasy\",\"offsetgroup\":\"Fantasy\",\"orientation\":\"v\",\"showlegend\":true,\"textposition\":\"auto\",\"x\":[\"Fantasy\"],\"xaxis\":\"x\",\"y\":[16.494187662254035],\"yaxis\":\"y\",\"type\":\"bar\"},{\"alignmentgroup\":\"True\",\"hovertemplate\":\"Genre=%{x}\\u003cbr\\u003eaverage_duration=%{y}\\u003cextra\\u003e\\u003c\\u002fextra\\u003e\",\"legendgroup\":\"Musical\",\"marker\":{\"color\":\"#46039f\",\"pattern\":{\"shape\":\"\"}},\"name\":\"Musical\",\"offsetgroup\":\"Musical\",\"orientation\":\"v\",\"showlegend\":true,\"textposition\":\"auto\",\"x\":[\"Musical\"],\"xaxis\":\"x\",\"y\":[16.527856991350664],\"yaxis\":\"y\",\"type\":\"bar\"},{\"alignmentgroup\":\"True\",\"hovertemplate\":\"Genre=%{x}\\u003cbr\\u003eaverage_duration=%{y}\\u003cextra\\u003e\\u003c\\u002fextra\\u003e\",\"legendgroup\":\"Sci-Fi\",\"marker\":{\"color\":\"#7201a8\",\"pattern\":{\"shape\":\"\"}},\"name\":\"Sci-Fi\",\"offsetgroup\":\"Sci-Fi\",\"orientation\":\"v\",\"showlegend\":true,\"textposition\":\"auto\",\"x\":[\"Sci-Fi\"],\"xaxis\":\"x\",\"y\":[16.986774013874122],\"yaxis\":\"y\",\"type\":\"bar\"},{\"alignmentgroup\":\"True\",\"hovertemplate\":\"Genre=%{x}\\u003cbr\\u003eaverage_duration=%{y}\\u003cextra\\u003e\\u003c\\u002fextra\\u003e\",\"legendgroup\":\"Adventure\",\"marker\":{\"color\":\"#9c179e\",\"pattern\":{\"shape\":\"\"}},\"name\":\"Adventure\",\"offsetgroup\":\"Adventure\",\"orientation\":\"v\",\"showlegend\":true,\"textposition\":\"auto\",\"x\":[\"Adventure\"],\"xaxis\":\"x\",\"y\":[17.11930156249102],\"yaxis\":\"y\",\"type\":\"bar\"},{\"alignmentgroup\":\"True\",\"hovertemplate\":\"Genre=%{x}\\u003cbr\\u003eaverage_duration=%{y}\\u003cextra\\u003e\\u003c\\u002fextra\\u003e\",\"legendgroup\":\"History\",\"marker\":{\"color\":\"#bd3786\",\"pattern\":{\"shape\":\"\"}},\"name\":\"History\",\"offsetgroup\":\"History\",\"orientation\":\"v\",\"showlegend\":true,\"textposition\":\"auto\",\"x\":[\"History\"],\"xaxis\":\"x\",\"y\":[19.53377891268756],\"yaxis\":\"y\",\"type\":\"bar\"},{\"alignmentgroup\":\"True\",\"hovertemplate\":\"Genre=%{x}\\u003cbr\\u003eaverage_duration=%{y}\\u003cextra\\u003e\\u003c\\u002fextra\\u003e\",\"legendgroup\":\"Romance\",\"marker\":{\"color\":\"#d8576b\",\"pattern\":{\"shape\":\"\"}},\"name\":\"Romance\",\"offsetgroup\":\"Romance\",\"orientation\":\"v\",\"showlegend\":true,\"textposition\":\"auto\",\"x\":[\"Romance\"],\"xaxis\":\"x\",\"y\":[19.94635248934851],\"yaxis\":\"y\",\"type\":\"bar\"},{\"alignmentgroup\":\"True\",\"hovertemplate\":\"Genre=%{x}\\u003cbr\\u003eaverage_duration=%{y}\\u003cextra\\u003e\\u003c\\u002fextra\\u003e\",\"legendgroup\":\"Horror\",\"marker\":{\"color\":\"#ed7953\",\"pattern\":{\"shape\":\"\"}},\"name\":\"Horror\",\"offsetgroup\":\"Horror\",\"orientation\":\"v\",\"showlegend\":true,\"textposition\":\"auto\",\"x\":[\"Horror\"],\"xaxis\":\"x\",\"y\":[20.338607305518465],\"yaxis\":\"y\",\"type\":\"bar\"},{\"alignmentgroup\":\"True\",\"hovertemplate\":\"Genre=%{x}\\u003cbr\\u003eaverage_duration=%{y}\\u003cextra\\u003e\\u003c\\u002fextra\\u003e\",\"legendgroup\":\"Mystery\",\"marker\":{\"color\":\"#fb9f3a\",\"pattern\":{\"shape\":\"\"}},\"name\":\"Mystery\",\"offsetgroup\":\"Mystery\",\"orientation\":\"v\",\"showlegend\":true,\"textposition\":\"auto\",\"x\":[\"Mystery\"],\"xaxis\":\"x\",\"y\":[21.962640542992663],\"yaxis\":\"y\",\"type\":\"bar\"},{\"alignmentgroup\":\"True\",\"hovertemplate\":\"Genre=%{x}\\u003cbr\\u003eaverage_duration=%{y}\\u003cextra\\u003e\\u003c\\u002fextra\\u003e\",\"legendgroup\":\"Action\",\"marker\":{\"color\":\"#fdca26\",\"pattern\":{\"shape\":\"\"}},\"name\":\"Action\",\"offsetgroup\":\"Action\",\"orientation\":\"v\",\"showlegend\":true,\"textposition\":\"auto\",\"x\":[\"Action\"],\"xaxis\":\"x\",\"y\":[23.44070966793066],\"yaxis\":\"y\",\"type\":\"bar\"},{\"alignmentgroup\":\"True\",\"hovertemplate\":\"Genre=%{x}\\u003cbr\\u003eaverage_duration=%{y}\\u003cextra\\u003e\\u003c\\u002fextra\\u003e\",\"legendgroup\":\"Biography\",\"marker\":{\"color\":\"#f0f921\",\"pattern\":{\"shape\":\"\"}},\"name\":\"Biography\",\"offsetgroup\":\"Biography\",\"orientation\":\"v\",\"showlegend\":true,\"textposition\":\"auto\",\"x\":[\"Biography\"],\"xaxis\":\"x\",\"y\":[23.958364065890603],\"yaxis\":\"y\",\"type\":\"bar\"},{\"alignmentgroup\":\"True\",\"hovertemplate\":\"Genre=%{x}\\u003cbr\\u003eaverage_duration=%{y}\\u003cextra\\u003e\\u003c\\u002fextra\\u003e\",\"legendgroup\":\"Drama\",\"marker\":{\"color\":\"#0d0887\",\"pattern\":{\"shape\":\"\"}},\"name\":\"Drama\",\"offsetgroup\":\"Drama\",\"orientation\":\"v\",\"showlegend\":true,\"textposition\":\"auto\",\"x\":[\"Drama\"],\"xaxis\":\"x\",\"y\":[25.352583951556838],\"yaxis\":\"y\",\"type\":\"bar\"},{\"alignmentgroup\":\"True\",\"hovertemplate\":\"Genre=%{x}\\u003cbr\\u003eaverage_duration=%{y}\\u003cextra\\u003e\\u003c\\u002fextra\\u003e\",\"legendgroup\":\"Crime\",\"marker\":{\"color\":\"#46039f\",\"pattern\":{\"shape\":\"\"}},\"name\":\"Crime\",\"offsetgroup\":\"Crime\",\"orientation\":\"v\",\"showlegend\":true,\"textposition\":\"auto\",\"x\":[\"Crime\"],\"xaxis\":\"x\",\"y\":[26.332469937975745],\"yaxis\":\"y\",\"type\":\"bar\"},{\"alignmentgroup\":\"True\",\"hovertemplate\":\"Genre=%{x}\\u003cbr\\u003eaverage_duration=%{y}\\u003cextra\\u003e\\u003c\\u002fextra\\u003e\",\"legendgroup\":\"Thriller\",\"marker\":{\"color\":\"#7201a8\",\"pattern\":{\"shape\":\"\"}},\"name\":\"Thriller\",\"offsetgroup\":\"Thriller\",\"orientation\":\"v\",\"showlegend\":true,\"textposition\":\"auto\",\"x\":[\"Thriller\"],\"xaxis\":\"x\",\"y\":[26.697947465681096],\"yaxis\":\"y\",\"type\":\"bar\"},{\"alignmentgroup\":\"True\",\"hovertemplate\":\"Genre=%{x}\\u003cbr\\u003eaverage_duration=%{y}\\u003cextra\\u003e\\u003c\\u002fextra\\u003e\",\"legendgroup\":\"Documentary\",\"marker\":{\"color\":\"#9c179e\",\"pattern\":{\"shape\":\"\"}},\"name\":\"Documentary\",\"offsetgroup\":\"Documentary\",\"orientation\":\"v\",\"showlegend\":true,\"textposition\":\"auto\",\"x\":[\"Documentary\"],\"xaxis\":\"x\",\"y\":[26.737674867342015],\"yaxis\":\"y\",\"type\":\"bar\"},{\"alignmentgroup\":\"True\",\"hovertemplate\":\"Genre=%{x}\\u003cbr\\u003eaverage_duration=%{y}\\u003cextra\\u003e\\u003c\\u002fextra\\u003e\",\"legendgroup\":\"Western\",\"marker\":{\"color\":\"#bd3786\",\"pattern\":{\"shape\":\"\"}},\"name\":\"Western\",\"offsetgroup\":\"Western\",\"orientation\":\"v\",\"showlegend\":true,\"textposition\":\"auto\",\"x\":[\"Western\"],\"xaxis\":\"x\",\"y\":[34.44663382594417],\"yaxis\":\"y\",\"type\":\"bar\"},{\"alignmentgroup\":\"True\",\"hovertemplate\":\"Genre=%{x}\\u003cbr\\u003eaverage_duration=%{y}\\u003cextra\\u003e\\u003c\\u002fextra\\u003e\",\"legendgroup\":\"Adult\",\"marker\":{\"color\":\"#d8576b\",\"pattern\":{\"shape\":\"\"}},\"name\":\"Adult\",\"offsetgroup\":\"Adult\",\"orientation\":\"v\",\"showlegend\":true,\"textposition\":\"auto\",\"x\":[\"Adult\"],\"xaxis\":\"x\",\"y\":[35.42],\"yaxis\":\"y\",\"type\":\"bar\"},{\"alignmentgroup\":\"True\",\"hovertemplate\":\"Genre=%{x}\\u003cbr\\u003eaverage_duration=%{y}\\u003cextra\\u003e\\u003c\\u002fextra\\u003e\",\"legendgroup\":\"War\",\"marker\":{\"color\":\"#ed7953\",\"pattern\":{\"shape\":\"\"}},\"name\":\"War\",\"offsetgroup\":\"War\",\"orientation\":\"v\",\"showlegend\":true,\"textposition\":\"auto\",\"x\":[\"War\"],\"xaxis\":\"x\",\"y\":[35.9577938247012],\"yaxis\":\"y\",\"type\":\"bar\"},{\"alignmentgroup\":\"True\",\"hovertemplate\":\"Genre=%{x}\\u003cbr\\u003eaverage_duration=%{y}\\u003cextra\\u003e\\u003c\\u002fextra\\u003e\",\"legendgroup\":\"Film-Noir\",\"marker\":{\"color\":\"#fb9f3a\",\"pattern\":{\"shape\":\"\"}},\"name\":\"Film-Noir\",\"offsetgroup\":\"Film-Noir\",\"orientation\":\"v\",\"showlegend\":true,\"textposition\":\"auto\",\"x\":[\"Film-Noir\"],\"xaxis\":\"x\",\"y\":[83.12191958495461],\"yaxis\":\"y\",\"type\":\"bar\"}],                        {\"template\":{\"data\":{\"barpolar\":[{\"marker\":{\"line\":{\"color\":\"rgb(17,17,17)\",\"width\":0.5},\"pattern\":{\"fillmode\":\"overlay\",\"size\":10,\"solidity\":0.2}},\"type\":\"barpolar\"}],\"bar\":[{\"error_x\":{\"color\":\"#f2f5fa\"},\"error_y\":{\"color\":\"#f2f5fa\"},\"marker\":{\"line\":{\"color\":\"rgb(17,17,17)\",\"width\":0.5},\"pattern\":{\"fillmode\":\"overlay\",\"size\":10,\"solidity\":0.2}},\"type\":\"bar\"}],\"carpet\":[{\"aaxis\":{\"endlinecolor\":\"#A2B1C6\",\"gridcolor\":\"#506784\",\"linecolor\":\"#506784\",\"minorgridcolor\":\"#506784\",\"startlinecolor\":\"#A2B1C6\"},\"baxis\":{\"endlinecolor\":\"#A2B1C6\",\"gridcolor\":\"#506784\",\"linecolor\":\"#506784\",\"minorgridcolor\":\"#506784\",\"startlinecolor\":\"#A2B1C6\"},\"type\":\"carpet\"}],\"choropleth\":[{\"colorbar\":{\"outlinewidth\":0,\"ticks\":\"\"},\"type\":\"choropleth\"}],\"contourcarpet\":[{\"colorbar\":{\"outlinewidth\":0,\"ticks\":\"\"},\"type\":\"contourcarpet\"}],\"contour\":[{\"colorbar\":{\"outlinewidth\":0,\"ticks\":\"\"},\"colorscale\":[[0.0,\"#0d0887\"],[0.1111111111111111,\"#46039f\"],[0.2222222222222222,\"#7201a8\"],[0.3333333333333333,\"#9c179e\"],[0.4444444444444444,\"#bd3786\"],[0.5555555555555556,\"#d8576b\"],[0.6666666666666666,\"#ed7953\"],[0.7777777777777778,\"#fb9f3a\"],[0.8888888888888888,\"#fdca26\"],[1.0,\"#f0f921\"]],\"type\":\"contour\"}],\"heatmapgl\":[{\"colorbar\":{\"outlinewidth\":0,\"ticks\":\"\"},\"colorscale\":[[0.0,\"#0d0887\"],[0.1111111111111111,\"#46039f\"],[0.2222222222222222,\"#7201a8\"],[0.3333333333333333,\"#9c179e\"],[0.4444444444444444,\"#bd3786\"],[0.5555555555555556,\"#d8576b\"],[0.6666666666666666,\"#ed7953\"],[0.7777777777777778,\"#fb9f3a\"],[0.8888888888888888,\"#fdca26\"],[1.0,\"#f0f921\"]],\"type\":\"heatmapgl\"}],\"heatmap\":[{\"colorbar\":{\"outlinewidth\":0,\"ticks\":\"\"},\"colorscale\":[[0.0,\"#0d0887\"],[0.1111111111111111,\"#46039f\"],[0.2222222222222222,\"#7201a8\"],[0.3333333333333333,\"#9c179e\"],[0.4444444444444444,\"#bd3786\"],[0.5555555555555556,\"#d8576b\"],[0.6666666666666666,\"#ed7953\"],[0.7777777777777778,\"#fb9f3a\"],[0.8888888888888888,\"#fdca26\"],[1.0,\"#f0f921\"]],\"type\":\"heatmap\"}],\"histogram2dcontour\":[{\"colorbar\":{\"outlinewidth\":0,\"ticks\":\"\"},\"colorscale\":[[0.0,\"#0d0887\"],[0.1111111111111111,\"#46039f\"],[0.2222222222222222,\"#7201a8\"],[0.3333333333333333,\"#9c179e\"],[0.4444444444444444,\"#bd3786\"],[0.5555555555555556,\"#d8576b\"],[0.6666666666666666,\"#ed7953\"],[0.7777777777777778,\"#fb9f3a\"],[0.8888888888888888,\"#fdca26\"],[1.0,\"#f0f921\"]],\"type\":\"histogram2dcontour\"}],\"histogram2d\":[{\"colorbar\":{\"outlinewidth\":0,\"ticks\":\"\"},\"colorscale\":[[0.0,\"#0d0887\"],[0.1111111111111111,\"#46039f\"],[0.2222222222222222,\"#7201a8\"],[0.3333333333333333,\"#9c179e\"],[0.4444444444444444,\"#bd3786\"],[0.5555555555555556,\"#d8576b\"],[0.6666666666666666,\"#ed7953\"],[0.7777777777777778,\"#fb9f3a\"],[0.8888888888888888,\"#fdca26\"],[1.0,\"#f0f921\"]],\"type\":\"histogram2d\"}],\"histogram\":[{\"marker\":{\"pattern\":{\"fillmode\":\"overlay\",\"size\":10,\"solidity\":0.2}},\"type\":\"histogram\"}],\"mesh3d\":[{\"colorbar\":{\"outlinewidth\":0,\"ticks\":\"\"},\"type\":\"mesh3d\"}],\"parcoords\":[{\"line\":{\"colorbar\":{\"outlinewidth\":0,\"ticks\":\"\"}},\"type\":\"parcoords\"}],\"pie\":[{\"automargin\":true,\"type\":\"pie\"}],\"scatter3d\":[{\"line\":{\"colorbar\":{\"outlinewidth\":0,\"ticks\":\"\"}},\"marker\":{\"colorbar\":{\"outlinewidth\":0,\"ticks\":\"\"}},\"type\":\"scatter3d\"}],\"scattercarpet\":[{\"marker\":{\"colorbar\":{\"outlinewidth\":0,\"ticks\":\"\"}},\"type\":\"scattercarpet\"}],\"scattergeo\":[{\"marker\":{\"colorbar\":{\"outlinewidth\":0,\"ticks\":\"\"}},\"type\":\"scattergeo\"}],\"scattergl\":[{\"marker\":{\"line\":{\"color\":\"#283442\"}},\"type\":\"scattergl\"}],\"scattermapbox\":[{\"marker\":{\"colorbar\":{\"outlinewidth\":0,\"ticks\":\"\"}},\"type\":\"scattermapbox\"}],\"scatterpolargl\":[{\"marker\":{\"colorbar\":{\"outlinewidth\":0,\"ticks\":\"\"}},\"type\":\"scatterpolargl\"}],\"scatterpolar\":[{\"marker\":{\"colorbar\":{\"outlinewidth\":0,\"ticks\":\"\"}},\"type\":\"scatterpolar\"}],\"scatter\":[{\"marker\":{\"line\":{\"color\":\"#283442\"}},\"type\":\"scatter\"}],\"scatterternary\":[{\"marker\":{\"colorbar\":{\"outlinewidth\":0,\"ticks\":\"\"}},\"type\":\"scatterternary\"}],\"surface\":[{\"colorbar\":{\"outlinewidth\":0,\"ticks\":\"\"},\"colorscale\":[[0.0,\"#0d0887\"],[0.1111111111111111,\"#46039f\"],[0.2222222222222222,\"#7201a8\"],[0.3333333333333333,\"#9c179e\"],[0.4444444444444444,\"#bd3786\"],[0.5555555555555556,\"#d8576b\"],[0.6666666666666666,\"#ed7953\"],[0.7777777777777778,\"#fb9f3a\"],[0.8888888888888888,\"#fdca26\"],[1.0,\"#f0f921\"]],\"type\":\"surface\"}],\"table\":[{\"cells\":{\"fill\":{\"color\":\"#506784\"},\"line\":{\"color\":\"rgb(17,17,17)\"}},\"header\":{\"fill\":{\"color\":\"#2a3f5f\"},\"line\":{\"color\":\"rgb(17,17,17)\"}},\"type\":\"table\"}]},\"layout\":{\"annotationdefaults\":{\"arrowcolor\":\"#f2f5fa\",\"arrowhead\":0,\"arrowwidth\":1},\"autotypenumbers\":\"strict\",\"coloraxis\":{\"colorbar\":{\"outlinewidth\":0,\"ticks\":\"\"}},\"colorscale\":{\"diverging\":[[0,\"#8e0152\"],[0.1,\"#c51b7d\"],[0.2,\"#de77ae\"],[0.3,\"#f1b6da\"],[0.4,\"#fde0ef\"],[0.5,\"#f7f7f7\"],[0.6,\"#e6f5d0\"],[0.7,\"#b8e186\"],[0.8,\"#7fbc41\"],[0.9,\"#4d9221\"],[1,\"#276419\"]],\"sequential\":[[0.0,\"#0d0887\"],[0.1111111111111111,\"#46039f\"],[0.2222222222222222,\"#7201a8\"],[0.3333333333333333,\"#9c179e\"],[0.4444444444444444,\"#bd3786\"],[0.5555555555555556,\"#d8576b\"],[0.6666666666666666,\"#ed7953\"],[0.7777777777777778,\"#fb9f3a\"],[0.8888888888888888,\"#fdca26\"],[1.0,\"#f0f921\"]],\"sequentialminus\":[[0.0,\"#0d0887\"],[0.1111111111111111,\"#46039f\"],[0.2222222222222222,\"#7201a8\"],[0.3333333333333333,\"#9c179e\"],[0.4444444444444444,\"#bd3786\"],[0.5555555555555556,\"#d8576b\"],[0.6666666666666666,\"#ed7953\"],[0.7777777777777778,\"#fb9f3a\"],[0.8888888888888888,\"#fdca26\"],[1.0,\"#f0f921\"]]},\"colorway\":[\"#636efa\",\"#EF553B\",\"#00cc96\",\"#ab63fa\",\"#FFA15A\",\"#19d3f3\",\"#FF6692\",\"#B6E880\",\"#FF97FF\",\"#FECB52\"],\"font\":{\"color\":\"#f2f5fa\"},\"geo\":{\"bgcolor\":\"rgb(17,17,17)\",\"lakecolor\":\"rgb(17,17,17)\",\"landcolor\":\"rgb(17,17,17)\",\"showlakes\":true,\"showland\":true,\"subunitcolor\":\"#506784\"},\"hoverlabel\":{\"align\":\"left\"},\"hovermode\":\"closest\",\"mapbox\":{\"style\":\"dark\"},\"paper_bgcolor\":\"rgb(17,17,17)\",\"plot_bgcolor\":\"rgb(17,17,17)\",\"polar\":{\"angularaxis\":{\"gridcolor\":\"#506784\",\"linecolor\":\"#506784\",\"ticks\":\"\"},\"bgcolor\":\"rgb(17,17,17)\",\"radialaxis\":{\"gridcolor\":\"#506784\",\"linecolor\":\"#506784\",\"ticks\":\"\"}},\"scene\":{\"xaxis\":{\"backgroundcolor\":\"rgb(17,17,17)\",\"gridcolor\":\"#506784\",\"gridwidth\":2,\"linecolor\":\"#506784\",\"showbackground\":true,\"ticks\":\"\",\"zerolinecolor\":\"#C8D4E3\"},\"yaxis\":{\"backgroundcolor\":\"rgb(17,17,17)\",\"gridcolor\":\"#506784\",\"gridwidth\":2,\"linecolor\":\"#506784\",\"showbackground\":true,\"ticks\":\"\",\"zerolinecolor\":\"#C8D4E3\"},\"zaxis\":{\"backgroundcolor\":\"rgb(17,17,17)\",\"gridcolor\":\"#506784\",\"gridwidth\":2,\"linecolor\":\"#506784\",\"showbackground\":true,\"ticks\":\"\",\"zerolinecolor\":\"#C8D4E3\"}},\"shapedefaults\":{\"line\":{\"color\":\"#f2f5fa\"}},\"sliderdefaults\":{\"bgcolor\":\"#C8D4E3\",\"bordercolor\":\"rgb(17,17,17)\",\"borderwidth\":1,\"tickwidth\":0},\"ternary\":{\"aaxis\":{\"gridcolor\":\"#506784\",\"linecolor\":\"#506784\",\"ticks\":\"\"},\"baxis\":{\"gridcolor\":\"#506784\",\"linecolor\":\"#506784\",\"ticks\":\"\"},\"bgcolor\":\"rgb(17,17,17)\",\"caxis\":{\"gridcolor\":\"#506784\",\"linecolor\":\"#506784\",\"ticks\":\"\"}},\"title\":{\"x\":0.05},\"updatemenudefaults\":{\"bgcolor\":\"#506784\",\"borderwidth\":0},\"xaxis\":{\"automargin\":true,\"gridcolor\":\"#283442\",\"linecolor\":\"#506784\",\"ticks\":\"\",\"title\":{\"standoff\":15},\"zerolinecolor\":\"#283442\",\"zerolinewidth\":2},\"yaxis\":{\"automargin\":true,\"gridcolor\":\"#283442\",\"linecolor\":\"#506784\",\"ticks\":\"\",\"title\":{\"standoff\":15},\"zerolinecolor\":\"#283442\",\"zerolinewidth\":2}}},\"xaxis\":{\"anchor\":\"y\",\"domain\":[0.0,1.0],\"title\":{\"text\":\"Genre\"},\"categoryorder\":\"array\",\"categoryarray\":[\"Game-Show\",\"Short\",\"Talk-Show\",\"Animation\",\"Family\",\"Reality-TV\",\"News\",\"Sport\",\"Comedy\",\"Music\",\"Fantasy\",\"Musical\",\"Sci-Fi\",\"Adventure\",\"History\",\"Romance\",\"Horror\",\"Mystery\",\"Action\",\"Biography\",\"Drama\",\"Crime\",\"Thriller\",\"Documentary\",\"Western\",\"Adult\",\"War\",\"Film-Noir\"]},\"yaxis\":{\"anchor\":\"x\",\"domain\":[0.0,1.0],\"title\":{\"text\":\"average_duration\"}},\"legend\":{\"title\":{\"text\":\"Genre\"},\"tracegroupgap\":0},\"title\":{\"text\":\"\\u003cb\\u003e Average Movies Duration (in Minutes) w.r.t. Genre\"},\"barmode\":\"relative\",\"plot_bgcolor\":\"#FFB200\",\"paper_bgcolor\":\"#FFB200\"},                        {\"responsive\": true}                    ).then(function(){\n",
       "                            \n",
       "var gd = document.getElementById('1fc824ef-667c-4302-86c2-b6e1ff59851c');\n",
       "var x = new MutationObserver(function (mutations, observer) {{\n",
       "        var display = window.getComputedStyle(gd).display;\n",
       "        if (!display || display === 'none') {{\n",
       "            console.log([gd, 'removed!']);\n",
       "            Plotly.purge(gd);\n",
       "            observer.disconnect();\n",
       "        }}\n",
       "}});\n",
       "\n",
       "// Listen for the removal of the full notebook cells\n",
       "var notebookContainer = gd.closest('#notebook-container');\n",
       "if (notebookContainer) {{\n",
       "    x.observe(notebookContainer, {childList: true});\n",
       "}}\n",
       "\n",
       "// Listen for the clearing of the current output cell\n",
       "var outputEl = gd.closest('.output');\n",
       "if (outputEl) {{\n",
       "    x.observe(outputEl, {childList: true});\n",
       "}}\n",
       "\n",
       "                        })                };                });            </script>        </div>"
      ]
     },
     "metadata": {},
     "output_type": "display_data"
    }
   ],
   "source": [
    "# Creating an interactive bar chart using Plotly Express to visualize the average movies duration w.r.t. Genre\n",
    "fig = px.bar(df_avgDur,\n",
    "            x='genre',\n",
    "            y='average_duration',\n",
    "            labels={'genre': 'Genre'},\n",
    "            color='genre',\n",
    "            color_discrete_sequence=px.colors.sequential.Plasma,\n",
    "            template='plotly_dark',\n",
    "            title='<b> Average Movies Duration (in Minutes) w.r.t. Genre')\n",
    "\n",
    "# Updating the background color of the chart\n",
    "fig.update_layout(\n",
    "    plot_bgcolor='#FFB200',\n",
    "    paper_bgcolor='#FFB200',\n",
    ")\n",
    "\n",
    "# Displaying the interactive chart\n",
    "fig.show()\n"
   ]
  },
  {
   "cell_type": "markdown",
   "metadata": {},
   "source": [
    "# 12. Which Genre is the best to make a movie to get maximum gross income?"
   ]
  },
  {
   "cell_type": "markdown",
   "metadata": {},
   "source": [
    "A. For Genre pair"
   ]
  },
  {
   "cell_type": "code",
   "execution_count": null,
   "metadata": {},
   "outputs": [],
   "source": [
    "df.groupby('genre').agg({'gross_income':'mean'}).sort_values(by='gross_income',ascending=False)[0:3]"
   ]
  },
  {
   "cell_type": "markdown",
   "metadata": {},
   "source": [
    "B. For unique genre"
   ]
  },
  {
   "cell_type": "code",
   "execution_count": null,
   "metadata": {},
   "outputs": [],
   "source": [
    "income ={}\n",
    "\n",
    "for gen in unique_genre:\n",
    "    income[gen]=[]\n",
    "\n",
    "for i in range(len(df)):\n",
    "    ic = df['genre'].iloc[i].replace(',',' ').split()\n",
    "    for gen in ic:\n",
    "        income[gen].append(df['gross_income'].iloc[i])\n",
    "\n",
    "for k in income.keys():\n",
    "    income[k]=sum(income[k])/len(income[k])\n",
    "\n",
    "df_ic = pd.DataFrame(list(income.items()),columns=['genre','average_income'])\n",
    "df_ic = df_ic.sort_values(by='average_income',ascending=False)\n",
    "df_ic"
   ]
  },
  {
   "cell_type": "code",
   "execution_count": null,
   "metadata": {},
   "outputs": [],
   "source": [
    "plt.figure(figsize=(12,8))\n",
    "df_ic.plot(x='genre',y='average_income',kind='bar',color='b')\n",
    "plt.title('Average income genre wise')\n",
    "plt.xlabel('Genre')\n",
    "plt.ylabel('Average income')"
   ]
  },
  {
   "cell_type": "code",
   "execution_count": null,
   "metadata": {},
   "outputs": [],
   "source": [
    "plt.figure(figsize=(15,5))\n",
    "sns.barplot(x=df_ic['genre'],y=df_ic['average_income'])\n",
    "\n",
    "# Set horizontal grid lines\n",
    "plt.grid(True, axis = 'y',                                                 \n",
    "         color = 'gray', \n",
    "         linestyle = '--',  \n",
    "         linewidth=0.2\n",
    "        ) \n",
    "# Remove vertical grid lines\n",
    "plt.grid(False, axis = 'x') \n",
    "\n",
    "plt.title('Average income genre wise')\n",
    "plt.xlabel('Genre')\n",
    "plt.ylabel('Average income')\n",
    "plt.xticks(rotation=90)"
   ]
  },
  {
   "cell_type": "code",
   "execution_count": null,
   "metadata": {},
   "outputs": [],
   "source": [
    "fig =px.bar(df_ic,\n",
    "            x= 'genre',\n",
    "            y= 'average_income', \n",
    "            labels={'genre':'Genre'},\n",
    "            color = 'genre',\n",
    "            color_discrete_sequence = px.colors.sequential.Plasma,\n",
    "            template='plotly_dark',\n",
    "            title='<b> Average movie income w.r.t. Genre')\n",
    "\n",
    "fig.show()"
   ]
  },
  {
   "cell_type": "markdown",
   "metadata": {},
   "source": [
    "\n",
    "With respect to unique Genre Pairs :\n",
    "\n",
    "    Music, Romance, Sci-Fi is the best genre pairs to make highest Gross income.\n",
    "\n",
    "With respect to unique Genre :\n",
    "\n",
    "    Film_noir is the best genre to make highest gross income.\n"
   ]
  },
  {
   "cell_type": "markdown",
   "metadata": {},
   "source": []
  }
 ],
 "metadata": {
  "kaggle": {
   "accelerator": "none",
   "dataSources": [
    {
     "datasetId": 2432564,
     "sourceId": 4115259,
     "sourceType": "datasetVersion"
    }
   ],
   "dockerImageVersionId": 30301,
   "isGpuEnabled": false,
   "isInternetEnabled": false,
   "language": "python",
   "sourceType": "notebook"
  },
  "kernelspec": {
   "display_name": "Python 3 (ipykernel)",
   "language": "python",
   "name": "python3"
  },
  "language_info": {
   "codemirror_mode": {
    "name": "ipython",
    "version": 3
   },
   "file_extension": ".py",
   "mimetype": "text/x-python",
   "name": "python",
   "nbconvert_exporter": "python",
   "pygments_lexer": "ipython3",
   "version": "3.12.0"
  }
 },
 "nbformat": 4,
 "nbformat_minor": 4
}
